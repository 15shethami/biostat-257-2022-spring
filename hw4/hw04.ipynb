{
 "cells": [
  {
   "cell_type": "markdown",
   "metadata": {},
   "source": [
    "# Biostat 257 Homework 4\n",
    "\n",
    "**Due May 20 @ 11:59PM**"
   ]
  },
  {
   "cell_type": "code",
   "execution_count": 1,
   "metadata": {},
   "outputs": [
    {
     "name": "stdout",
     "output_type": "stream",
     "text": [
      "Julia Version 1.7.2\n",
      "Commit bf53498635 (2022-02-06 15:21 UTC)\n",
      "Platform Info:\n",
      "  OS: macOS (x86_64-apple-darwin19.5.0)\n",
      "  CPU: Intel(R) Core(TM) i5-4260U CPU @ 1.40GHz\n",
      "  WORD_SIZE: 64\n",
      "  LIBM: libopenlibm\n",
      "  LLVM: libLLVM-12.0.1 (ORCJIT, haswell)\n"
     ]
    }
   ],
   "source": [
    "versioninfo()"
   ]
  },
  {
   "cell_type": "markdown",
   "metadata": {},
   "source": [
    "We are going to try different numerical methods learnt in class on the [Google PageRank problem](https://en.wikipedia.org/wiki/PageRank)."
   ]
  },
  {
   "cell_type": "markdown",
   "metadata": {},
   "source": [
    "## Q1 (5 pts) Recognize structure\n",
    "\n",
    "Let $\\mathbf{A} \\in \\{0,1\\}^{n \\times n}$ be the connectivity matrix of $n$ web pages with entries\n",
    "$$\n",
    "\\begin{eqnarray*}\n",
    "\ta_{ij}= \\begin{cases}\n",
    "\t1 & \\text{if page $i$ links to page $j$} \\\\\n",
    "\t0 & \\text{otherwise}\n",
    "\t\\end{cases}.\n",
    "\\end{eqnarray*}\n",
    "$$\n",
    "$r_i = \\sum_j a_{ij}$ is the out-degree of page $i$. That is $r_i$ is the number of links on page $i$. Imagine a random surfer exploring the space of $n$ pages according to the following rules.  \n",
    "\n",
    "- From a page $i$ with $r_i>0$\n",
    "    * with probability $p$, (s)he randomly chooses a link on page $i$ (uniformly) and follows that link to the next page  \n",
    "    * with probability $1-p$, (s)he randomly chooses one page from the set of all $n$ pages (uniformly) and proceeds to that page  \n",
    "- From a page $i$ with $r_i=0$ (a dangling page), (s)he randomly chooses one page from the set of all $n$ pages (uniformly) and proceeds to that page  \n",
    "    \n",
    "The process defines a Markov chain on the space of $n$ pages. Write the transition matrix $\\mathbf{P}$ of the Markov chain as a sparse matrix plus rank 1 matrix."
   ]
  },
  {
   "cell_type": "markdown",
   "metadata": {},
   "source": [
    "#### Solution"
   ]
  },
  {
   "cell_type": "code",
   "execution_count": null,
   "metadata": {},
   "outputs": [],
   "source": []
  },
  {
   "cell_type": "markdown",
   "metadata": {},
   "source": [
    "## Q2 Relate to numerical linear algebra\n",
    "\n",
    "According to standard Markov chain theory, the (random) position of the surfer converges to the stationary distribution $\\mathbf{x} = (x_1,\\ldots,x_n)^T$ of the Markov chain. $x_i$ has the natural interpretation of the proportion of times the surfer visits page $i$ in the long run. Therefore $\\mathbf{x}$ serves as page ranks: a higher $x_i$ means page $i$ is more visited. It is well-known that $\\mathbf{x}$ is the left eigenvector corresponding to the top eigenvalue 1 of the transition matrix $\\mathbf{P}$. That is $\\mathbf{P}^T \\mathbf{x} = \\mathbf{x}$. Therefore $\\mathbf{x}$ can be solved as an **eigen-problem**. It can also be cast as **solving a linear system**. Since the row sums of $\\mathbf{P}$ are 1, $\\mathbf{P}$ is rank deficient. We can replace the first equation by the $\\sum_{i=1}^n x_i = 1$.\n",
    "\n",
    "Hint: For iterative solvers, we don't need to replace the 1st equation. We can use the matrix $\\mathbf{I} - \\mathbf{P}^T$ directly if we start with a vector with all positive entries."
   ]
  },
  {
   "cell_type": "markdown",
   "metadata": {},
   "source": [
    "## Q3 (10 pts) Explore data\n",
    "\n",
    "Obtain the connectivity matrix `A` from the `SNAP/web-Google` data in the MatrixDepot package. "
   ]
  },
  {
   "cell_type": "code",
   "execution_count": 13,
   "metadata": {},
   "outputs": [],
   "source": [
    "#import Pkg; Pkg.add(\"MatrixDepot\")\n",
    "#import Pkg; Pkg.add(\"UnicodePlots\")"
   ]
  },
  {
   "cell_type": "code",
   "execution_count": 2,
   "metadata": {},
   "outputs": [
    {
     "name": "stderr",
     "output_type": "stream",
     "text": [
      "┌ Info: verify download of index files...\n",
      "└ @ MatrixDepot /Users/amisheth/.julia/packages/MatrixDepot/GEDc3/src/MatrixDepot.jl:139\n",
      "┌ Info: reading database\n",
      "└ @ MatrixDepot /Users/amisheth/.julia/packages/MatrixDepot/GEDc3/src/download.jl:23\n",
      "┌ Info: adding metadata...\n",
      "└ @ MatrixDepot /Users/amisheth/.julia/packages/MatrixDepot/GEDc3/src/download.jl:67\n",
      "┌ Info: adding svd data...\n",
      "└ @ MatrixDepot /Users/amisheth/.julia/packages/MatrixDepot/GEDc3/src/download.jl:69\n",
      "┌ Info: writing database\n",
      "└ @ MatrixDepot /Users/amisheth/.julia/packages/MatrixDepot/GEDc3/src/download.jl:74\n",
      "┌ Info: used remote sites are sparse.tamu.edu with MAT index and math.nist.gov with HTML index\n",
      "└ @ MatrixDepot /Users/amisheth/.julia/packages/MatrixDepot/GEDc3/src/MatrixDepot.jl:141\n"
     ]
    },
    {
     "data": {
      "text/plain": [
       "(PG SNAP/web-Google(#2301)  916428x916428(5105039) 2002 [A] 'directed graph' [Web graph from Google])()"
      ]
     },
     "execution_count": 2,
     "metadata": {},
     "output_type": "execute_result"
    }
   ],
   "source": [
    "using MatrixDepot\n",
    "\n",
    "md = mdopen(\"SNAP/web-Google\")\n",
    "# display documentation for the SNAP/web-Google data\n",
    "# mdinfo(md)"
   ]
  },
  {
   "cell_type": "code",
   "execution_count": 3,
   "metadata": {},
   "outputs": [
    {
     "data": {
      "text/plain": [
       "916428×916428 SparseArrays.SparseMatrixCSC{Bool, Int64} with 5105039 stored entries:\n",
       "⣿⣿⣿⣿⣿⣿⣿⣿⣿⣿⣿⣿⣿⣿⣿⣿⣿⣿⣿⣿⣿⣿⣿⣿⣿⣿⣿⣿⣿⣿⣿⣿⣿⣿⣿⣿⣿⣿⣿⣿\n",
       "⣿⣿⣿⣿⣿⣿⣿⣿⣿⣿⣿⣿⣿⣿⣿⣿⣿⣿⣿⣿⣿⣿⣿⣿⣿⣿⣿⣿⣿⣿⣿⣿⣿⣿⣿⣿⣿⣿⣿⣿\n",
       "⣿⣿⣿⣿⣿⣿⣿⣿⣿⣿⣿⣿⣿⣿⣿⣿⣿⣿⣿⣿⣿⣿⣿⣿⣿⣿⣿⣿⣿⣿⣿⣿⣿⣿⣿⣿⣿⣿⣿⣿\n",
       "⣿⣿⣿⣿⣿⣿⣿⣿⣿⣿⣿⣿⣿⣿⣿⣿⣿⣿⣿⣿⣿⣿⣿⣿⣿⣿⣿⣿⣿⣿⣿⣿⣿⣿⣿⣿⣿⣿⣿⣿\n",
       "⣿⣿⣿⣿⣿⣿⣿⣿⣿⣿⣿⣿⣿⣿⣿⣿⣿⣿⣿⣿⣿⣿⣿⣿⣿⣿⣿⣿⣿⣿⣿⣿⣿⣿⣿⣿⣿⣿⣿⣿\n",
       "⣿⣿⣿⣿⣿⣿⣿⣿⣿⣿⣿⣿⣿⣿⣿⣿⣿⣿⣿⣿⣿⣿⣿⣿⣿⣿⣿⣿⣿⣿⣿⣿⣿⣿⣿⣿⣿⣿⣿⣿\n",
       "⣿⣿⣿⣿⣿⣿⣿⣿⣿⣿⣿⣿⣿⣿⣿⣿⣿⣿⣿⣿⣿⣿⣿⣿⣿⣿⣿⣿⣿⣿⣿⣿⣿⣿⣿⣿⣿⣿⣿⣿\n",
       "⣿⣿⣿⣿⣿⣿⣿⣿⣿⣿⣿⣿⣿⣿⣿⣿⣿⣿⣿⣿⣿⣿⣿⣿⣿⣿⣿⣿⣿⣿⣿⣿⣿⣿⣿⣿⣿⣿⣿⣿\n",
       "⣿⣿⣿⣿⣿⣿⣿⣿⣿⣿⣿⣿⣿⣿⣿⣿⣿⣿⣿⣿⣿⣿⣿⣿⣿⣿⣿⣿⣿⣿⣿⣿⣿⣿⣿⣿⣿⣿⣿⣿\n",
       "⣿⣿⣿⣿⣿⣿⣿⣿⣿⣿⣿⣿⣿⣿⣿⣿⣿⣿⣿⣿⣿⣿⣿⣿⣿⣿⣿⣿⣿⣿⣿⣿⣿⣿⣿⣿⣿⣿⣿⣿\n",
       "⣿⣿⣿⣿⣿⣿⣿⣿⣿⣿⣿⣿⣿⣿⣿⣿⣿⣿⣿⣿⣿⣿⣿⣿⣿⣿⣿⣿⣿⣿⣿⣿⣿⣿⣿⣿⣿⣿⣿⣿\n",
       "⣿⣿⣿⣿⣿⣿⣿⣿⣿⣿⣿⣿⣿⣿⣿⣿⣿⣿⣿⣿⣿⣿⣿⣿⣿⣿⣿⣿⣿⣿⣿⣿⣿⣿⣿⣿⣿⣿⣿⣿\n",
       "⣿⣿⣿⣿⣿⣿⣿⣿⣿⣿⣿⣿⣿⣿⣿⣿⣿⣿⣿⣿⣿⣿⣿⣿⣿⣿⣿⣿⣿⣿⣿⣿⣿⣿⣿⣿⣿⣿⣿⣿\n",
       "⣿⣿⣿⣿⣿⣿⣿⣿⣿⣿⣿⣿⣿⣿⣿⣿⣿⣿⣿⣿⣿⣿⣿⣿⣿⣿⣿⣿⣿⣿⣿⣿⣿⣿⣿⣿⣿⣿⣿⣿\n",
       "⣿⣿⣿⣿⣿⣿⣿⣿⣿⣿⣿⣿⣿⣿⣿⣿⣿⣿⣿⣿⣿⣿⣿⣿⣿⣿⣿⣿⣿⣿⣿⣿⣿⣿⣿⣿⣿⣿⣿⣿\n",
       "⣿⣿⣿⣿⣿⣿⣿⣿⣿⣿⣿⣿⣿⣿⣿⣿⣿⣿⣿⣿⣿⣿⣿⣿⣿⣿⣿⣿⣿⣿⣿⣿⣿⣿⣿⣿⣿⣿⣿⣿\n",
       "⣿⣿⣿⣿⣿⣿⣿⣿⣿⣿⣿⣿⣿⣿⣿⣿⣿⣿⣿⣿⣿⣿⣿⣿⣿⣿⣿⣿⣿⣿⣿⣿⣿⣿⣿⣿⣿⣿⣿⣿\n",
       "⣿⣿⣿⣿⣿⣿⣿⣿⣿⣿⣿⣿⣿⣿⣿⣿⣿⣿⣿⣿⣿⣿⣿⣿⣿⣿⣿⣿⣿⣿⣿⣿⣿⣿⣿⣿⣿⣿⣿⣿\n",
       "⣿⣿⣿⣿⣿⣿⣿⣿⣿⣿⣿⣿⣿⣿⣿⣿⣿⣿⣿⣿⣿⣿⣿⣿⣿⣿⣿⣿⣿⣿⣿⣿⣿⣿⣿⣿⣿⣿⣿⣿\n",
       "⣿⣿⣿⣿⣿⣿⣿⣿⣿⣿⣿⣿⣿⣿⣿⣿⣿⣿⣿⣿⣿⣿⣿⣿⣿⣿⣿⣿⣿⣿⣿⣿⣿⣿⣿⣿⣿⣿⣿⣿"
      ]
     },
     "execution_count": 3,
     "metadata": {},
     "output_type": "execute_result"
    }
   ],
   "source": [
    "# connectivity matrix\n",
    "A = md.A"
   ]
  },
  {
   "cell_type": "markdown",
   "metadata": {},
   "source": [
    "Compute summary statistics:\n",
    "* How much memory does `A` take? If converted to a `Matrix{Float64}` (don't do it!), how much memory will it take?  \n",
    "* number of web pages\n",
    "* number of edges (web links). \n",
    "* number of dangling nodes (pages with no out links)\n",
    "* histogram of in-degrees  \n",
    "* list the top 20 pages with the largest in-degrees?  \n",
    "* histogram of out-degrees\n",
    "* which the top 20 pages with the largest out-degrees?\n",
    "* visualize the sparsity pattern of $\\mathbf{A}$ or a submatrix of $\\mathbf{A}$ say `A[1:10000, 1:10000]`. \n",
    "\n",
    "**Hint**: For plots, you can use the [UnicodePlots.jl](https://github.com/Evizero/UnicodePlots.jl) package (`spy`, `histogram`, etc), which is fast for large data. "
   ]
  },
  {
   "cell_type": "markdown",
   "metadata": {},
   "source": [
    "#### Summary Statistics Solutions"
   ]
  },
  {
   "cell_type": "markdown",
   "metadata": {},
   "source": [
    "1. How much memory does `A` take? If converted to a `Matrix{Float64}`, how much memory will it take?"
   ]
  },
  {
   "cell_type": "code",
   "execution_count": 4,
   "metadata": {},
   "outputs": [
    {
     "data": {
      "text/plain": [
       "53276943"
      ]
     },
     "execution_count": 4,
     "metadata": {},
     "output_type": "execute_result"
    }
   ],
   "source": [
    "Base.summarysize(A) # storing non-zero float entries and indices"
   ]
  },
  {
   "cell_type": "markdown",
   "metadata": {},
   "source": [
    "`A` takes 53.28 megabytes of memory. If converted to `Matrix{Float64}`, `A` would take $n^2$ (number of double-precision elements in `A`) * $8$ bytes (memory per `Float64`) = $6.72$ TB."
   ]
  },
  {
   "cell_type": "markdown",
   "metadata": {},
   "source": [
    "2. Number of web pages"
   ]
  },
  {
   "cell_type": "code",
   "execution_count": 61,
   "metadata": {},
   "outputs": [
    {
     "data": {
      "text/plain": [
       "916428"
      ]
     },
     "execution_count": 61,
     "metadata": {},
     "output_type": "execute_result"
    }
   ],
   "source": [
    "size(A, 1) # why is this node number different than in description?"
   ]
  },
  {
   "cell_type": "markdown",
   "metadata": {},
   "source": [
    "3. Number of edges (web links)"
   ]
  },
  {
   "cell_type": "code",
   "execution_count": 62,
   "metadata": {},
   "outputs": [
    {
     "data": {
      "text/plain": [
       "5105039"
      ]
     },
     "execution_count": 62,
     "metadata": {},
     "output_type": "execute_result"
    }
   ],
   "source": [
    "count(!iszero, A)"
   ]
  },
  {
   "cell_type": "markdown",
   "metadata": {},
   "source": [
    "4. Number of dangling nodes (pages with no links)"
   ]
  },
  {
   "cell_type": "code",
   "execution_count": 74,
   "metadata": {},
   "outputs": [
    {
     "data": {
      "text/plain": [
       "176974"
      ]
     },
     "execution_count": 74,
     "metadata": {},
     "output_type": "execute_result"
    }
   ],
   "source": [
    "# column sums\n",
    "outdegree = sum(A, dims = 2) \n",
    "count(iszero, outdegree)"
   ]
  },
  {
   "cell_type": "markdown",
   "metadata": {},
   "source": [
    "5. Histogram of in-degrees"
   ]
  },
  {
   "cell_type": "code",
   "execution_count": 64,
   "metadata": {},
   "outputs": [
    {
     "data": {
      "text/plain": [
       "                    \u001b[38;5;8m┌                                        ┐\u001b[0m \n",
       "   [   0.0,  500.0) \u001b[38;5;8m┤\u001b[0m\u001b[38;5;2m████████████████████████████████\u001b[0m\u001b[38;5;2m \u001b[0m 916114\u001b[38;5;8m \u001b[0m \u001b[38;5;8m\u001b[0m\n",
       "   [ 500.0, 1000.0) \u001b[38;5;8m┤\u001b[0m\u001b[38;5;2m\u001b[0m\u001b[38;5;2m▏\u001b[0m 180                                   \u001b[38;5;8m \u001b[0m \u001b[38;5;8m\u001b[0m\n",
       "   [1000.0, 1500.0) \u001b[38;5;8m┤\u001b[0m\u001b[38;5;2m\u001b[0m\u001b[38;5;2m▏\u001b[0m 32                                    \u001b[38;5;8m \u001b[0m \u001b[38;5;8m\u001b[0m\n",
       "   [1500.0, 2000.0) \u001b[38;5;8m┤\u001b[0m\u001b[38;5;2m\u001b[0m\u001b[38;5;2m▏\u001b[0m 20                                    \u001b[38;5;8m \u001b[0m \u001b[38;5;8m\u001b[0m\n",
       "   [2000.0, 2500.0) \u001b[38;5;8m┤\u001b[0m\u001b[38;5;2m\u001b[0m\u001b[38;5;2m▏\u001b[0m 16                                    \u001b[38;5;8m \u001b[0m \u001b[38;5;8m\u001b[0m\n",
       "   [2500.0, 3000.0) \u001b[38;5;8m┤\u001b[0m\u001b[38;5;2m\u001b[0m\u001b[38;5;2m▏\u001b[0m 20                                    \u001b[38;5;8m \u001b[0m \u001b[38;5;8m\u001b[0m\n",
       "   [3000.0, 3500.0) \u001b[38;5;8m┤\u001b[0m\u001b[38;5;2m\u001b[0m\u001b[38;5;2m▏\u001b[0m 18                                    \u001b[38;5;8m \u001b[0m \u001b[38;5;8m\u001b[0m\n",
       "   [3500.0, 4000.0) \u001b[38;5;8m┤\u001b[0m\u001b[38;5;2m\u001b[0m\u001b[38;5;2m▏\u001b[0m 10                                    \u001b[38;5;8m \u001b[0m \u001b[38;5;8m\u001b[0m\n",
       "   [4000.0, 4500.0) \u001b[38;5;8m┤\u001b[0m\u001b[38;5;2m\u001b[0m\u001b[38;5;2m▏\u001b[0m 9                                     \u001b[38;5;8m \u001b[0m \u001b[38;5;8m\u001b[0m\n",
       "   [4500.0, 5000.0) \u001b[38;5;8m┤\u001b[0m\u001b[38;5;2m\u001b[0m\u001b[38;5;2m▏\u001b[0m 4                                     \u001b[38;5;8m \u001b[0m \u001b[38;5;8m\u001b[0m\n",
       "   [5000.0, 5500.0) \u001b[38;5;8m┤\u001b[0m\u001b[38;5;2m\u001b[0m\u001b[38;5;2m▏\u001b[0m 4                                     \u001b[38;5;8m \u001b[0m \u001b[38;5;8m\u001b[0m\n",
       "   [5500.0, 6000.0) \u001b[38;5;8m┤\u001b[0m\u001b[38;5;2m\u001b[0m\u001b[38;5;2m \u001b[0m 0                                     \u001b[38;5;8m \u001b[0m \u001b[38;5;8m\u001b[0m\n",
       "   [6000.0, 6500.0) \u001b[38;5;8m┤\u001b[0m\u001b[38;5;2m\u001b[0m\u001b[38;5;2m▏\u001b[0m 1                                     \u001b[38;5;8m \u001b[0m \u001b[38;5;8m\u001b[0m\n",
       "                    \u001b[38;5;8m└                                        ┘\u001b[0m \n",
       "                                     Frequency                 "
      ]
     },
     "execution_count": 64,
     "metadata": {},
     "output_type": "execute_result"
    }
   ],
   "source": [
    "using UnicodePlots\n",
    "\n",
    "indegree = sum(A, dims = 1) \n",
    "histogram(indegree)"
   ]
  },
  {
   "cell_type": "markdown",
   "metadata": {},
   "source": [
    "6. List the top 20 pages with largest in-degrees"
   ]
  },
  {
   "cell_type": "code",
   "execution_count": 72,
   "metadata": {},
   "outputs": [
    {
     "data": {
      "text/plain": [
       "20-element Vector{Int64}:\n",
       " 537040\n",
       " 597622\n",
       " 504141\n",
       " 751385\n",
       "  32164\n",
       " 885606\n",
       " 163076\n",
       " 819224\n",
       " 605857\n",
       " 828964\n",
       " 551830\n",
       "  41910\n",
       " 558792\n",
       " 459075\n",
       " 407611\n",
       " 213433\n",
       " 765335\n",
       " 384667\n",
       " 173977\n",
       " 687326"
      ]
     },
     "execution_count": 72,
     "metadata": {},
     "output_type": "execute_result"
    }
   ],
   "source": [
    "sortperm(indegree[1, :], rev = true)[1:20]"
   ]
  },
  {
   "cell_type": "markdown",
   "metadata": {},
   "source": [
    "7. Histogram of out-degrees"
   ]
  },
  {
   "cell_type": "code",
   "execution_count": 75,
   "metadata": {},
   "outputs": [
    {
     "data": {
      "text/plain": [
       "                  \u001b[38;5;8m┌                                        ┐\u001b[0m \n",
       "   [  0.0,  20.0) \u001b[38;5;8m┤\u001b[0m\u001b[38;5;2m████████████████████████████████\u001b[0m\u001b[38;5;2m \u001b[0m 891798\u001b[38;5;8m \u001b[0m \u001b[38;5;8m\u001b[0m\n",
       "   [ 20.0,  40.0) \u001b[38;5;8m┤\u001b[0m\u001b[38;5;2m\u001b[0m\u001b[38;5;2m▊\u001b[0m 22628                                 \u001b[38;5;8m \u001b[0m \u001b[38;5;8m\u001b[0m\n",
       "   [ 40.0,  60.0) \u001b[38;5;8m┤\u001b[0m\u001b[38;5;2m\u001b[0m\u001b[38;5;2m▏\u001b[0m 1329                                  \u001b[38;5;8m \u001b[0m \u001b[38;5;8m\u001b[0m\n",
       "   [ 60.0,  80.0) \u001b[38;5;8m┤\u001b[0m\u001b[38;5;2m\u001b[0m\u001b[38;5;2m▏\u001b[0m 371                                   \u001b[38;5;8m \u001b[0m \u001b[38;5;8m\u001b[0m\n",
       "   [ 80.0, 100.0) \u001b[38;5;8m┤\u001b[0m\u001b[38;5;2m\u001b[0m\u001b[38;5;2m▏\u001b[0m 124                                   \u001b[38;5;8m \u001b[0m \u001b[38;5;8m\u001b[0m\n",
       "   [100.0, 120.0) \u001b[38;5;8m┤\u001b[0m\u001b[38;5;2m\u001b[0m\u001b[38;5;2m▏\u001b[0m 86                                    \u001b[38;5;8m \u001b[0m \u001b[38;5;8m\u001b[0m\n",
       "   [120.0, 140.0) \u001b[38;5;8m┤\u001b[0m\u001b[38;5;2m\u001b[0m\u001b[38;5;2m▏\u001b[0m 29                                    \u001b[38;5;8m \u001b[0m \u001b[38;5;8m\u001b[0m\n",
       "   [140.0, 160.0) \u001b[38;5;8m┤\u001b[0m\u001b[38;5;2m\u001b[0m\u001b[38;5;2m▏\u001b[0m 15                                    \u001b[38;5;8m \u001b[0m \u001b[38;5;8m\u001b[0m\n",
       "   [160.0, 180.0) \u001b[38;5;8m┤\u001b[0m\u001b[38;5;2m\u001b[0m\u001b[38;5;2m▏\u001b[0m 15                                    \u001b[38;5;8m \u001b[0m \u001b[38;5;8m\u001b[0m\n",
       "   [180.0, 200.0) \u001b[38;5;8m┤\u001b[0m\u001b[38;5;2m\u001b[0m\u001b[38;5;2m▏\u001b[0m 8                                     \u001b[38;5;8m \u001b[0m \u001b[38;5;8m\u001b[0m\n",
       "   [200.0, 220.0) \u001b[38;5;8m┤\u001b[0m\u001b[38;5;2m\u001b[0m\u001b[38;5;2m▏\u001b[0m 7                                     \u001b[38;5;8m \u001b[0m \u001b[38;5;8m\u001b[0m\n",
       "   [220.0, 240.0) \u001b[38;5;8m┤\u001b[0m\u001b[38;5;2m\u001b[0m\u001b[38;5;2m▏\u001b[0m 3                                     \u001b[38;5;8m \u001b[0m \u001b[38;5;8m\u001b[0m\n",
       "   [240.0, 260.0) \u001b[38;5;8m┤\u001b[0m\u001b[38;5;2m\u001b[0m\u001b[38;5;2m▏\u001b[0m 8                                     \u001b[38;5;8m \u001b[0m \u001b[38;5;8m\u001b[0m\n",
       "   [260.0, 280.0) \u001b[38;5;8m┤\u001b[0m\u001b[38;5;2m\u001b[0m\u001b[38;5;2m▏\u001b[0m 3                                     \u001b[38;5;8m \u001b[0m \u001b[38;5;8m\u001b[0m\n",
       "   [280.0, 300.0) \u001b[38;5;8m┤\u001b[0m\u001b[38;5;2m\u001b[0m\u001b[38;5;2m \u001b[0m 0                                     \u001b[38;5;8m \u001b[0m \u001b[38;5;8m\u001b[0m\n",
       "   [300.0, 320.0) \u001b[38;5;8m┤\u001b[0m\u001b[38;5;2m\u001b[0m\u001b[38;5;2m \u001b[0m 0                                     \u001b[38;5;8m \u001b[0m \u001b[38;5;8m\u001b[0m\n",
       "   [320.0, 340.0) \u001b[38;5;8m┤\u001b[0m\u001b[38;5;2m\u001b[0m\u001b[38;5;2m▏\u001b[0m 1                                     \u001b[38;5;8m \u001b[0m \u001b[38;5;8m\u001b[0m\n",
       "   [340.0, 360.0) \u001b[38;5;8m┤\u001b[0m\u001b[38;5;2m\u001b[0m\u001b[38;5;2m \u001b[0m 0                                     \u001b[38;5;8m \u001b[0m \u001b[38;5;8m\u001b[0m\n",
       "   [360.0, 380.0) \u001b[38;5;8m┤\u001b[0m\u001b[38;5;2m\u001b[0m\u001b[38;5;2m▏\u001b[0m 2                                     \u001b[38;5;8m \u001b[0m \u001b[38;5;8m\u001b[0m\n",
       "   [380.0, 400.0) \u001b[38;5;8m┤\u001b[0m\u001b[38;5;2m\u001b[0m\u001b[38;5;2m \u001b[0m 0                                     \u001b[38;5;8m \u001b[0m \u001b[38;5;8m\u001b[0m\n",
       "   [400.0, 420.0) \u001b[38;5;8m┤\u001b[0m\u001b[38;5;2m\u001b[0m\u001b[38;5;2m \u001b[0m 0                                     \u001b[38;5;8m \u001b[0m \u001b[38;5;8m\u001b[0m\n",
       "   [420.0, 440.0) \u001b[38;5;8m┤\u001b[0m\u001b[38;5;2m\u001b[0m\u001b[38;5;2m \u001b[0m 0                                     \u001b[38;5;8m \u001b[0m \u001b[38;5;8m\u001b[0m\n",
       "   [440.0, 460.0) \u001b[38;5;8m┤\u001b[0m\u001b[38;5;2m\u001b[0m\u001b[38;5;2m▏\u001b[0m 1                                     \u001b[38;5;8m \u001b[0m \u001b[38;5;8m\u001b[0m\n",
       "                  \u001b[38;5;8m└                                        ┘\u001b[0m \n",
       "                                   Frequency                 "
      ]
     },
     "execution_count": 75,
     "metadata": {},
     "output_type": "execute_result"
    }
   ],
   "source": [
    "histogram(outdegree)"
   ]
  },
  {
   "cell_type": "markdown",
   "metadata": {},
   "source": [
    "8. List the top 20 pages with the largest out-degrees"
   ]
  },
  {
   "cell_type": "code",
   "execution_count": 76,
   "metadata": {},
   "outputs": [
    {
     "data": {
      "text/plain": [
       "20-element Vector{Int64}:\n",
       " 506743\n",
       " 203749\n",
       " 305230\n",
       " 768092\n",
       " 808644\n",
       " 412411\n",
       " 600480\n",
       " 376429\n",
       " 156951\n",
       " 885729\n",
       " 667585\n",
       " 685696\n",
       " 282141\n",
       " 598189\n",
       " 579315\n",
       " 411594\n",
       " 321092\n",
       " 838279\n",
       " 302734\n",
       " 915274"
      ]
     },
     "execution_count": 76,
     "metadata": {},
     "output_type": "execute_result"
    }
   ],
   "source": [
    "sortperm(outdegree[:, 1], rev = true)[1:20]"
   ]
  },
  {
   "cell_type": "markdown",
   "metadata": {},
   "source": [
    "9. Visualize the sparsity pattern of $\\mathbf{A}$ or a submatrix of $\\mathbf{A}$ say `A[1:10000, 1:10000]`"
   ]
  },
  {
   "cell_type": "code",
   "execution_count": 14,
   "metadata": {},
   "outputs": [
    {
     "data": {
      "text/plain": [
       "          ⠀⠀⠀⠀⠀⠀⠀⠀⠀⠀⠀⠀⠀⠀\u001b[97;1mSparsity Pattern\u001b[0m⠀⠀⠀⠀⠀⠀⠀⠀⠀⠀⠀⠀⠀⠀    \n",
       "          \u001b[38;5;8m┌──────────────────────────────────────────┐\u001b[0m    \n",
       "        \u001b[38;5;8m1\u001b[0m \u001b[38;5;8m│\u001b[0m\u001b[38;5;1m⣿\u001b[0m\u001b[38;5;1m⣿\u001b[0m\u001b[38;5;1m⣿\u001b[0m\u001b[38;5;1m⣿\u001b[0m\u001b[38;5;1m⣿\u001b[0m\u001b[38;5;1m⣿\u001b[0m\u001b[38;5;1m⣿\u001b[0m\u001b[38;5;1m⣿\u001b[0m\u001b[38;5;1m⣿\u001b[0m\u001b[38;5;1m⣿\u001b[0m\u001b[38;5;1m⣿\u001b[0m\u001b[38;5;1m⣿\u001b[0m\u001b[38;5;1m⣿\u001b[0m\u001b[38;5;1m⣿\u001b[0m\u001b[38;5;1m⣿\u001b[0m\u001b[38;5;1m⣿\u001b[0m\u001b[38;5;1m⣿\u001b[0m\u001b[38;5;1m⣿\u001b[0m\u001b[38;5;1m⣿\u001b[0m\u001b[38;5;1m⣿\u001b[0m\u001b[38;5;1m⣿\u001b[0m\u001b[38;5;1m⣿\u001b[0m\u001b[38;5;1m⣿\u001b[0m\u001b[38;5;1m⣿\u001b[0m\u001b[38;5;1m⣿\u001b[0m\u001b[38;5;1m⣿\u001b[0m\u001b[38;5;1m⣿\u001b[0m\u001b[38;5;1m⣿\u001b[0m\u001b[38;5;1m⣿\u001b[0m\u001b[38;5;1m⣿\u001b[0m\u001b[38;5;1m⣿\u001b[0m\u001b[38;5;1m⣿\u001b[0m\u001b[38;5;1m⣿\u001b[0m\u001b[38;5;1m⣿\u001b[0m\u001b[38;5;1m⣿\u001b[0m\u001b[38;5;1m⣿\u001b[0m\u001b[38;5;1m⣿\u001b[0m\u001b[38;5;1m⣿\u001b[0m\u001b[38;5;1m⣿\u001b[0m\u001b[38;5;1m⣿\u001b[0m\u001b[38;5;1m⣿\u001b[0m\u001b[38;5;1m⣿\u001b[0m\u001b[38;5;8m│\u001b[0m \u001b[38;5;1m> 0\u001b[0m\n",
       "         \u001b[38;5;8m\u001b[0m \u001b[38;5;8m│\u001b[0m\u001b[38;5;1m⣿\u001b[0m\u001b[38;5;1m⣿\u001b[0m\u001b[38;5;1m⣿\u001b[0m\u001b[38;5;1m⣿\u001b[0m\u001b[38;5;1m⣿\u001b[0m\u001b[38;5;1m⣿\u001b[0m\u001b[38;5;1m⣿\u001b[0m\u001b[38;5;1m⣿\u001b[0m\u001b[38;5;1m⣿\u001b[0m\u001b[38;5;1m⣿\u001b[0m\u001b[38;5;1m⣿\u001b[0m\u001b[38;5;1m⣿\u001b[0m\u001b[38;5;1m⣿\u001b[0m\u001b[38;5;1m⣿\u001b[0m\u001b[38;5;1m⣿\u001b[0m\u001b[38;5;1m⣿\u001b[0m\u001b[38;5;1m⣿\u001b[0m\u001b[38;5;1m⣿\u001b[0m\u001b[38;5;1m⣿\u001b[0m\u001b[38;5;1m⣿\u001b[0m\u001b[38;5;1m⣿\u001b[0m\u001b[38;5;1m⣿\u001b[0m\u001b[38;5;1m⣿\u001b[0m\u001b[38;5;1m⣿\u001b[0m\u001b[38;5;1m⣿\u001b[0m\u001b[38;5;1m⣿\u001b[0m\u001b[38;5;1m⣿\u001b[0m\u001b[38;5;1m⣿\u001b[0m\u001b[38;5;1m⣿\u001b[0m\u001b[38;5;1m⣿\u001b[0m\u001b[38;5;1m⣿\u001b[0m\u001b[38;5;1m⣿\u001b[0m\u001b[38;5;1m⣿\u001b[0m\u001b[38;5;1m⣿\u001b[0m\u001b[38;5;1m⣿\u001b[0m\u001b[38;5;1m⣿\u001b[0m\u001b[38;5;1m⣿\u001b[0m\u001b[38;5;1m⣿\u001b[0m\u001b[38;5;1m⣿\u001b[0m\u001b[38;5;1m⣿\u001b[0m\u001b[38;5;1m⣿\u001b[0m\u001b[38;5;1m⣿\u001b[0m\u001b[38;5;8m│\u001b[0m \u001b[38;5;4m< 0\u001b[0m\n",
       "         \u001b[38;5;8m\u001b[0m \u001b[38;5;8m│\u001b[0m\u001b[38;5;1m⣿\u001b[0m\u001b[38;5;1m⣿\u001b[0m\u001b[38;5;1m⣿\u001b[0m\u001b[38;5;1m⣿\u001b[0m\u001b[38;5;1m⣿\u001b[0m\u001b[38;5;1m⣿\u001b[0m\u001b[38;5;1m⣿\u001b[0m\u001b[38;5;1m⣿\u001b[0m\u001b[38;5;1m⣿\u001b[0m\u001b[38;5;1m⣿\u001b[0m\u001b[38;5;1m⣿\u001b[0m\u001b[38;5;1m⣿\u001b[0m\u001b[38;5;1m⣿\u001b[0m\u001b[38;5;1m⣿\u001b[0m\u001b[38;5;1m⣿\u001b[0m\u001b[38;5;1m⣿\u001b[0m\u001b[38;5;1m⣿\u001b[0m\u001b[38;5;1m⣿\u001b[0m\u001b[38;5;1m⣿\u001b[0m\u001b[38;5;1m⣿\u001b[0m\u001b[38;5;1m⣿\u001b[0m\u001b[38;5;1m⣿\u001b[0m\u001b[38;5;1m⣿\u001b[0m\u001b[38;5;1m⣿\u001b[0m\u001b[38;5;1m⣿\u001b[0m\u001b[38;5;1m⣿\u001b[0m\u001b[38;5;1m⣿\u001b[0m\u001b[38;5;1m⣿\u001b[0m\u001b[38;5;1m⣿\u001b[0m\u001b[38;5;1m⣿\u001b[0m\u001b[38;5;1m⣿\u001b[0m\u001b[38;5;1m⣿\u001b[0m\u001b[38;5;1m⣿\u001b[0m\u001b[38;5;1m⣿\u001b[0m\u001b[38;5;1m⣿\u001b[0m\u001b[38;5;1m⣿\u001b[0m\u001b[38;5;1m⣿\u001b[0m\u001b[38;5;1m⣿\u001b[0m\u001b[38;5;1m⣿\u001b[0m\u001b[38;5;1m⣿\u001b[0m\u001b[38;5;1m⣿\u001b[0m\u001b[38;5;1m⣿\u001b[0m\u001b[38;5;8m│\u001b[0m \u001b[38;5;8m\u001b[0m   \n",
       "         \u001b[38;5;8m\u001b[0m \u001b[38;5;8m│\u001b[0m\u001b[38;5;1m⣿\u001b[0m\u001b[38;5;1m⣿\u001b[0m\u001b[38;5;1m⣿\u001b[0m\u001b[38;5;1m⣿\u001b[0m\u001b[38;5;1m⣿\u001b[0m\u001b[38;5;1m⣿\u001b[0m\u001b[38;5;1m⣿\u001b[0m\u001b[38;5;1m⣿\u001b[0m\u001b[38;5;1m⣿\u001b[0m\u001b[38;5;1m⣿\u001b[0m\u001b[38;5;1m⣿\u001b[0m\u001b[38;5;1m⣿\u001b[0m\u001b[38;5;1m⣿\u001b[0m\u001b[38;5;1m⣿\u001b[0m\u001b[38;5;1m⣿\u001b[0m\u001b[38;5;1m⣿\u001b[0m\u001b[38;5;1m⣿\u001b[0m\u001b[38;5;1m⣿\u001b[0m\u001b[38;5;1m⣿\u001b[0m\u001b[38;5;1m⣿\u001b[0m\u001b[38;5;1m⣿\u001b[0m\u001b[38;5;1m⣿\u001b[0m\u001b[38;5;1m⣿\u001b[0m\u001b[38;5;1m⣿\u001b[0m\u001b[38;5;1m⣿\u001b[0m\u001b[38;5;1m⣿\u001b[0m\u001b[38;5;1m⣿\u001b[0m\u001b[38;5;1m⣿\u001b[0m\u001b[38;5;1m⣿\u001b[0m\u001b[38;5;1m⣿\u001b[0m\u001b[38;5;1m⣿\u001b[0m\u001b[38;5;1m⣿\u001b[0m\u001b[38;5;1m⣿\u001b[0m\u001b[38;5;1m⣿\u001b[0m\u001b[38;5;1m⣿\u001b[0m\u001b[38;5;1m⣿\u001b[0m\u001b[38;5;1m⣿\u001b[0m\u001b[38;5;1m⣿\u001b[0m\u001b[38;5;1m⣿\u001b[0m\u001b[38;5;1m⣿\u001b[0m\u001b[38;5;1m⣿\u001b[0m\u001b[38;5;1m⣿\u001b[0m\u001b[38;5;8m│\u001b[0m \u001b[38;5;8m\u001b[0m   \n",
       "         \u001b[38;5;8m\u001b[0m \u001b[38;5;8m│\u001b[0m\u001b[38;5;1m⣿\u001b[0m\u001b[38;5;1m⣿\u001b[0m\u001b[38;5;1m⣿\u001b[0m\u001b[38;5;1m⣿\u001b[0m\u001b[38;5;1m⣿\u001b[0m\u001b[38;5;1m⣿\u001b[0m\u001b[38;5;1m⣿\u001b[0m\u001b[38;5;1m⣿\u001b[0m\u001b[38;5;1m⣿\u001b[0m\u001b[38;5;1m⣿\u001b[0m\u001b[38;5;1m⣿\u001b[0m\u001b[38;5;1m⣿\u001b[0m\u001b[38;5;1m⣿\u001b[0m\u001b[38;5;1m⣿\u001b[0m\u001b[38;5;1m⣿\u001b[0m\u001b[38;5;1m⣿\u001b[0m\u001b[38;5;1m⣿\u001b[0m\u001b[38;5;1m⣿\u001b[0m\u001b[38;5;1m⣿\u001b[0m\u001b[38;5;1m⣿\u001b[0m\u001b[38;5;1m⣿\u001b[0m\u001b[38;5;1m⣿\u001b[0m\u001b[38;5;1m⣿\u001b[0m\u001b[38;5;1m⣿\u001b[0m\u001b[38;5;1m⣿\u001b[0m\u001b[38;5;1m⣿\u001b[0m\u001b[38;5;1m⣿\u001b[0m\u001b[38;5;1m⣿\u001b[0m\u001b[38;5;1m⣿\u001b[0m\u001b[38;5;1m⣿\u001b[0m\u001b[38;5;1m⣿\u001b[0m\u001b[38;5;1m⣿\u001b[0m\u001b[38;5;1m⣿\u001b[0m\u001b[38;5;1m⣿\u001b[0m\u001b[38;5;1m⣿\u001b[0m\u001b[38;5;1m⣿\u001b[0m\u001b[38;5;1m⣿\u001b[0m\u001b[38;5;1m⣿\u001b[0m\u001b[38;5;1m⣿\u001b[0m\u001b[38;5;1m⣿\u001b[0m\u001b[38;5;1m⣿\u001b[0m\u001b[38;5;1m⣿\u001b[0m\u001b[38;5;8m│\u001b[0m \u001b[38;5;8m\u001b[0m   \n",
       "         \u001b[38;5;8m\u001b[0m \u001b[38;5;8m│\u001b[0m\u001b[38;5;1m⣿\u001b[0m\u001b[38;5;1m⣿\u001b[0m\u001b[38;5;1m⣿\u001b[0m\u001b[38;5;1m⣿\u001b[0m\u001b[38;5;1m⣿\u001b[0m\u001b[38;5;1m⣿\u001b[0m\u001b[38;5;1m⣿\u001b[0m\u001b[38;5;1m⣿\u001b[0m\u001b[38;5;1m⣿\u001b[0m\u001b[38;5;1m⣿\u001b[0m\u001b[38;5;1m⣿\u001b[0m\u001b[38;5;1m⣿\u001b[0m\u001b[38;5;1m⣿\u001b[0m\u001b[38;5;1m⣿\u001b[0m\u001b[38;5;1m⣿\u001b[0m\u001b[38;5;1m⣿\u001b[0m\u001b[38;5;1m⣿\u001b[0m\u001b[38;5;1m⣿\u001b[0m\u001b[38;5;1m⣿\u001b[0m\u001b[38;5;1m⣿\u001b[0m\u001b[38;5;1m⣿\u001b[0m\u001b[38;5;1m⣿\u001b[0m\u001b[38;5;1m⣿\u001b[0m\u001b[38;5;1m⣿\u001b[0m\u001b[38;5;1m⣿\u001b[0m\u001b[38;5;1m⣿\u001b[0m\u001b[38;5;1m⣿\u001b[0m\u001b[38;5;1m⣿\u001b[0m\u001b[38;5;1m⣿\u001b[0m\u001b[38;5;1m⣿\u001b[0m\u001b[38;5;1m⣿\u001b[0m\u001b[38;5;1m⣿\u001b[0m\u001b[38;5;1m⣿\u001b[0m\u001b[38;5;1m⣿\u001b[0m\u001b[38;5;1m⣿\u001b[0m\u001b[38;5;1m⣿\u001b[0m\u001b[38;5;1m⣿\u001b[0m\u001b[38;5;1m⣿\u001b[0m\u001b[38;5;1m⣿\u001b[0m\u001b[38;5;1m⣿\u001b[0m\u001b[38;5;1m⣿\u001b[0m\u001b[38;5;1m⣿\u001b[0m\u001b[38;5;8m│\u001b[0m \u001b[38;5;8m\u001b[0m   \n",
       "         \u001b[38;5;8m\u001b[0m \u001b[38;5;8m│\u001b[0m\u001b[38;5;1m⣿\u001b[0m\u001b[38;5;1m⣿\u001b[0m\u001b[38;5;1m⣿\u001b[0m\u001b[38;5;1m⣿\u001b[0m\u001b[38;5;1m⣿\u001b[0m\u001b[38;5;1m⣿\u001b[0m\u001b[38;5;1m⣿\u001b[0m\u001b[38;5;1m⣿\u001b[0m\u001b[38;5;1m⣿\u001b[0m\u001b[38;5;1m⣿\u001b[0m\u001b[38;5;1m⣿\u001b[0m\u001b[38;5;1m⣿\u001b[0m\u001b[38;5;1m⣿\u001b[0m\u001b[38;5;1m⣿\u001b[0m\u001b[38;5;1m⣿\u001b[0m\u001b[38;5;1m⣿\u001b[0m\u001b[38;5;1m⣿\u001b[0m\u001b[38;5;1m⣿\u001b[0m\u001b[38;5;1m⣿\u001b[0m\u001b[38;5;1m⣿\u001b[0m\u001b[38;5;1m⣿\u001b[0m\u001b[38;5;1m⣿\u001b[0m\u001b[38;5;1m⣿\u001b[0m\u001b[38;5;1m⣿\u001b[0m\u001b[38;5;1m⣿\u001b[0m\u001b[38;5;1m⣿\u001b[0m\u001b[38;5;1m⣿\u001b[0m\u001b[38;5;1m⣿\u001b[0m\u001b[38;5;1m⣿\u001b[0m\u001b[38;5;1m⣿\u001b[0m\u001b[38;5;1m⣿\u001b[0m\u001b[38;5;1m⣿\u001b[0m\u001b[38;5;1m⣿\u001b[0m\u001b[38;5;1m⣿\u001b[0m\u001b[38;5;1m⣿\u001b[0m\u001b[38;5;1m⣿\u001b[0m\u001b[38;5;1m⣿\u001b[0m\u001b[38;5;1m⣿\u001b[0m\u001b[38;5;1m⣿\u001b[0m\u001b[38;5;1m⣿\u001b[0m\u001b[38;5;1m⣿\u001b[0m\u001b[38;5;1m⣿\u001b[0m\u001b[38;5;8m│\u001b[0m \u001b[38;5;8m\u001b[0m   \n",
       "         \u001b[38;5;8m\u001b[0m \u001b[38;5;8m│\u001b[0m\u001b[38;5;1m⣿\u001b[0m\u001b[38;5;1m⣿\u001b[0m\u001b[38;5;1m⣿\u001b[0m\u001b[38;5;1m⣿\u001b[0m\u001b[38;5;1m⣿\u001b[0m\u001b[38;5;1m⣿\u001b[0m\u001b[38;5;1m⣿\u001b[0m\u001b[38;5;1m⣿\u001b[0m\u001b[38;5;1m⣿\u001b[0m\u001b[38;5;1m⣿\u001b[0m\u001b[38;5;1m⣿\u001b[0m\u001b[38;5;1m⣿\u001b[0m\u001b[38;5;1m⣿\u001b[0m\u001b[38;5;1m⣿\u001b[0m\u001b[38;5;1m⣿\u001b[0m\u001b[38;5;1m⣿\u001b[0m\u001b[38;5;1m⣿\u001b[0m\u001b[38;5;1m⣿\u001b[0m\u001b[38;5;1m⣿\u001b[0m\u001b[38;5;1m⣿\u001b[0m\u001b[38;5;1m⣿\u001b[0m\u001b[38;5;1m⣿\u001b[0m\u001b[38;5;1m⣿\u001b[0m\u001b[38;5;1m⣿\u001b[0m\u001b[38;5;1m⣿\u001b[0m\u001b[38;5;1m⣿\u001b[0m\u001b[38;5;1m⣿\u001b[0m\u001b[38;5;1m⣿\u001b[0m\u001b[38;5;1m⣿\u001b[0m\u001b[38;5;1m⣿\u001b[0m\u001b[38;5;1m⣿\u001b[0m\u001b[38;5;1m⣿\u001b[0m\u001b[38;5;1m⣿\u001b[0m\u001b[38;5;1m⣿\u001b[0m\u001b[38;5;1m⣿\u001b[0m\u001b[38;5;1m⣿\u001b[0m\u001b[38;5;1m⣿\u001b[0m\u001b[38;5;1m⣿\u001b[0m\u001b[38;5;1m⣿\u001b[0m\u001b[38;5;1m⣿\u001b[0m\u001b[38;5;1m⣿\u001b[0m\u001b[38;5;1m⣿\u001b[0m\u001b[38;5;8m│\u001b[0m \u001b[38;5;8m\u001b[0m   \n",
       "         \u001b[38;5;8m\u001b[0m \u001b[38;5;8m│\u001b[0m\u001b[38;5;1m⣿\u001b[0m\u001b[38;5;1m⣿\u001b[0m\u001b[38;5;1m⣿\u001b[0m\u001b[38;5;1m⣿\u001b[0m\u001b[38;5;1m⣿\u001b[0m\u001b[38;5;1m⣿\u001b[0m\u001b[38;5;1m⣿\u001b[0m\u001b[38;5;1m⣿\u001b[0m\u001b[38;5;1m⣿\u001b[0m\u001b[38;5;1m⣿\u001b[0m\u001b[38;5;1m⣿\u001b[0m\u001b[38;5;1m⣿\u001b[0m\u001b[38;5;1m⣿\u001b[0m\u001b[38;5;1m⣿\u001b[0m\u001b[38;5;1m⣿\u001b[0m\u001b[38;5;1m⣿\u001b[0m\u001b[38;5;1m⣿\u001b[0m\u001b[38;5;1m⣿\u001b[0m\u001b[38;5;1m⣿\u001b[0m\u001b[38;5;1m⣿\u001b[0m\u001b[38;5;1m⣿\u001b[0m\u001b[38;5;1m⣿\u001b[0m\u001b[38;5;1m⣿\u001b[0m\u001b[38;5;1m⣿\u001b[0m\u001b[38;5;1m⣿\u001b[0m\u001b[38;5;1m⣿\u001b[0m\u001b[38;5;1m⣿\u001b[0m\u001b[38;5;1m⣿\u001b[0m\u001b[38;5;1m⣿\u001b[0m\u001b[38;5;1m⣿\u001b[0m\u001b[38;5;1m⣿\u001b[0m\u001b[38;5;1m⣿\u001b[0m\u001b[38;5;1m⣿\u001b[0m\u001b[38;5;1m⣿\u001b[0m\u001b[38;5;1m⣿\u001b[0m\u001b[38;5;1m⣿\u001b[0m\u001b[38;5;1m⣿\u001b[0m\u001b[38;5;1m⣿\u001b[0m\u001b[38;5;1m⣿\u001b[0m\u001b[38;5;1m⣿\u001b[0m\u001b[38;5;1m⣿\u001b[0m\u001b[38;5;1m⣿\u001b[0m\u001b[38;5;8m│\u001b[0m \u001b[38;5;8m\u001b[0m   \n",
       "         \u001b[38;5;8m\u001b[0m \u001b[38;5;8m│\u001b[0m\u001b[38;5;1m⣿\u001b[0m\u001b[38;5;1m⣿\u001b[0m\u001b[38;5;1m⣿\u001b[0m\u001b[38;5;1m⣿\u001b[0m\u001b[38;5;1m⣿\u001b[0m\u001b[38;5;1m⣿\u001b[0m\u001b[38;5;1m⣿\u001b[0m\u001b[38;5;1m⣿\u001b[0m\u001b[38;5;1m⣿\u001b[0m\u001b[38;5;1m⣿\u001b[0m\u001b[38;5;1m⣿\u001b[0m\u001b[38;5;1m⣿\u001b[0m\u001b[38;5;1m⣿\u001b[0m\u001b[38;5;1m⣿\u001b[0m\u001b[38;5;1m⣿\u001b[0m\u001b[38;5;1m⣿\u001b[0m\u001b[38;5;1m⣿\u001b[0m\u001b[38;5;1m⣿\u001b[0m\u001b[38;5;1m⣿\u001b[0m\u001b[38;5;1m⣿\u001b[0m\u001b[38;5;1m⣿\u001b[0m\u001b[38;5;1m⣿\u001b[0m\u001b[38;5;1m⣿\u001b[0m\u001b[38;5;1m⣿\u001b[0m\u001b[38;5;1m⣿\u001b[0m\u001b[38;5;1m⣿\u001b[0m\u001b[38;5;1m⣿\u001b[0m\u001b[38;5;1m⣿\u001b[0m\u001b[38;5;1m⣿\u001b[0m\u001b[38;5;1m⣿\u001b[0m\u001b[38;5;1m⣿\u001b[0m\u001b[38;5;1m⣿\u001b[0m\u001b[38;5;1m⣿\u001b[0m\u001b[38;5;1m⣿\u001b[0m\u001b[38;5;1m⣿\u001b[0m\u001b[38;5;1m⣿\u001b[0m\u001b[38;5;1m⣿\u001b[0m\u001b[38;5;1m⣿\u001b[0m\u001b[38;5;1m⣿\u001b[0m\u001b[38;5;1m⣿\u001b[0m\u001b[38;5;1m⣿\u001b[0m\u001b[38;5;1m⣿\u001b[0m\u001b[38;5;8m│\u001b[0m \u001b[38;5;8m\u001b[0m   \n",
       "         \u001b[38;5;8m\u001b[0m \u001b[38;5;8m│\u001b[0m\u001b[38;5;1m⣿\u001b[0m\u001b[38;5;1m⣿\u001b[0m\u001b[38;5;1m⣿\u001b[0m\u001b[38;5;1m⣿\u001b[0m\u001b[38;5;1m⣿\u001b[0m\u001b[38;5;1m⣿\u001b[0m\u001b[38;5;1m⣿\u001b[0m\u001b[38;5;1m⣿\u001b[0m\u001b[38;5;1m⣿\u001b[0m\u001b[38;5;1m⣿\u001b[0m\u001b[38;5;1m⣿\u001b[0m\u001b[38;5;1m⣿\u001b[0m\u001b[38;5;1m⣿\u001b[0m\u001b[38;5;1m⣿\u001b[0m\u001b[38;5;1m⣿\u001b[0m\u001b[38;5;1m⣿\u001b[0m\u001b[38;5;1m⣿\u001b[0m\u001b[38;5;1m⣿\u001b[0m\u001b[38;5;1m⣿\u001b[0m\u001b[38;5;1m⣿\u001b[0m\u001b[38;5;1m⣿\u001b[0m\u001b[38;5;1m⣿\u001b[0m\u001b[38;5;1m⣿\u001b[0m\u001b[38;5;1m⣿\u001b[0m\u001b[38;5;1m⣿\u001b[0m\u001b[38;5;1m⣿\u001b[0m\u001b[38;5;1m⣿\u001b[0m\u001b[38;5;1m⣿\u001b[0m\u001b[38;5;1m⣿\u001b[0m\u001b[38;5;1m⣿\u001b[0m\u001b[38;5;1m⣿\u001b[0m\u001b[38;5;1m⣿\u001b[0m\u001b[38;5;1m⣿\u001b[0m\u001b[38;5;1m⣿\u001b[0m\u001b[38;5;1m⣿\u001b[0m\u001b[38;5;1m⣿\u001b[0m\u001b[38;5;1m⣿\u001b[0m\u001b[38;5;1m⣿\u001b[0m\u001b[38;5;1m⣿\u001b[0m\u001b[38;5;1m⣿\u001b[0m\u001b[38;5;1m⣿\u001b[0m\u001b[38;5;1m⣿\u001b[0m\u001b[38;5;8m│\u001b[0m \u001b[38;5;8m\u001b[0m   \n",
       "         \u001b[38;5;8m\u001b[0m \u001b[38;5;8m│\u001b[0m\u001b[38;5;1m⣿\u001b[0m\u001b[38;5;1m⣿\u001b[0m\u001b[38;5;1m⣿\u001b[0m\u001b[38;5;1m⣿\u001b[0m\u001b[38;5;1m⣿\u001b[0m\u001b[38;5;1m⣿\u001b[0m\u001b[38;5;1m⣿\u001b[0m\u001b[38;5;1m⣿\u001b[0m\u001b[38;5;1m⣿\u001b[0m\u001b[38;5;1m⣿\u001b[0m\u001b[38;5;1m⣿\u001b[0m\u001b[38;5;1m⣿\u001b[0m\u001b[38;5;1m⣿\u001b[0m\u001b[38;5;1m⣿\u001b[0m\u001b[38;5;1m⣿\u001b[0m\u001b[38;5;1m⣿\u001b[0m\u001b[38;5;1m⣿\u001b[0m\u001b[38;5;1m⣿\u001b[0m\u001b[38;5;1m⣿\u001b[0m\u001b[38;5;1m⣿\u001b[0m\u001b[38;5;1m⣿\u001b[0m\u001b[38;5;1m⣿\u001b[0m\u001b[38;5;1m⣿\u001b[0m\u001b[38;5;1m⣿\u001b[0m\u001b[38;5;1m⣿\u001b[0m\u001b[38;5;1m⣿\u001b[0m\u001b[38;5;1m⣿\u001b[0m\u001b[38;5;1m⣿\u001b[0m\u001b[38;5;1m⣿\u001b[0m\u001b[38;5;1m⣿\u001b[0m\u001b[38;5;1m⣿\u001b[0m\u001b[38;5;1m⣿\u001b[0m\u001b[38;5;1m⣿\u001b[0m\u001b[38;5;1m⣿\u001b[0m\u001b[38;5;1m⣿\u001b[0m\u001b[38;5;1m⣿\u001b[0m\u001b[38;5;1m⣿\u001b[0m\u001b[38;5;1m⣿\u001b[0m\u001b[38;5;1m⣿\u001b[0m\u001b[38;5;1m⣿\u001b[0m\u001b[38;5;1m⣿\u001b[0m\u001b[38;5;1m⣿\u001b[0m\u001b[38;5;8m│\u001b[0m \u001b[38;5;8m\u001b[0m   \n",
       "         \u001b[38;5;8m\u001b[0m \u001b[38;5;8m│\u001b[0m\u001b[38;5;1m⣿\u001b[0m\u001b[38;5;1m⣿\u001b[0m\u001b[38;5;1m⣿\u001b[0m\u001b[38;5;1m⣿\u001b[0m\u001b[38;5;1m⣿\u001b[0m\u001b[38;5;1m⣿\u001b[0m\u001b[38;5;1m⣿\u001b[0m\u001b[38;5;1m⣿\u001b[0m\u001b[38;5;1m⣿\u001b[0m\u001b[38;5;1m⣿\u001b[0m\u001b[38;5;1m⣿\u001b[0m\u001b[38;5;1m⣿\u001b[0m\u001b[38;5;1m⣿\u001b[0m\u001b[38;5;1m⣿\u001b[0m\u001b[38;5;1m⣿\u001b[0m\u001b[38;5;1m⣿\u001b[0m\u001b[38;5;1m⣿\u001b[0m\u001b[38;5;1m⣿\u001b[0m\u001b[38;5;1m⣿\u001b[0m\u001b[38;5;1m⣿\u001b[0m\u001b[38;5;1m⣿\u001b[0m\u001b[38;5;1m⣿\u001b[0m\u001b[38;5;1m⣿\u001b[0m\u001b[38;5;1m⣿\u001b[0m\u001b[38;5;1m⣿\u001b[0m\u001b[38;5;1m⣿\u001b[0m\u001b[38;5;1m⣿\u001b[0m\u001b[38;5;1m⣿\u001b[0m\u001b[38;5;1m⣿\u001b[0m\u001b[38;5;1m⣿\u001b[0m\u001b[38;5;1m⣿\u001b[0m\u001b[38;5;1m⣿\u001b[0m\u001b[38;5;1m⣿\u001b[0m\u001b[38;5;1m⣿\u001b[0m\u001b[38;5;1m⣿\u001b[0m\u001b[38;5;1m⣿\u001b[0m\u001b[38;5;1m⣿\u001b[0m\u001b[38;5;1m⣿\u001b[0m\u001b[38;5;1m⣿\u001b[0m\u001b[38;5;1m⣿\u001b[0m\u001b[38;5;1m⣿\u001b[0m\u001b[38;5;1m⣿\u001b[0m\u001b[38;5;8m│\u001b[0m \u001b[38;5;8m\u001b[0m   \n",
       "         \u001b[38;5;8m\u001b[0m \u001b[38;5;8m│\u001b[0m\u001b[38;5;1m⣿\u001b[0m\u001b[38;5;1m⣿\u001b[0m\u001b[38;5;1m⣿\u001b[0m\u001b[38;5;1m⣿\u001b[0m\u001b[38;5;1m⣿\u001b[0m\u001b[38;5;1m⣿\u001b[0m\u001b[38;5;1m⣿\u001b[0m\u001b[38;5;1m⣿\u001b[0m\u001b[38;5;1m⣿\u001b[0m\u001b[38;5;1m⣿\u001b[0m\u001b[38;5;1m⣿\u001b[0m\u001b[38;5;1m⣿\u001b[0m\u001b[38;5;1m⣿\u001b[0m\u001b[38;5;1m⣿\u001b[0m\u001b[38;5;1m⣿\u001b[0m\u001b[38;5;1m⣿\u001b[0m\u001b[38;5;1m⣿\u001b[0m\u001b[38;5;1m⣿\u001b[0m\u001b[38;5;1m⣿\u001b[0m\u001b[38;5;1m⣿\u001b[0m\u001b[38;5;1m⣿\u001b[0m\u001b[38;5;1m⣿\u001b[0m\u001b[38;5;1m⣿\u001b[0m\u001b[38;5;1m⣿\u001b[0m\u001b[38;5;1m⣿\u001b[0m\u001b[38;5;1m⣿\u001b[0m\u001b[38;5;1m⣿\u001b[0m\u001b[38;5;1m⣿\u001b[0m\u001b[38;5;1m⣿\u001b[0m\u001b[38;5;1m⣿\u001b[0m\u001b[38;5;1m⣿\u001b[0m\u001b[38;5;1m⣿\u001b[0m\u001b[38;5;1m⣿\u001b[0m\u001b[38;5;1m⣿\u001b[0m\u001b[38;5;1m⣿\u001b[0m\u001b[38;5;1m⣿\u001b[0m\u001b[38;5;1m⣿\u001b[0m\u001b[38;5;1m⣿\u001b[0m\u001b[38;5;1m⣿\u001b[0m\u001b[38;5;1m⣿\u001b[0m\u001b[38;5;1m⣿\u001b[0m\u001b[38;5;1m⣿\u001b[0m\u001b[38;5;8m│\u001b[0m \u001b[38;5;8m\u001b[0m   \n",
       "         \u001b[38;5;8m\u001b[0m \u001b[38;5;8m│\u001b[0m\u001b[38;5;1m⣿\u001b[0m\u001b[38;5;1m⣿\u001b[0m\u001b[38;5;1m⣿\u001b[0m\u001b[38;5;1m⣿\u001b[0m\u001b[38;5;1m⣿\u001b[0m\u001b[38;5;1m⣿\u001b[0m\u001b[38;5;1m⣿\u001b[0m\u001b[38;5;1m⣿\u001b[0m\u001b[38;5;1m⣿\u001b[0m\u001b[38;5;1m⣿\u001b[0m\u001b[38;5;1m⣿\u001b[0m\u001b[38;5;1m⣿\u001b[0m\u001b[38;5;1m⣿\u001b[0m\u001b[38;5;1m⣿\u001b[0m\u001b[38;5;1m⣿\u001b[0m\u001b[38;5;1m⣿\u001b[0m\u001b[38;5;1m⣿\u001b[0m\u001b[38;5;1m⣿\u001b[0m\u001b[38;5;1m⣿\u001b[0m\u001b[38;5;1m⣿\u001b[0m\u001b[38;5;1m⣿\u001b[0m\u001b[38;5;1m⣿\u001b[0m\u001b[38;5;1m⣿\u001b[0m\u001b[38;5;1m⣿\u001b[0m\u001b[38;5;1m⣿\u001b[0m\u001b[38;5;1m⣿\u001b[0m\u001b[38;5;1m⣿\u001b[0m\u001b[38;5;1m⣿\u001b[0m\u001b[38;5;1m⣿\u001b[0m\u001b[38;5;1m⣿\u001b[0m\u001b[38;5;1m⣿\u001b[0m\u001b[38;5;1m⣿\u001b[0m\u001b[38;5;1m⣿\u001b[0m\u001b[38;5;1m⣿\u001b[0m\u001b[38;5;1m⣿\u001b[0m\u001b[38;5;1m⣿\u001b[0m\u001b[38;5;1m⣿\u001b[0m\u001b[38;5;1m⣿\u001b[0m\u001b[38;5;1m⣿\u001b[0m\u001b[38;5;1m⣿\u001b[0m\u001b[38;5;1m⣿\u001b[0m\u001b[38;5;1m⣿\u001b[0m\u001b[38;5;8m│\u001b[0m \u001b[38;5;8m\u001b[0m   \n",
       "         \u001b[38;5;8m\u001b[0m \u001b[38;5;8m│\u001b[0m\u001b[38;5;1m⣿\u001b[0m\u001b[38;5;1m⣿\u001b[0m\u001b[38;5;1m⣿\u001b[0m\u001b[38;5;1m⣿\u001b[0m\u001b[38;5;1m⣿\u001b[0m\u001b[38;5;1m⣿\u001b[0m\u001b[38;5;1m⣿\u001b[0m\u001b[38;5;1m⣿\u001b[0m\u001b[38;5;1m⣿\u001b[0m\u001b[38;5;1m⣿\u001b[0m\u001b[38;5;1m⣿\u001b[0m\u001b[38;5;1m⣿\u001b[0m\u001b[38;5;1m⣿\u001b[0m\u001b[38;5;1m⣿\u001b[0m\u001b[38;5;1m⣿\u001b[0m\u001b[38;5;1m⣿\u001b[0m\u001b[38;5;1m⣿\u001b[0m\u001b[38;5;1m⣿\u001b[0m\u001b[38;5;1m⣿\u001b[0m\u001b[38;5;1m⣿\u001b[0m\u001b[38;5;1m⣿\u001b[0m\u001b[38;5;1m⣿\u001b[0m\u001b[38;5;1m⣿\u001b[0m\u001b[38;5;1m⣿\u001b[0m\u001b[38;5;1m⣿\u001b[0m\u001b[38;5;1m⣿\u001b[0m\u001b[38;5;1m⣿\u001b[0m\u001b[38;5;1m⣿\u001b[0m\u001b[38;5;1m⣿\u001b[0m\u001b[38;5;1m⣿\u001b[0m\u001b[38;5;1m⣿\u001b[0m\u001b[38;5;1m⣿\u001b[0m\u001b[38;5;1m⣿\u001b[0m\u001b[38;5;1m⣿\u001b[0m\u001b[38;5;1m⣿\u001b[0m\u001b[38;5;1m⣿\u001b[0m\u001b[38;5;1m⣿\u001b[0m\u001b[38;5;1m⣿\u001b[0m\u001b[38;5;1m⣿\u001b[0m\u001b[38;5;1m⣿\u001b[0m\u001b[38;5;1m⣿\u001b[0m\u001b[38;5;1m⣿\u001b[0m\u001b[38;5;8m│\u001b[0m \u001b[38;5;8m\u001b[0m   \n",
       "         \u001b[38;5;8m\u001b[0m \u001b[38;5;8m│\u001b[0m\u001b[38;5;1m⣿\u001b[0m\u001b[38;5;1m⣿\u001b[0m\u001b[38;5;1m⣿\u001b[0m\u001b[38;5;1m⣿\u001b[0m\u001b[38;5;1m⣿\u001b[0m\u001b[38;5;1m⣿\u001b[0m\u001b[38;5;1m⣿\u001b[0m\u001b[38;5;1m⣿\u001b[0m\u001b[38;5;1m⣿\u001b[0m\u001b[38;5;1m⣿\u001b[0m\u001b[38;5;1m⣿\u001b[0m\u001b[38;5;1m⣿\u001b[0m\u001b[38;5;1m⣿\u001b[0m\u001b[38;5;1m⣿\u001b[0m\u001b[38;5;1m⣿\u001b[0m\u001b[38;5;1m⣿\u001b[0m\u001b[38;5;1m⣿\u001b[0m\u001b[38;5;1m⣿\u001b[0m\u001b[38;5;1m⣿\u001b[0m\u001b[38;5;1m⣿\u001b[0m\u001b[38;5;1m⣿\u001b[0m\u001b[38;5;1m⣿\u001b[0m\u001b[38;5;1m⣿\u001b[0m\u001b[38;5;1m⣿\u001b[0m\u001b[38;5;1m⣿\u001b[0m\u001b[38;5;1m⣿\u001b[0m\u001b[38;5;1m⣿\u001b[0m\u001b[38;5;1m⣿\u001b[0m\u001b[38;5;1m⣿\u001b[0m\u001b[38;5;1m⣿\u001b[0m\u001b[38;5;1m⣿\u001b[0m\u001b[38;5;1m⣿\u001b[0m\u001b[38;5;1m⣿\u001b[0m\u001b[38;5;1m⣿\u001b[0m\u001b[38;5;1m⣿\u001b[0m\u001b[38;5;1m⣿\u001b[0m\u001b[38;5;1m⣿\u001b[0m\u001b[38;5;1m⣿\u001b[0m\u001b[38;5;1m⣿\u001b[0m\u001b[38;5;1m⣿\u001b[0m\u001b[38;5;1m⣿\u001b[0m\u001b[38;5;1m⣿\u001b[0m\u001b[38;5;8m│\u001b[0m \u001b[38;5;8m\u001b[0m   \n",
       "         \u001b[38;5;8m\u001b[0m \u001b[38;5;8m│\u001b[0m\u001b[38;5;1m⣿\u001b[0m\u001b[38;5;1m⣿\u001b[0m\u001b[38;5;1m⣿\u001b[0m\u001b[38;5;1m⣿\u001b[0m\u001b[38;5;1m⣿\u001b[0m\u001b[38;5;1m⣿\u001b[0m\u001b[38;5;1m⣿\u001b[0m\u001b[38;5;1m⣿\u001b[0m\u001b[38;5;1m⣿\u001b[0m\u001b[38;5;1m⣿\u001b[0m\u001b[38;5;1m⣿\u001b[0m\u001b[38;5;1m⣿\u001b[0m\u001b[38;5;1m⣿\u001b[0m\u001b[38;5;1m⣿\u001b[0m\u001b[38;5;1m⣿\u001b[0m\u001b[38;5;1m⣿\u001b[0m\u001b[38;5;1m⣿\u001b[0m\u001b[38;5;1m⣿\u001b[0m\u001b[38;5;1m⣿\u001b[0m\u001b[38;5;1m⣿\u001b[0m\u001b[38;5;1m⣿\u001b[0m\u001b[38;5;1m⣿\u001b[0m\u001b[38;5;1m⣿\u001b[0m\u001b[38;5;1m⣿\u001b[0m\u001b[38;5;1m⣿\u001b[0m\u001b[38;5;1m⣿\u001b[0m\u001b[38;5;1m⣿\u001b[0m\u001b[38;5;1m⣿\u001b[0m\u001b[38;5;1m⣿\u001b[0m\u001b[38;5;1m⣿\u001b[0m\u001b[38;5;1m⣿\u001b[0m\u001b[38;5;1m⣿\u001b[0m\u001b[38;5;1m⣿\u001b[0m\u001b[38;5;1m⣿\u001b[0m\u001b[38;5;1m⣿\u001b[0m\u001b[38;5;1m⣿\u001b[0m\u001b[38;5;1m⣿\u001b[0m\u001b[38;5;1m⣿\u001b[0m\u001b[38;5;1m⣿\u001b[0m\u001b[38;5;1m⣿\u001b[0m\u001b[38;5;1m⣿\u001b[0m\u001b[38;5;1m⣿\u001b[0m\u001b[38;5;8m│\u001b[0m \u001b[38;5;8m\u001b[0m   \n",
       "         \u001b[38;5;8m\u001b[0m \u001b[38;5;8m│\u001b[0m\u001b[38;5;1m⣿\u001b[0m\u001b[38;5;1m⣿\u001b[0m\u001b[38;5;1m⣿\u001b[0m\u001b[38;5;1m⣿\u001b[0m\u001b[38;5;1m⣿\u001b[0m\u001b[38;5;1m⣿\u001b[0m\u001b[38;5;1m⣿\u001b[0m\u001b[38;5;1m⣿\u001b[0m\u001b[38;5;1m⣿\u001b[0m\u001b[38;5;1m⣿\u001b[0m\u001b[38;5;1m⣿\u001b[0m\u001b[38;5;1m⣿\u001b[0m\u001b[38;5;1m⣿\u001b[0m\u001b[38;5;1m⣿\u001b[0m\u001b[38;5;1m⣿\u001b[0m\u001b[38;5;1m⣿\u001b[0m\u001b[38;5;1m⣿\u001b[0m\u001b[38;5;1m⣿\u001b[0m\u001b[38;5;1m⣿\u001b[0m\u001b[38;5;1m⣿\u001b[0m\u001b[38;5;1m⣿\u001b[0m\u001b[38;5;1m⣿\u001b[0m\u001b[38;5;1m⣿\u001b[0m\u001b[38;5;1m⣿\u001b[0m\u001b[38;5;1m⣿\u001b[0m\u001b[38;5;1m⣿\u001b[0m\u001b[38;5;1m⣿\u001b[0m\u001b[38;5;1m⣿\u001b[0m\u001b[38;5;1m⣿\u001b[0m\u001b[38;5;1m⣿\u001b[0m\u001b[38;5;1m⣿\u001b[0m\u001b[38;5;1m⣿\u001b[0m\u001b[38;5;1m⣿\u001b[0m\u001b[38;5;1m⣿\u001b[0m\u001b[38;5;1m⣿\u001b[0m\u001b[38;5;1m⣿\u001b[0m\u001b[38;5;1m⣿\u001b[0m\u001b[38;5;1m⣿\u001b[0m\u001b[38;5;1m⣿\u001b[0m\u001b[38;5;1m⣿\u001b[0m\u001b[38;5;1m⣿\u001b[0m\u001b[38;5;1m⣿\u001b[0m\u001b[38;5;8m│\u001b[0m \u001b[38;5;8m\u001b[0m   \n",
       "         \u001b[38;5;8m\u001b[0m \u001b[38;5;8m│\u001b[0m\u001b[38;5;1m⣿\u001b[0m\u001b[38;5;1m⣿\u001b[0m\u001b[38;5;1m⣿\u001b[0m\u001b[38;5;1m⣿\u001b[0m\u001b[38;5;1m⣿\u001b[0m\u001b[38;5;1m⣿\u001b[0m\u001b[38;5;1m⣿\u001b[0m\u001b[38;5;1m⣿\u001b[0m\u001b[38;5;1m⣿\u001b[0m\u001b[38;5;1m⣿\u001b[0m\u001b[38;5;1m⣿\u001b[0m\u001b[38;5;1m⣿\u001b[0m\u001b[38;5;1m⣿\u001b[0m\u001b[38;5;1m⣿\u001b[0m\u001b[38;5;1m⣿\u001b[0m\u001b[38;5;1m⣿\u001b[0m\u001b[38;5;1m⣿\u001b[0m\u001b[38;5;1m⣿\u001b[0m\u001b[38;5;1m⣿\u001b[0m\u001b[38;5;1m⣿\u001b[0m\u001b[38;5;1m⣿\u001b[0m\u001b[38;5;1m⣿\u001b[0m\u001b[38;5;1m⣿\u001b[0m\u001b[38;5;1m⣿\u001b[0m\u001b[38;5;1m⣿\u001b[0m\u001b[38;5;1m⣿\u001b[0m\u001b[38;5;1m⣿\u001b[0m\u001b[38;5;1m⣿\u001b[0m\u001b[38;5;1m⣿\u001b[0m\u001b[38;5;1m⣿\u001b[0m\u001b[38;5;1m⣿\u001b[0m\u001b[38;5;1m⣿\u001b[0m\u001b[38;5;1m⣿\u001b[0m\u001b[38;5;1m⣿\u001b[0m\u001b[38;5;1m⣿\u001b[0m\u001b[38;5;1m⣿\u001b[0m\u001b[38;5;1m⣿\u001b[0m\u001b[38;5;1m⣿\u001b[0m\u001b[38;5;1m⣿\u001b[0m\u001b[38;5;1m⣿\u001b[0m\u001b[38;5;1m⣿\u001b[0m\u001b[38;5;1m⣿\u001b[0m\u001b[38;5;8m│\u001b[0m \u001b[38;5;8m\u001b[0m   \n",
       "   \u001b[38;5;8m916428\u001b[0m \u001b[38;5;8m│\u001b[0m\u001b[38;5;1m⣿\u001b[0m\u001b[38;5;1m⣿\u001b[0m\u001b[38;5;1m⣿\u001b[0m\u001b[38;5;1m⣿\u001b[0m\u001b[38;5;1m⣿\u001b[0m\u001b[38;5;1m⣿\u001b[0m\u001b[38;5;1m⣿\u001b[0m\u001b[38;5;1m⣿\u001b[0m\u001b[38;5;1m⣿\u001b[0m\u001b[38;5;1m⣿\u001b[0m\u001b[38;5;1m⣿\u001b[0m\u001b[38;5;1m⣿\u001b[0m\u001b[38;5;1m⣿\u001b[0m\u001b[38;5;1m⣿\u001b[0m\u001b[38;5;1m⣿\u001b[0m\u001b[38;5;1m⣿\u001b[0m\u001b[38;5;1m⣿\u001b[0m\u001b[38;5;1m⣿\u001b[0m\u001b[38;5;1m⣿\u001b[0m\u001b[38;5;1m⣿\u001b[0m\u001b[38;5;1m⣿\u001b[0m\u001b[38;5;1m⣿\u001b[0m\u001b[38;5;1m⣿\u001b[0m\u001b[38;5;1m⣿\u001b[0m\u001b[38;5;1m⣿\u001b[0m\u001b[38;5;1m⣿\u001b[0m\u001b[38;5;1m⣿\u001b[0m\u001b[38;5;1m⣿\u001b[0m\u001b[38;5;1m⣿\u001b[0m\u001b[38;5;1m⣿\u001b[0m\u001b[38;5;1m⣿\u001b[0m\u001b[38;5;1m⣿\u001b[0m\u001b[38;5;1m⣿\u001b[0m\u001b[38;5;1m⣿\u001b[0m\u001b[38;5;1m⣿\u001b[0m\u001b[38;5;1m⣿\u001b[0m\u001b[38;5;1m⣿\u001b[0m\u001b[38;5;1m⣿\u001b[0m\u001b[38;5;1m⣿\u001b[0m\u001b[38;5;1m⣿\u001b[0m\u001b[38;5;1m⣿\u001b[0m\u001b[38;5;1m⣿\u001b[0m\u001b[38;5;8m│\u001b[0m \u001b[38;5;8m\u001b[0m   \n",
       "          \u001b[38;5;8m└──────────────────────────────────────────┘\u001b[0m    \n",
       "          ⠀\u001b[38;5;8m1\u001b[0m⠀⠀⠀⠀⠀⠀⠀⠀⠀⠀⠀⠀⠀⠀⠀⠀⠀⠀⠀\u001b[38;5;8m\u001b[0m⠀⠀⠀⠀⠀⠀⠀⠀⠀⠀⠀⠀⠀⠀⠀⠀\u001b[38;5;8m916428\u001b[0m⠀    \n",
       "          ⠀⠀⠀⠀⠀⠀⠀⠀⠀⠀⠀⠀⠀⠀5105039 nonzeros⠀⠀⠀⠀⠀⠀⠀⠀⠀⠀⠀⠀⠀⠀    "
      ]
     },
     "execution_count": 14,
     "metadata": {},
     "output_type": "execute_result"
    }
   ],
   "source": [
    "spy(A)"
   ]
  },
  {
   "cell_type": "code",
   "execution_count": 15,
   "metadata": {},
   "outputs": [
    {
     "data": {
      "text/plain": [
       "         ⠀⠀⠀⠀⠀⠀⠀⠀⠀⠀⠀⠀⠀⠀\u001b[97;1mSparsity Pattern\u001b[0m⠀⠀⠀⠀⠀⠀⠀⠀⠀⠀⠀⠀⠀⠀    \n",
       "         \u001b[38;5;8m┌──────────────────────────────────────────┐\u001b[0m    \n",
       "       \u001b[38;5;8m1\u001b[0m \u001b[38;5;8m│\u001b[0m⠀⠀⠀⠀⠀⠀⠀\u001b[38;5;1m⠂\u001b[0m⠀⠀⠀⠀\u001b[38;5;1m⢀\u001b[0m\u001b[38;5;1m⢂\u001b[0m\u001b[38;5;1m⡂\u001b[0m\u001b[38;5;1m⠐\u001b[0m⠀⠀⠀\u001b[38;5;1m⠠\u001b[0m⠀⠀⠀\u001b[38;5;1m⠔\u001b[0m\u001b[38;5;1m⠄\u001b[0m⠀\u001b[38;5;1m⠈\u001b[0m\u001b[38;5;1m⢀\u001b[0m⠀⠀\u001b[38;5;1m⠉\u001b[0m⠀⠀\u001b[38;5;1m⠁\u001b[0m⠀⠀\u001b[38;5;1m⠐\u001b[0m⠀\u001b[38;5;1m⠄\u001b[0m⠀\u001b[38;5;1m⠐\u001b[0m⠀\u001b[38;5;8m│\u001b[0m \u001b[38;5;1m> 0\u001b[0m\n",
       "        \u001b[38;5;8m\u001b[0m \u001b[38;5;8m│\u001b[0m⠀⠀⠀⠀⠀\u001b[38;5;1m⠂\u001b[0m\u001b[38;5;1m⡂\u001b[0m⠀\u001b[38;5;1m⠄\u001b[0m\u001b[38;5;1m⠄\u001b[0m\u001b[38;5;1m⠈\u001b[0m\u001b[38;5;1m⠈\u001b[0m\u001b[38;5;1m⡔\u001b[0m⠀⠀\u001b[38;5;1m⠁\u001b[0m\u001b[38;5;1m⠂\u001b[0m⠀⠀⠀⠀\u001b[38;5;1m⠠\u001b[0m\u001b[38;5;1m⠁\u001b[0m\u001b[38;5;1m⠒\u001b[0m\u001b[38;5;1m⠁\u001b[0m⠀\u001b[38;5;1m⠄\u001b[0m⠀\u001b[38;5;1m⠐\u001b[0m⠀\u001b[38;5;1m⠈\u001b[0m⠀⠀\u001b[38;5;1m⡐\u001b[0m⠀⠀\u001b[38;5;1m⠠\u001b[0m⠀\u001b[38;5;1m⡀\u001b[0m⠀\u001b[38;5;1m⠉\u001b[0m⠀\u001b[38;5;8m│\u001b[0m \u001b[38;5;4m< 0\u001b[0m\n",
       "        \u001b[38;5;8m\u001b[0m \u001b[38;5;8m│\u001b[0m⠀\u001b[38;5;1m⠐\u001b[0m\u001b[38;5;1m⠠\u001b[0m⠀⠀\u001b[38;5;1m⠁\u001b[0m\u001b[38;5;1m⢐\u001b[0m\u001b[38;5;1m⠄\u001b[0m⠀\u001b[38;5;1m⠢\u001b[0m\u001b[38;5;1m⠠\u001b[0m⠀⠀\u001b[38;5;1m⡀\u001b[0m\u001b[38;5;1m⠈\u001b[0m⠀\u001b[38;5;1m⠋\u001b[0m⠀⠀⠀⠀⠀\u001b[38;5;1m⠂\u001b[0m\u001b[38;5;1m⡀\u001b[0m⠀\u001b[38;5;1m⠈\u001b[0m\u001b[38;5;1m⠄\u001b[0m⠀\u001b[38;5;1m⠄\u001b[0m\u001b[38;5;1m⠁\u001b[0m\u001b[38;5;1m⠈\u001b[0m⠀\u001b[38;5;1m⠠\u001b[0m⠀\u001b[38;5;1m⠰\u001b[0m⠀⠀⠀⠀\u001b[38;5;1m⢀\u001b[0m\u001b[38;5;1m⠆\u001b[0m⠀\u001b[38;5;8m│\u001b[0m \u001b[38;5;8m\u001b[0m   \n",
       "        \u001b[38;5;8m\u001b[0m \u001b[38;5;8m│\u001b[0m⠀\u001b[38;5;1m⠈\u001b[0m\u001b[38;5;1m⠠\u001b[0m\u001b[38;5;1m⠂\u001b[0m⠀\u001b[38;5;1m⠈\u001b[0m⠀\u001b[38;5;1m⡠\u001b[0m\u001b[38;5;1m⠐\u001b[0m⠀⠀⠀⠀⠀⠀⠀⠀⠀⠀\u001b[38;5;1m⡀\u001b[0m\u001b[38;5;1m⠈\u001b[0m\u001b[38;5;1m⠄\u001b[0m\u001b[38;5;1m⠁\u001b[0m\u001b[38;5;1m⢀\u001b[0m\u001b[38;5;1m⡀\u001b[0m\u001b[38;5;1m⠐\u001b[0m\u001b[38;5;1m⠄\u001b[0m\u001b[38;5;1m⠄\u001b[0m⠀⠀\u001b[38;5;1m⢀\u001b[0m⠀\u001b[38;5;1m⠈\u001b[0m\u001b[38;5;1m⠂\u001b[0m\u001b[38;5;1m⢠\u001b[0m⠀\u001b[38;5;1m⠢\u001b[0m\u001b[38;5;1m⠐\u001b[0m⠀⠀⠀\u001b[38;5;1m⡀\u001b[0m\u001b[38;5;8m│\u001b[0m \u001b[38;5;8m\u001b[0m   \n",
       "        \u001b[38;5;8m\u001b[0m \u001b[38;5;8m│\u001b[0m⠀⠀\u001b[38;5;1m⠐\u001b[0m\u001b[38;5;1m⡁\u001b[0m⠀\u001b[38;5;1m⡀\u001b[0m⠀⠀\u001b[38;5;1m⠠\u001b[0m⠀\u001b[38;5;1m⠁\u001b[0m⠀⠀⠀\u001b[38;5;1m⡄\u001b[0m⠀\u001b[38;5;1m⠈\u001b[0m\u001b[38;5;1m⠁\u001b[0m⠀⠀⠀⠀\u001b[38;5;1m⠠\u001b[0m\u001b[38;5;1m⠂\u001b[0m⠀⠀⠀⠀⠀\u001b[38;5;1m⠂\u001b[0m\u001b[38;5;1m⠪\u001b[0m⠀⠀\u001b[38;5;1m⠂\u001b[0m⠀⠀⠀\u001b[38;5;1m⠄\u001b[0m\u001b[38;5;1m⢀\u001b[0m⠀\u001b[38;5;1m⠁\u001b[0m⠀\u001b[38;5;8m│\u001b[0m \u001b[38;5;8m\u001b[0m   \n",
       "        \u001b[38;5;8m\u001b[0m \u001b[38;5;8m│\u001b[0m\u001b[38;5;1m⠂\u001b[0m\u001b[38;5;1m⢀\u001b[0m⠀\u001b[38;5;1m⠁\u001b[0m⠀⠀\u001b[38;5;1m⡀\u001b[0m\u001b[38;5;1m⡉\u001b[0m⠀⠀\u001b[38;5;1m⠠\u001b[0m\u001b[38;5;1m⠂\u001b[0m\u001b[38;5;1m⠐\u001b[0m\u001b[38;5;1m⢀\u001b[0m\u001b[38;5;1m⠄\u001b[0m\u001b[38;5;1m⠁\u001b[0m\u001b[38;5;1m⠐\u001b[0m⠀\u001b[38;5;1m⠈\u001b[0m⠀⠀⠀⠀⠀\u001b[38;5;1m⡀\u001b[0m\u001b[38;5;1m⠐\u001b[0m\u001b[38;5;1m⠁\u001b[0m\u001b[38;5;1m⡠\u001b[0m⠀\u001b[38;5;1m⠂\u001b[0m\u001b[38;5;1m⠚\u001b[0m⠀\u001b[38;5;1m⠁\u001b[0m⠀\u001b[38;5;1m⠐\u001b[0m\u001b[38;5;1m⢀\u001b[0m\u001b[38;5;1m⠆\u001b[0m⠀\u001b[38;5;1m⠈\u001b[0m\u001b[38;5;1m⠄\u001b[0m\u001b[38;5;1m⢀\u001b[0m\u001b[38;5;1m⠂\u001b[0m\u001b[38;5;8m│\u001b[0m \u001b[38;5;8m\u001b[0m   \n",
       "        \u001b[38;5;8m\u001b[0m \u001b[38;5;8m│\u001b[0m⠀⠀⠀\u001b[38;5;1m⠁\u001b[0m⠀\u001b[38;5;1m⡄\u001b[0m⠀⠀⠀⠀\u001b[38;5;1m⠒\u001b[0m⠀\u001b[38;5;1m⢄\u001b[0m\u001b[38;5;1m⠄\u001b[0m\u001b[38;5;1m⢂\u001b[0m⠀\u001b[38;5;1m⠂\u001b[0m⠀⠀\u001b[38;5;1m⠄\u001b[0m⠀\u001b[38;5;1m⢀\u001b[0m⠀\u001b[38;5;1m⠣\u001b[0m⠀\u001b[38;5;1m⢀\u001b[0m⠀⠀⠀⠀\u001b[38;5;1m⠠\u001b[0m\u001b[38;5;1m⡀\u001b[0m⠀⠀\u001b[38;5;1m⢠\u001b[0m\u001b[38;5;1m⠄\u001b[0m⠀\u001b[38;5;1m⡀\u001b[0m⠀\u001b[38;5;1m⠂\u001b[0m\u001b[38;5;1m⠂\u001b[0m⠀\u001b[38;5;8m│\u001b[0m \u001b[38;5;8m\u001b[0m   \n",
       "        \u001b[38;5;8m\u001b[0m \u001b[38;5;8m│\u001b[0m\u001b[38;5;1m⢀\u001b[0m\u001b[38;5;1m⠈\u001b[0m⠀⠀\u001b[38;5;1m⠂\u001b[0m⠀⠀\u001b[38;5;1m⠁\u001b[0m\u001b[38;5;1m⢠\u001b[0m\u001b[38;5;1m⠈\u001b[0m\u001b[38;5;1m⠄\u001b[0m\u001b[38;5;1m⠁\u001b[0m⠀⠀\u001b[38;5;1m⡈\u001b[0m\u001b[38;5;1m⠈\u001b[0m\u001b[38;5;1m⠠\u001b[0m⠀\u001b[38;5;1m⢀\u001b[0m\u001b[38;5;1m⡦\u001b[0m⠀⠀\u001b[38;5;1m⠅\u001b[0m\u001b[38;5;1m⠐\u001b[0m⠀\u001b[38;5;1m⠨\u001b[0m\u001b[38;5;1m⠁\u001b[0m\u001b[38;5;1m⠨\u001b[0m⠀\u001b[38;5;1m⠄\u001b[0m\u001b[38;5;1m⠠\u001b[0m\u001b[38;5;1m⢀\u001b[0m⠀\u001b[38;5;1m⠐\u001b[0m\u001b[38;5;1m⢐\u001b[0m⠀⠀\u001b[38;5;1m⠉\u001b[0m⠀⠀\u001b[38;5;1m⠠\u001b[0m\u001b[38;5;1m⠉\u001b[0m\u001b[38;5;8m│\u001b[0m \u001b[38;5;8m\u001b[0m   \n",
       "        \u001b[38;5;8m\u001b[0m \u001b[38;5;8m│\u001b[0m⠀⠀\u001b[38;5;1m⠨\u001b[0m⠀\u001b[38;5;1m⠋\u001b[0m⠀\u001b[38;5;1m⠄\u001b[0m⠀\u001b[38;5;1m⠂\u001b[0m⠀\u001b[38;5;1m⠈\u001b[0m⠀⠀⠀\u001b[38;5;1m⠈\u001b[0m⠀⠀⠀⠀\u001b[38;5;1m⡑\u001b[0m⠀\u001b[38;5;1m⢀\u001b[0m\u001b[38;5;1m⠈\u001b[0m\u001b[38;5;1m⠈\u001b[0m⠀⠀⠀\u001b[38;5;1m⠈\u001b[0m⠀\u001b[38;5;1m⠂\u001b[0m\u001b[38;5;1m⠐\u001b[0m\u001b[38;5;1m⠼\u001b[0m⠀\u001b[38;5;1m⠠\u001b[0m⠀⠀\u001b[38;5;1m⡈\u001b[0m\u001b[38;5;1m⠁\u001b[0m⠀⠀\u001b[38;5;1m⠡\u001b[0m\u001b[38;5;1m⠄\u001b[0m\u001b[38;5;8m│\u001b[0m \u001b[38;5;8m\u001b[0m   \n",
       "        \u001b[38;5;8m\u001b[0m \u001b[38;5;8m│\u001b[0m\u001b[38;5;1m⠠\u001b[0m\u001b[38;5;1m⡁\u001b[0m⠀⠀⠀⠀⠀⠀⠀⠀\u001b[38;5;1m⠂\u001b[0m\u001b[38;5;1m⢀\u001b[0m⠀⠀⠀\u001b[38;5;1m⡄\u001b[0m⠀⠀⠀\u001b[38;5;1m⠤\u001b[0m⠀⠀\u001b[38;5;1m⠁\u001b[0m⠀\u001b[38;5;1m⡂\u001b[0m⠀⠀⠀\u001b[38;5;1m⠄\u001b[0m⠀\u001b[38;5;1m⢈\u001b[0m⠀\u001b[38;5;1m⢔\u001b[0m\u001b[38;5;1m⡊\u001b[0m\u001b[38;5;1m⣨\u001b[0m\u001b[38;5;1m⠈\u001b[0m\u001b[38;5;1m⠂\u001b[0m⠀\u001b[38;5;1m⠄\u001b[0m\u001b[38;5;1m⢀\u001b[0m⠀⠀\u001b[38;5;8m│\u001b[0m \u001b[38;5;8m\u001b[0m   \n",
       "        \u001b[38;5;8m\u001b[0m \u001b[38;5;8m│\u001b[0m⠀\u001b[38;5;1m⠂\u001b[0m⠀\u001b[38;5;1m⠈\u001b[0m⠀⠀⠀⠀⠀⠀\u001b[38;5;1m⠈\u001b[0m⠀\u001b[38;5;1m⡀\u001b[0m⠀\u001b[38;5;1m⠂\u001b[0m\u001b[38;5;1m⠠\u001b[0m\u001b[38;5;1m⠐\u001b[0m⠀\u001b[38;5;1m⠄\u001b[0m⠀⠀⠀⠀⠀⠀\u001b[38;5;1m⠤\u001b[0m⠀⠀⠀\u001b[38;5;1m⠠\u001b[0m\u001b[38;5;1m⠘\u001b[0m\u001b[38;5;1m⠐\u001b[0m⠀\u001b[38;5;1m⠄\u001b[0m\u001b[38;5;1m⢘\u001b[0m⠀⠀\u001b[38;5;1m⢐\u001b[0m\u001b[38;5;1m⠄\u001b[0m⠀\u001b[38;5;1m⠁\u001b[0m⠀\u001b[38;5;8m│\u001b[0m \u001b[38;5;8m\u001b[0m   \n",
       "        \u001b[38;5;8m\u001b[0m \u001b[38;5;8m│\u001b[0m\u001b[38;5;1m⢀\u001b[0m\u001b[38;5;1m⠄\u001b[0m\u001b[38;5;1m⢠\u001b[0m\u001b[38;5;1m⠄\u001b[0m\u001b[38;5;1m⡊\u001b[0m\u001b[38;5;1m⠂\u001b[0m\u001b[38;5;1m⠢\u001b[0m\u001b[38;5;1m⢀\u001b[0m⠀⠀⠀⠀\u001b[38;5;1m⠄\u001b[0m\u001b[38;5;1m⡀\u001b[0m\u001b[38;5;1m⡑\u001b[0m⠀\u001b[38;5;1m⡐\u001b[0m⠀\u001b[38;5;1m⠁\u001b[0m\u001b[38;5;1m⡂\u001b[0m⠀⠀⠀\u001b[38;5;1m⠰\u001b[0m\u001b[38;5;1m⠂\u001b[0m\u001b[38;5;1m⢠\u001b[0m\u001b[38;5;1m⠄\u001b[0m\u001b[38;5;1m⠈\u001b[0m⠀\u001b[38;5;1m⠈\u001b[0m\u001b[38;5;1m⠐\u001b[0m⠀⠀⠀\u001b[38;5;1m⠉\u001b[0m⠀⠀\u001b[38;5;1m⡀\u001b[0m⠀⠀\u001b[38;5;1m⠃\u001b[0m⠀\u001b[38;5;8m│\u001b[0m \u001b[38;5;8m\u001b[0m   \n",
       "        \u001b[38;5;8m\u001b[0m \u001b[38;5;8m│\u001b[0m⠀⠀\u001b[38;5;1m⠅\u001b[0m⠀\u001b[38;5;1m⡁\u001b[0m⠀⠀⠀⠀⠀\u001b[38;5;1m⢁\u001b[0m\u001b[38;5;1m⢀\u001b[0m⠀\u001b[38;5;1m⡀\u001b[0m\u001b[38;5;1m⡀\u001b[0m\u001b[38;5;1m⡐\u001b[0m⠀⠀\u001b[38;5;1m⠈\u001b[0m\u001b[38;5;1m⠈\u001b[0m\u001b[38;5;1m⠔\u001b[0m\u001b[38;5;1m⠄\u001b[0m⠀⠀\u001b[38;5;1m⢀\u001b[0m⠀⠀⠀⠀⠀⠀⠀⠀\u001b[38;5;1m⠄\u001b[0m\u001b[38;5;1m⢉\u001b[0m\u001b[38;5;1m⠠\u001b[0m\u001b[38;5;1m⠁\u001b[0m⠀\u001b[38;5;1m⠁\u001b[0m⠀⠀⠀\u001b[38;5;8m│\u001b[0m \u001b[38;5;8m\u001b[0m   \n",
       "        \u001b[38;5;8m\u001b[0m \u001b[38;5;8m│\u001b[0m\u001b[38;5;1m⠊\u001b[0m\u001b[38;5;1m⢈\u001b[0m⠀\u001b[38;5;1m⠁\u001b[0m⠀⠀⠀\u001b[38;5;1m⠅\u001b[0m⠀\u001b[38;5;1m⠂\u001b[0m⠀\u001b[38;5;1m⡀\u001b[0m⠀⠀⠀⠀\u001b[38;5;1m⡀\u001b[0m⠀⠀\u001b[38;5;1m⠐\u001b[0m\u001b[38;5;1m⠄\u001b[0m\u001b[38;5;1m⠁\u001b[0m\u001b[38;5;1m⠠\u001b[0m⠀\u001b[38;5;1m⠐\u001b[0m\u001b[38;5;1m⠈\u001b[0m⠀⠀⠀\u001b[38;5;1m⡀\u001b[0m\u001b[38;5;1m⢠\u001b[0m⠀⠀⠀\u001b[38;5;1m⢰\u001b[0m⠀⠀⠀\u001b[38;5;1m⢀\u001b[0m⠀\u001b[38;5;1m⠠\u001b[0m\u001b[38;5;1m⠂\u001b[0m\u001b[38;5;8m│\u001b[0m \u001b[38;5;8m\u001b[0m   \n",
       "        \u001b[38;5;8m\u001b[0m \u001b[38;5;8m│\u001b[0m\u001b[38;5;1m⠈\u001b[0m⠀⠀\u001b[38;5;1m⠈\u001b[0m\u001b[38;5;1m⠄\u001b[0m⠀⠀\u001b[38;5;1m⠄\u001b[0m\u001b[38;5;1m⠐\u001b[0m⠀\u001b[38;5;1m⠠\u001b[0m\u001b[38;5;1m⠁\u001b[0m\u001b[38;5;1m⠁\u001b[0m⠀\u001b[38;5;1m⡂\u001b[0m⠀\u001b[38;5;1m⠠\u001b[0m\u001b[38;5;1m⠄\u001b[0m\u001b[38;5;1m⠌\u001b[0m\u001b[38;5;1m⠅\u001b[0m\u001b[38;5;1m⣀\u001b[0m⠀⠀\u001b[38;5;1m⢀\u001b[0m⠀\u001b[38;5;1m⠠\u001b[0m⠀\u001b[38;5;1m⠠\u001b[0m\u001b[38;5;1m⠠\u001b[0m⠀\u001b[38;5;1m⠲\u001b[0m\u001b[38;5;1m⢂\u001b[0m⠀\u001b[38;5;1m⠰\u001b[0m\u001b[38;5;1m⡄\u001b[0m⠀\u001b[38;5;1m⢀\u001b[0m\u001b[38;5;1m⠬\u001b[0m\u001b[38;5;1m⠈\u001b[0m⠀⠀⠀\u001b[38;5;8m│\u001b[0m \u001b[38;5;8m\u001b[0m   \n",
       "        \u001b[38;5;8m\u001b[0m \u001b[38;5;8m│\u001b[0m\u001b[38;5;1m⠈\u001b[0m⠀⠀\u001b[38;5;1m⠄\u001b[0m⠀⠀\u001b[38;5;1m⡀\u001b[0m\u001b[38;5;1m⠈\u001b[0m⠀⠀\u001b[38;5;1m⠙\u001b[0m⠀⠀⠀\u001b[38;5;1m⢀\u001b[0m\u001b[38;5;1m⢀\u001b[0m\u001b[38;5;1m⠂\u001b[0m⠀⠀\u001b[38;5;1m⡄\u001b[0m\u001b[38;5;1m⢀\u001b[0m⠀\u001b[38;5;1m⠠\u001b[0m⠀\u001b[38;5;1m⠂\u001b[0m⠀⠀\u001b[38;5;1m⠐\u001b[0m⠀⠀\u001b[38;5;1m⠸\u001b[0m⠀⠀⠀\u001b[38;5;1m⠈\u001b[0m\u001b[38;5;1m⠠\u001b[0m⠀\u001b[38;5;1m⠠\u001b[0m\u001b[38;5;1m⠁\u001b[0m⠀\u001b[38;5;1m⠂\u001b[0m⠀\u001b[38;5;8m│\u001b[0m \u001b[38;5;8m\u001b[0m   \n",
       "        \u001b[38;5;8m\u001b[0m \u001b[38;5;8m│\u001b[0m\u001b[38;5;1m⠄\u001b[0m⠀⠀⠀\u001b[38;5;1m⠄\u001b[0m\u001b[38;5;1m⠂\u001b[0m\u001b[38;5;1m⠂\u001b[0m⠀⠀⠀\u001b[38;5;1m⠡\u001b[0m\u001b[38;5;1m⠁\u001b[0m⠀\u001b[38;5;1m⢉\u001b[0m\u001b[38;5;1m⠄\u001b[0m⠀⠀⠀\u001b[38;5;1m⡐\u001b[0m\u001b[38;5;1m⠑\u001b[0m\u001b[38;5;1m⠂\u001b[0m\u001b[38;5;1m⠄\u001b[0m\u001b[38;5;1m⠂\u001b[0m⠀⠀⠀\u001b[38;5;1m⢀\u001b[0m⠀\u001b[38;5;1m⢀\u001b[0m⠀⠀⠀⠀\u001b[38;5;1m⠉\u001b[0m\u001b[38;5;1m⠠\u001b[0m\u001b[38;5;1m⠈\u001b[0m⠀\u001b[38;5;1m⠁\u001b[0m⠀⠀\u001b[38;5;1m⡀\u001b[0m\u001b[38;5;1m⠄\u001b[0m\u001b[38;5;8m│\u001b[0m \u001b[38;5;8m\u001b[0m   \n",
       "        \u001b[38;5;8m\u001b[0m \u001b[38;5;8m│\u001b[0m⠀⠀⠀⠀⠀⠀⠀⠀⠀⠀⠀\u001b[38;5;1m⠠\u001b[0m\u001b[38;5;1m⠂\u001b[0m⠀⠀\u001b[38;5;1m⠄\u001b[0m⠀⠀⠀⠀\u001b[38;5;1m⠐\u001b[0m\u001b[38;5;1m⡀\u001b[0m⠀⠀\u001b[38;5;1m⠁\u001b[0m⠀\u001b[38;5;1m⠐\u001b[0m⠀⠀⠀\u001b[38;5;1m⢰\u001b[0m\u001b[38;5;1m⡄\u001b[0m\u001b[38;5;1m⠁\u001b[0m⠀⠀\u001b[38;5;1m⠉\u001b[0m\u001b[38;5;1m⠠\u001b[0m⠀\u001b[38;5;1m⠠\u001b[0m⠀\u001b[38;5;1m⡀\u001b[0m⠀\u001b[38;5;8m│\u001b[0m \u001b[38;5;8m\u001b[0m   \n",
       "        \u001b[38;5;8m\u001b[0m \u001b[38;5;8m│\u001b[0m\u001b[38;5;1m⡁\u001b[0m\u001b[38;5;1m⠄\u001b[0m\u001b[38;5;1m⢀\u001b[0m\u001b[38;5;1m⠂\u001b[0m⠀\u001b[38;5;1m⠁\u001b[0m\u001b[38;5;1m⡈\u001b[0m\u001b[38;5;1m⠆\u001b[0m⠀\u001b[38;5;1m⠄\u001b[0m\u001b[38;5;1m⠁\u001b[0m\u001b[38;5;1m⠁\u001b[0m⠀\u001b[38;5;1m⠂\u001b[0m\u001b[38;5;1m⠁\u001b[0m⠀\u001b[38;5;1m⠂\u001b[0m\u001b[38;5;1m⢀\u001b[0m⠀⠀⠀⠀⠀⠀\u001b[38;5;1m⠁\u001b[0m⠀⠀\u001b[38;5;1m⡀\u001b[0m⠀\u001b[38;5;1m⠐\u001b[0m⠀⠀⠀⠀⠀⠀⠀\u001b[38;5;1m⢀\u001b[0m\u001b[38;5;1m⠄\u001b[0m\u001b[38;5;1m⠤\u001b[0m\u001b[38;5;1m⠁\u001b[0m\u001b[38;5;1m⠠\u001b[0m\u001b[38;5;8m│\u001b[0m \u001b[38;5;8m\u001b[0m   \n",
       "        \u001b[38;5;8m\u001b[0m \u001b[38;5;8m│\u001b[0m⠀\u001b[38;5;1m⠅\u001b[0m\u001b[38;5;1m⠄\u001b[0m\u001b[38;5;1m⠈\u001b[0m⠀\u001b[38;5;1m⢀\u001b[0m\u001b[38;5;1m⠂\u001b[0m\u001b[38;5;1m⠁\u001b[0m\u001b[38;5;1m⠐\u001b[0m⠀\u001b[38;5;1m⡠\u001b[0m\u001b[38;5;1m⠄\u001b[0m⠀\u001b[38;5;1m⠄\u001b[0m\u001b[38;5;1m⠐\u001b[0m⠀⠀⠀⠀\u001b[38;5;1m⡀\u001b[0m⠀\u001b[38;5;1m⠁\u001b[0m\u001b[38;5;1m⡢\u001b[0m⠀\u001b[38;5;1m⠙\u001b[0m⠀\u001b[38;5;1m⠇\u001b[0m⠀\u001b[38;5;1m⢂\u001b[0m⠀\u001b[38;5;1m⣠\u001b[0m⠀\u001b[38;5;1m⠂\u001b[0m⠀⠀\u001b[38;5;1m⠂\u001b[0m⠀\u001b[38;5;1m⠥\u001b[0m\u001b[38;5;1m⠄\u001b[0m\u001b[38;5;1m⢁\u001b[0m\u001b[38;5;1m⡀\u001b[0m\u001b[38;5;1m⡀\u001b[0m\u001b[38;5;8m│\u001b[0m \u001b[38;5;8m\u001b[0m   \n",
       "   \u001b[38;5;8m10000\u001b[0m \u001b[38;5;8m│\u001b[0m\u001b[38;5;1m⠘\u001b[0m⠀⠀⠀\u001b[38;5;1m⠈\u001b[0m\u001b[38;5;1m⠃\u001b[0m\u001b[38;5;1m⡁\u001b[0m\u001b[38;5;1m⠨\u001b[0m\u001b[38;5;1m⠁\u001b[0m\u001b[38;5;1m⠐\u001b[0m⠀⠀\u001b[38;5;1m⠈\u001b[0m\u001b[38;5;1m⠁\u001b[0m\u001b[38;5;1m⠄\u001b[0m⠀\u001b[38;5;1m⠁\u001b[0m⠀⠀\u001b[38;5;1m⠂\u001b[0m\u001b[38;5;1m⠁\u001b[0m\u001b[38;5;1m⢈\u001b[0m\u001b[38;5;1m⠁\u001b[0m⠀⠀\u001b[38;5;1m⡁\u001b[0m⠀⠀⠀\u001b[38;5;1m⢀\u001b[0m\u001b[38;5;1m⢰\u001b[0m⠀⠀\u001b[38;5;1m⠈\u001b[0m⠀\u001b[38;5;1m⠈\u001b[0m⠀⠀⠀⠀\u001b[38;5;1m⡂\u001b[0m⠀\u001b[38;5;8m│\u001b[0m \u001b[38;5;8m\u001b[0m   \n",
       "         \u001b[38;5;8m└──────────────────────────────────────────┘\u001b[0m    \n",
       "         ⠀\u001b[38;5;8m1\u001b[0m⠀⠀⠀⠀⠀⠀⠀⠀⠀⠀⠀⠀⠀⠀⠀⠀⠀⠀⠀\u001b[38;5;8m\u001b[0m⠀⠀⠀⠀⠀⠀⠀⠀⠀⠀⠀⠀⠀⠀⠀⠀⠀\u001b[38;5;8m10000\u001b[0m⠀    \n",
       "         ⠀⠀⠀⠀⠀⠀⠀⠀⠀⠀⠀⠀⠀⠀⠀⠀600 nonzeros⠀⠀⠀⠀⠀⠀⠀⠀⠀⠀⠀⠀⠀⠀⠀⠀    "
      ]
     },
     "execution_count": 15,
     "metadata": {},
     "output_type": "execute_result"
    }
   ],
   "source": [
    "spy(A[1:10000, 1:10000])"
   ]
  },
  {
   "cell_type": "markdown",
   "metadata": {},
   "source": [
    "## Q4 (5 pts) Dense linear algebra? \n",
    "\n",
    "Consider the following methods to obtain the page ranks of the `SNAP/web-Google` data. \n",
    "\n",
    "1. A dense linear system solver such as LU decomposition.  \n",
    "2. A dense eigen-solver for asymmetric matrix.  \n",
    "\n",
    "For the LU approach, estimate (1) the memory usage and (2) how long it will take assuming that the LAPACK functions can achieve the theoretical throughput of your computer. "
   ]
  },
  {
   "cell_type": "markdown",
   "metadata": {},
   "source": [
    "#### Solution "
   ]
  },
  {
   "cell_type": "markdown",
   "metadata": {},
   "source": [
    "1. Memory usage"
   ]
  },
  {
   "cell_type": "code",
   "execution_count": null,
   "metadata": {},
   "outputs": [],
   "source": []
  },
  {
   "cell_type": "markdown",
   "metadata": {},
   "source": [
    "2. Time"
   ]
  },
  {
   "cell_type": "markdown",
   "metadata": {},
   "source": [
    "LU decomposition takes $\\frac{2}{3} n^3 + 2n^2$ flops, so given our data this would require $\\frac{2}{3} (916428)^3 + 2(916428)^2 = 5.131 x 10^{17}$ flops"
   ]
  },
  {
   "cell_type": "code",
   "execution_count": 77,
   "metadata": {},
   "outputs": [
    {
     "data": {
      "text/plain": [
       "1.21141771559375e7"
      ]
     },
     "execution_count": 77,
     "metadata": {},
     "output_type": "execute_result"
    }
   ],
   "source": [
    "using Random, LinearAlgebra\n",
    "\n",
    "Random.seed!(1234)\n",
    "(5.131e17 / LinearAlgebra.peakflops())"
   ]
  },
  {
   "cell_type": "markdown",
   "metadata": {},
   "source": [
    "LU decomposition would take about $1.18 x 10^7$ seconds, which is about 177 days. "
   ]
  },
  {
   "cell_type": "markdown",
   "metadata": {},
   "source": [
    "## Q5 (75 pts) Iterative solvers\n",
    "\n",
    "Set the _teleportation_ parameter at $p = 0.85$. Consider the following methods for solving the PageRank problem. \n",
    "\n",
    "1. An iterative linear system solver such as GMRES. \n",
    "2. An iterative eigen-solver such as Arnoldi method.\n",
    "\n",
    "For iterative methods, we have many choices in Julia. See a list of existing Julia packages for linear solvers at this [page](https://jutho.github.io/KrylovKit.jl/stable/#Package-features-and-alternatives-1). The start-up code below uses the [KrylovKit.jl](https://github.com/Jutho/KrylovKit.jl) package. You can use other packages if you prefer. Make sure to utilize the special structure of $\\mathbf{P}$ (sparse + rank 1) to speed up the matrix-vector multiplication. "
   ]
  },
  {
   "cell_type": "markdown",
   "metadata": {},
   "source": [
    "### Step 1 (15 pts)\n",
    "\n",
    "Let's implement a type `PageRankImPt` that mimics the matrix $\\mathbf{M} = \\mathbf{I} - \\mathbf{P}^T$. For iterative methods, all we need to provide are methods for evaluating $\\mathbf{M} \\mathbf{v}$ and $\\mathbf{M}^T \\mathbf{v}$ for arbitrary vector $\\mathbf{v}$."
   ]
  },
  {
   "cell_type": "code",
   "execution_count": 28,
   "metadata": {},
   "outputs": [],
   "source": [
    "#import Pkg; Pkg.add(\"Revise\")"
   ]
  },
  {
   "cell_type": "code",
   "execution_count": 90,
   "metadata": {},
   "outputs": [],
   "source": [
    "using BenchmarkTools, LinearAlgebra, SparseArrays, Revise\n",
    "\n",
    "# a type for the matrix M = I - P^T in PageRank problem\n",
    "struct PageRankImPt{TA <: Number, IA <: Integer, T <: AbstractFloat} <: AbstractMatrix{T}\n",
    "    A         :: SparseMatrixCSC{TA, IA} # adjacency matrix\n",
    "    telep     :: T\n",
    "    # working arrays\n",
    "    d         :: Vector{T}\n",
    "    c         :: Vector{T}\n",
    "    store_n   :: Vector{T}\n",
    "end\n",
    "\n",
    "# constructor\n",
    "function PageRankImPt(A::SparseMatrixCSC, telep::T) where T <: AbstractFloat\n",
    "    n = size(A, 1)\n",
    "    # TODO: initialize and pre-allocate arrays\n",
    "    outdegree = sum(A, dims = 2)[:, 1] # vector of row sums\n",
    "    d = zeros(n) # diagonal elements to be multiplied by A (nx1), can make undefined \n",
    "    c = zeros(n) # vector of constants (nx1)\n",
    "    for i = 1:n\n",
    "        if outdegree[i] > 0\n",
    "            d[i] = telep / outdegree[i]\n",
    "            c[i] = (1 - telep) / n\n",
    "        else \n",
    "            d[i] = 0\n",
    "            c[i] = 1 / n\n",
    "        end\n",
    "    end\n",
    "    # D = Diagonal(d)\n",
    "    store_n = Vector{T}(undef, n)\n",
    "    one_n = ones(n)\n",
    "    PageRankImPt(A, telep, d, c, store_n)\n",
    "end\n",
    "\n",
    "LinearAlgebra.issymmetric(::PageRankImPt) = false\n",
    "Base.size(M::PageRankImPt) = size(M.A) # creates a matrix M that's nxn \n",
    "\n",
    "# TODO: implement this function for evaluating M[i, j] \n",
    "# where M = I - P' = I - A'D' - 1c'\n",
    "\n",
    "#Base.getindex(M::PageRankImPt, i, j) = I[i, j] - M.A[j, i] * M.d[j] - M.c[j] # M.telep \n",
    "Base.getindex(M::PageRankImPt, i, j) = iszero(i - j) - M.d[j] * M.A[j, i] - M.c[j] \n",
    "#M.telep # not important ?\n",
    "\n",
    "# overwrite `out` by `(I - Pt) * v`\n",
    "function LinearAlgebra.mul!(\n",
    "        out :: Vector{T}, \n",
    "        M   :: PageRankImPt{<:Number, <:Integer, T}, \n",
    "        v   :: Vector{T}\n",
    "        ) where T <: AbstractFloat\n",
    "    \n",
    "    # TODO: implement mul!(out, M, v)\n",
    "    \n",
    "    M.store_n .= M.d .* v # Dv (nx1), element-wise multiplication\n",
    "    ctv = dot(M.c, v) # c'v (constant)\n",
    "    \n",
    "    # out = A'D'v (nx1)\n",
    "    mul!(out, transpose(M.A), M.store_n)\n",
    "    \n",
    "    # Mv = v - A'D'v - 1(c'v)\n",
    "    out .= v .- out .- ctv\n",
    "    \n",
    "    # sleep(1e-2) # wait 10 ms as if your code takes 1ms\n",
    "    return out\n",
    "end\n",
    "\n",
    "# overwrite `out` by `(I - P) * v`\n",
    "function LinearAlgebra.mul!(\n",
    "        out :: Vector{T}, \n",
    "        Mt  :: Transpose{T, PageRankImPt{TA, IA, T}}, \n",
    "        v   :: Vector{T}\n",
    "        ) where {TA<:Number, IA<:Integer, T <: AbstractFloat}\n",
    "    \n",
    "    M = Mt.parent # M.A is back to A?, pointing to M? M is now is the transposed version \n",
    "    \n",
    "    # TODO: implement mul!(out, transpose(M), v)\n",
    "    \n",
    "    sumv = sum(v) # 1'v (constant)\n",
    "    \n",
    "    # out = (A')'v (nx1)\n",
    "    mul!(out, M.A, v)\n",
    "    \n",
    "    # M.d .* out Dv = D'v, element-wise multiplication\n",
    "    # BLAS.scal!(sumv, M.c)\n",
    "    out .= v .- M.d .* out .- sumv .* M.c\n",
    "    \n",
    "    # sleep(1e-2) # wait 10 ms as if your code takes 1ms\n",
    "    return out\n",
    "end"
   ]
  },
  {
   "cell_type": "markdown",
   "metadata": {},
   "source": [
    "To check correctness. Note \n",
    "$$\n",
    "\\mathbf{M}^T \\mathbf{1} = \\mathbf{0}\n",
    "$$\n",
    "and\n",
    "$$\n",
    "\\mathbf{M} \\mathbf{x} = \\mathbf{0}\n",
    "$$\n",
    "for stationary distribution $\\mathbf{x}$.\n",
    "\n",
    "Download the solution file `pgrksol.csv.gz`. **Do not put this file in your Git**. You will lose points if you do. You can add a line `pgrksol.csv.gz` to your `.gitignore` file."
   ]
  },
  {
   "cell_type": "code",
   "execution_count": 5,
   "metadata": {},
   "outputs": [],
   "source": [
    "#import Pkg; Pkg.add(\"CodecZlib\")"
   ]
  },
  {
   "cell_type": "code",
   "execution_count": 43,
   "metadata": {},
   "outputs": [
    {
     "data": {
      "text/plain": [
       "916428-element Vector{Float64}:\n",
       " 3.3783428216975054e-5\n",
       " 2.0710155392568165e-6\n",
       " 3.663065984832893e-6\n",
       " 7.527510785028837e-7\n",
       " 8.63328599674051e-7\n",
       " 1.769418252415541e-6\n",
       " 2.431230382883396e-7\n",
       " 6.368417180141445e-7\n",
       " 4.744973703681939e-7\n",
       " 2.6895486110647536e-7\n",
       " 3.18574314847409e-6\n",
       " 7.375106374416742e-7\n",
       " 2.431230382883396e-7\n",
       " ⋮\n",
       " 1.1305006040148547e-6\n",
       " 4.874825281822915e-6\n",
       " 3.167946973112519e-6\n",
       " 9.72688040308568e-7\n",
       " 6.588614479285245e-7\n",
       " 7.737011774300648e-7\n",
       " 2.431230382883396e-7\n",
       " 1.6219204214797293e-6\n",
       " 3.912130060551738e-7\n",
       " 2.431230382883396e-7\n",
       " 7.296033831163157e-6\n",
       " 6.330939996912478e-7"
      ]
     },
     "execution_count": 43,
     "metadata": {},
     "output_type": "execute_result"
    }
   ],
   "source": [
    "using CodecZlib, DelimitedFiles\n",
    "\n",
    "isfile(\"pgrksol.csv.gz\") || download(\"https://raw.githubusercontent.com/ucla-biostat-257/2022spring/master/hw/hw4/pgrksol.csv.gz\")\n",
    "xsol = open(\"pgrksol.csv.gz\", \"r\") do io\n",
    "    vec(readdlm(GzipDecompressorStream(io)))\n",
    "end"
   ]
  },
  {
   "cell_type": "markdown",
   "metadata": {},
   "source": [
    "**You will lose all 35 points (Steps 1 and 2)** if the following statements throw AssertError."
   ]
  },
  {
   "cell_type": "code",
   "execution_count": 50,
   "metadata": {},
   "outputs": [],
   "source": [
    "M = PageRankImPt(A, 0.85)\n",
    "n = size(M, 1)\n",
    "\n",
    "#@assert transpose(M) * ones(n) ≈ zeros(n)\n",
    "@assert norm(transpose(M) * ones(n)) < 1e-12"
   ]
  },
  {
   "cell_type": "code",
   "execution_count": 49,
   "metadata": {},
   "outputs": [],
   "source": [
    "# @assert M * xsol ≈ zeros(n)\n",
    "norm(M * xsol)\n",
    "@assert norm(M * xsol) < 1e-12"
   ]
  },
  {
   "cell_type": "markdown",
   "metadata": {},
   "source": [
    "### Step 2 (20 pts)\n",
    "\n",
    "We want to benchmark the hot functions `mul!` to make sure they are efficient and allocate little memory."
   ]
  },
  {
   "cell_type": "code",
   "execution_count": 51,
   "metadata": {},
   "outputs": [
    {
     "data": {
      "text/plain": [
       "BenchmarkTools.Trial: 78 samples with 1 evaluation.\n",
       " Range \u001b[90m(\u001b[39m\u001b[36m\u001b[1mmin\u001b[22m\u001b[39m … \u001b[35mmax\u001b[39m\u001b[90m):  \u001b[39m\u001b[36m\u001b[1m61.116 ms\u001b[22m\u001b[39m … \u001b[35m86.947 ms\u001b[39m  \u001b[90m┊\u001b[39m GC \u001b[90m(\u001b[39mmin … max\u001b[90m): \u001b[39m0.00% … 0.00%\n",
       " Time  \u001b[90m(\u001b[39m\u001b[34m\u001b[1mmedian\u001b[22m\u001b[39m\u001b[90m):     \u001b[39m\u001b[34m\u001b[1m61.571 ms              \u001b[22m\u001b[39m\u001b[90m┊\u001b[39m GC \u001b[90m(\u001b[39mmedian\u001b[90m):    \u001b[39m0.00%\n",
       " Time  \u001b[90m(\u001b[39m\u001b[32m\u001b[1mmean\u001b[22m\u001b[39m ± \u001b[32mσ\u001b[39m\u001b[90m):   \u001b[39m\u001b[32m\u001b[1m63.190 ms\u001b[22m\u001b[39m ± \u001b[32m 4.161 ms\u001b[39m  \u001b[90m┊\u001b[39m GC \u001b[90m(\u001b[39mmean ± σ\u001b[90m):  \u001b[39m0.00% ± 0.00%\n",
       "\n",
       "  \u001b[39m▇\u001b[34m█\u001b[39m\u001b[39m \u001b[39m \u001b[39m \u001b[39m \u001b[32m \u001b[39m\u001b[39m \u001b[39m \u001b[39m \u001b[39m \u001b[39m \u001b[39m \u001b[39m \u001b[39m \u001b[39m \u001b[39m \u001b[39m \u001b[39m \u001b[39m \u001b[39m \u001b[39m \u001b[39m \u001b[39m \u001b[39m \u001b[39m \u001b[39m \u001b[39m \u001b[39m \u001b[39m \u001b[39m \u001b[39m \u001b[39m \u001b[39m \u001b[39m \u001b[39m \u001b[39m \u001b[39m \u001b[39m \u001b[39m \u001b[39m \u001b[39m \u001b[39m \u001b[39m \u001b[39m \u001b[39m \u001b[39m \u001b[39m \u001b[39m \u001b[39m \u001b[39m \u001b[39m \u001b[39m \u001b[39m \u001b[39m \u001b[39m \u001b[39m \u001b[39m \u001b[39m \u001b[39m \u001b[39m \n",
       "  \u001b[39m█\u001b[34m█\u001b[39m\u001b[39m▆\u001b[39m▃\u001b[39m▃\u001b[39m▃\u001b[32m▃\u001b[39m\u001b[39m▁\u001b[39m▁\u001b[39m▃\u001b[39m▃\u001b[39m▁\u001b[39m▁\u001b[39m▁\u001b[39m▃\u001b[39m▁\u001b[39m▃\u001b[39m▁\u001b[39m▃\u001b[39m▃\u001b[39m▃\u001b[39m▃\u001b[39m▁\u001b[39m▁\u001b[39m▁\u001b[39m▁\u001b[39m▁\u001b[39m▁\u001b[39m▃\u001b[39m▁\u001b[39m▁\u001b[39m▁\u001b[39m▁\u001b[39m▁\u001b[39m▁\u001b[39m▁\u001b[39m▁\u001b[39m▁\u001b[39m▁\u001b[39m▁\u001b[39m▁\u001b[39m▁\u001b[39m▁\u001b[39m▁\u001b[39m▁\u001b[39m▁\u001b[39m▁\u001b[39m▁\u001b[39m▁\u001b[39m▁\u001b[39m▁\u001b[39m▁\u001b[39m▁\u001b[39m▁\u001b[39m▁\u001b[39m▁\u001b[39m▁\u001b[39m▁\u001b[39m▃\u001b[39m \u001b[39m▁\n",
       "  61.1 ms\u001b[90m         Histogram: frequency by time\u001b[39m        81.4 ms \u001b[0m\u001b[1m<\u001b[22m\n",
       "\n",
       " Memory estimate\u001b[90m: \u001b[39m\u001b[33m0 bytes\u001b[39m, allocs estimate\u001b[90m: \u001b[39m\u001b[33m0\u001b[39m."
      ]
     },
     "execution_count": 51,
     "metadata": {},
     "output_type": "execute_result"
    }
   ],
   "source": [
    "M = PageRankImPt(A, 0.85)\n",
    "n = size(M, 1)\n",
    "v, out = ones(n), zeros(n)\n",
    "bm_mv = @benchmark mul!($out, $M, $v) setup=(fill!(out, 0); fill!(v, 1))"
   ]
  },
  {
   "cell_type": "code",
   "execution_count": 52,
   "metadata": {},
   "outputs": [
    {
     "data": {
      "text/plain": [
       "BenchmarkTools.Trial: 55 samples with 1 evaluation.\n",
       " Range \u001b[90m(\u001b[39m\u001b[36m\u001b[1mmin\u001b[22m\u001b[39m … \u001b[35mmax\u001b[39m\u001b[90m):  \u001b[39m\u001b[36m\u001b[1m86.179 ms\u001b[22m\u001b[39m … \u001b[35m126.372 ms\u001b[39m  \u001b[90m┊\u001b[39m GC \u001b[90m(\u001b[39mmin … max\u001b[90m): \u001b[39m0.00% … 0.00%\n",
       " Time  \u001b[90m(\u001b[39m\u001b[34m\u001b[1mmedian\u001b[22m\u001b[39m\u001b[90m):     \u001b[39m\u001b[34m\u001b[1m87.695 ms               \u001b[22m\u001b[39m\u001b[90m┊\u001b[39m GC \u001b[90m(\u001b[39mmedian\u001b[90m):    \u001b[39m0.00%\n",
       " Time  \u001b[90m(\u001b[39m\u001b[32m\u001b[1mmean\u001b[22m\u001b[39m ± \u001b[32mσ\u001b[39m\u001b[90m):   \u001b[39m\u001b[32m\u001b[1m90.225 ms\u001b[22m\u001b[39m ± \u001b[32m  7.251 ms\u001b[39m  \u001b[90m┊\u001b[39m GC \u001b[90m(\u001b[39mmean ± σ\u001b[90m):  \u001b[39m0.00% ± 0.00%\n",
       "\n",
       "  \u001b[39m \u001b[39m▃\u001b[39m█\u001b[34m▄\u001b[39m\u001b[39m \u001b[39m \u001b[39m \u001b[39m \u001b[32m \u001b[39m\u001b[39m \u001b[39m \u001b[39m \u001b[39m \u001b[39m \u001b[39m \u001b[39m \u001b[39m \u001b[39m \u001b[39m \u001b[39m \u001b[39m \u001b[39m \u001b[39m \u001b[39m \u001b[39m \u001b[39m \u001b[39m \u001b[39m \u001b[39m \u001b[39m \u001b[39m \u001b[39m \u001b[39m \u001b[39m \u001b[39m \u001b[39m \u001b[39m \u001b[39m \u001b[39m \u001b[39m \u001b[39m \u001b[39m \u001b[39m \u001b[39m \u001b[39m \u001b[39m \u001b[39m \u001b[39m \u001b[39m \u001b[39m \u001b[39m \u001b[39m \u001b[39m \u001b[39m \u001b[39m \u001b[39m \u001b[39m \u001b[39m \u001b[39m \u001b[39m \u001b[39m \u001b[39m \n",
       "  \u001b[39m▇\u001b[39m█\u001b[39m█\u001b[34m█\u001b[39m\u001b[39m▆\u001b[39m▁\u001b[39m▄\u001b[39m▃\u001b[32m▅\u001b[39m\u001b[39m▄\u001b[39m▁\u001b[39m▁\u001b[39m▃\u001b[39m▁\u001b[39m▁\u001b[39m▁\u001b[39m▁\u001b[39m▁\u001b[39m▁\u001b[39m▁\u001b[39m▁\u001b[39m▅\u001b[39m▃\u001b[39m▁\u001b[39m▁\u001b[39m▁\u001b[39m▁\u001b[39m▁\u001b[39m▁\u001b[39m▁\u001b[39m▁\u001b[39m▁\u001b[39m▁\u001b[39m▁\u001b[39m▁\u001b[39m▁\u001b[39m▁\u001b[39m▁\u001b[39m▁\u001b[39m▁\u001b[39m▁\u001b[39m▁\u001b[39m▁\u001b[39m▁\u001b[39m▁\u001b[39m▃\u001b[39m▁\u001b[39m▁\u001b[39m▁\u001b[39m▁\u001b[39m▁\u001b[39m▁\u001b[39m▁\u001b[39m▁\u001b[39m▁\u001b[39m▁\u001b[39m▁\u001b[39m▁\u001b[39m▁\u001b[39m▃\u001b[39m \u001b[39m▁\n",
       "  86.2 ms\u001b[90m         Histogram: frequency by time\u001b[39m          116 ms \u001b[0m\u001b[1m<\u001b[22m\n",
       "\n",
       " Memory estimate\u001b[90m: \u001b[39m\u001b[33m0 bytes\u001b[39m, allocs estimate\u001b[90m: \u001b[39m\u001b[33m0\u001b[39m."
      ]
     },
     "execution_count": 52,
     "metadata": {},
     "output_type": "execute_result"
    }
   ],
   "source": [
    "bm_mtv = @benchmark mul!($out, $(transpose(M)), $v) setup=(fill!(out, 0); fill!(v, 1))"
   ]
  },
  {
   "cell_type": "markdown",
   "metadata": {},
   "source": [
    "You will lose 1 point for each 100 bytes memory allocation. So the points you will get is"
   ]
  },
  {
   "cell_type": "code",
   "execution_count": 53,
   "metadata": {},
   "outputs": [
    {
     "data": {
      "text/plain": [
       "20.0"
      ]
     },
     "execution_count": 53,
     "metadata": {},
     "output_type": "execute_result"
    }
   ],
   "source": [
    "clamp(10 - median(bm_mv).memory / 100, 0, 10) + \n",
    "clamp(10 - median(bm_mtv).memory / 100, 0, 10)"
   ]
  },
  {
   "cell_type": "markdown",
   "metadata": {},
   "source": [
    "**Hint**: My median run times are 30-40 ms and memory allocations are 0 bytes."
   ]
  },
  {
   "cell_type": "markdown",
   "metadata": {},
   "source": [
    "### Step 3 (20 pts)\n",
    "\n",
    "Let's first try to solve the PageRank problem by the GMRES method for solving linear equations. "
   ]
  },
  {
   "cell_type": "code",
   "execution_count": 55,
   "metadata": {},
   "outputs": [
    {
     "name": "stderr",
     "output_type": "stream",
     "text": [
      "\u001b[32m\u001b[1m    Updating\u001b[22m\u001b[39m registry at `~/.julia/registries/General.toml`\n",
      "\u001b[32m\u001b[1m   Resolving\u001b[22m\u001b[39m package versions...\n",
      "\u001b[32m\u001b[1m   Installed\u001b[22m\u001b[39m KrylovKit ─ v0.5.4\n",
      "\u001b[32m\u001b[1m    Updating\u001b[22m\u001b[39m `~/biostat-257-2022-spring/Project.toml`\n",
      " \u001b[90m [0b1a1467] \u001b[39m\u001b[92m+ KrylovKit v0.5.4\u001b[39m\n",
      "\u001b[32m\u001b[1m    Updating\u001b[22m\u001b[39m `~/biostat-257-2022-spring/Manifest.toml`\n",
      " \u001b[90m [0b1a1467] \u001b[39m\u001b[92m+ KrylovKit v0.5.4\u001b[39m\n",
      "\u001b[32m\u001b[1mPrecompiling\u001b[22m\u001b[39m project...\n",
      "\u001b[32m  ✓ \u001b[39mKrylovKit\n",
      "  1 dependency successfully precompiled in 5 seconds (249 already precompiled)\n"
     ]
    }
   ],
   "source": [
    "#import Pkg; Pkg.add(\"KrylovKit\")"
   ]
  },
  {
   "cell_type": "code",
   "execution_count": 56,
   "metadata": {},
   "outputs": [
    {
     "data": {
      "text/plain": [
       "(value = ([3.3783428221986054e-5, 2.0710155392544003e-6, 3.6630659852478028e-6, 7.527510785625115e-7, 8.633285997186966e-7, 1.7694182527430189e-6, 2.4312303829196376e-7, 6.368417180766123e-7, 4.744973703764497e-7, 2.689548611104835e-7  …  3.1679469739868288e-6, 9.726880410259511e-7, 6.588614478562195e-7, 7.737011774737646e-7, 2.4312303829196376e-7, 1.6219204214293997e-6, 3.9121300606432984e-7, 2.4312303829196376e-7, 7.2960338313468936e-6, 6.330939996697664e-7], ConvergenceInfo: one converged value after 3 iterations and 72 applications of the linear map;\n",
       "norms of residuals are given by (7.821151654716082e-13,).\n",
       "), time = 11.498572072, bytes = 1012868490, gctime = 0.271922038, gcstats = Base.GC_Diff(1012868490, 137, 0, 140097, 7, 0, 271922038, 4, 0))"
      ]
     },
     "execution_count": 56,
     "metadata": {},
     "output_type": "execute_result"
    }
   ],
   "source": [
    "using KrylovKit\n",
    "\n",
    "# normalize in-degrees to be the start point\n",
    "x0   = vec(sum(A, dims = 1)) .+ 1.0\n",
    "x0 ./= sum(x0)\n",
    "\n",
    "# right hand side\n",
    "b = zeros(n)\n",
    "\n",
    "# warm up (compilation)\n",
    "linsolve(M, b, x0, issymmetric = false, isposdef = false, maxiter = 1) \n",
    "# output is complex eigenvalue/eigenvector\n",
    "(x_gmres, info), time_gmres, = @timed linsolve(M, b, x0, issymmetric = false, isposdef = false)"
   ]
  },
  {
   "cell_type": "markdown",
   "metadata": {},
   "source": [
    "Check correctness. **You will lose all 20 points if the following statement throws `AssertError`.**"
   ]
  },
  {
   "cell_type": "code",
   "execution_count": 57,
   "metadata": {},
   "outputs": [],
   "source": [
    "@assert norm(x_gmres - xsol) < 1e-8"
   ]
  },
  {
   "cell_type": "markdown",
   "metadata": {},
   "source": [
    "GMRES should be reasonably fast. The points you'll get is"
   ]
  },
  {
   "cell_type": "code",
   "execution_count": 58,
   "metadata": {},
   "outputs": [
    {
     "data": {
      "text/plain": [
       "20.0"
      ]
     },
     "execution_count": 58,
     "metadata": {},
     "output_type": "execute_result"
    }
   ],
   "source": [
    "clamp(20 / time_gmres * 20, 0, 20)"
   ]
  },
  {
   "cell_type": "markdown",
   "metadata": {},
   "source": [
    "**Hint**: My runtime is about 7-8 seconds."
   ]
  },
  {
   "cell_type": "markdown",
   "metadata": {},
   "source": [
    "### Step 4 (20 pts)\n",
    "\n",
    "Let's first try to solve the PageRank problem by the Arnoldi method for solving eigen problems. "
   ]
  },
  {
   "cell_type": "code",
   "execution_count": 91,
   "metadata": {},
   "outputs": [
    {
     "data": {
      "text/plain": [
       "(value = (ComplexF64[-3.653836029264281e-14 + 0.0im], Vector{ComplexF64}[[0.005635826953807308 + 0.0im, 0.00034549143807828384 + 0.0im, 0.000611080849412529 + 0.0im, 0.00012557561626036273 + 0.0im, 0.00014402240532804286 + 0.0im, 0.0002951783050398634 + 0.0im, 4.055832828678566e-5 + 0.0im, 0.00010623935784852789 + 0.0im, 7.915671116196516e-5 + 0.0im, 4.4867650667256554e-5 + 0.0im  …  0.0005284839899796966 + 0.0im, 0.0001622659914798883 + 0.0im, 0.00010991273837610668 + 0.0im, 0.00012907055855752622 + 0.0im, 4.055832828678567e-5 + 0.0im, 0.00027057238743205243 + 0.0im, 6.526302748334149e-5 + 0.0im, 4.055832828678567e-5 + 0.0im, 0.001217140660132936 + 0.0im, 0.00010561415510700478 + 0.0im]], ConvergenceInfo: one converged value after 7 iterations and 99 applications of the linear map;\n",
       "norms of residuals are given by (9.575262040976209e-14,).\n",
       "), time = 24.242817221, bytes = 1580664800, gctime = 0.757232428, gcstats = Base.GC_Diff(1580664800, 213, 0, 66864, 20, 0, 757232428, 4, 0))"
      ]
     },
     "execution_count": 91,
     "metadata": {},
     "output_type": "execute_result"
    }
   ],
   "source": [
    "# warm up (compilation)\n",
    "eigsolve(M, x0, 1, :SR, issymmetric = false, maxiter = 1)\n",
    "# output is complex eigenvalue/eigenvector\n",
    "(vals, vecs, info), time_arnoldi, = @timed eigsolve(M, x0, 1, :SR, issymmetric = false)"
   ]
  },
  {
   "cell_type": "markdown",
   "metadata": {},
   "source": [
    "Check correctness. **You will lose all 20 points if the following statement throws `AssertError`.**"
   ]
  },
  {
   "cell_type": "code",
   "execution_count": 87,
   "metadata": {},
   "outputs": [],
   "source": [
    "@assert abs(Real(vals[1])) < 1e-8"
   ]
  },
  {
   "cell_type": "code",
   "execution_count": 88,
   "metadata": {},
   "outputs": [],
   "source": [
    "x_arnoldi   = abs.(Real.(vecs[1]))\n",
    "x_arnoldi ./= sum(x_arnoldi)\n",
    "@assert norm(x_arnoldi - xsol) < 1e-8"
   ]
  },
  {
   "cell_type": "markdown",
   "metadata": {},
   "source": [
    "Arnoldi should be reasonably fast. The points you'll get is"
   ]
  },
  {
   "cell_type": "code",
   "execution_count": 93,
   "metadata": {},
   "outputs": [
    {
     "data": {
      "text/plain": [
       "16.499732533292608"
      ]
     },
     "execution_count": 93,
     "metadata": {},
     "output_type": "execute_result"
    }
   ],
   "source": [
    "clamp(20 / time_arnoldi * 20, 0, 20)"
   ]
  },
  {
   "cell_type": "code",
   "execution_count": 92,
   "metadata": {},
   "outputs": [
    {
     "data": {
      "text/plain": [
       "24.242817221"
      ]
     },
     "execution_count": 92,
     "metadata": {},
     "output_type": "execute_result"
    }
   ],
   "source": [
    "time_arnoldi"
   ]
  },
  {
   "cell_type": "markdown",
   "metadata": {},
   "source": [
    "**Hint**: My runtime is about 11-12 seconds."
   ]
  },
  {
   "cell_type": "markdown",
   "metadata": {},
   "source": [
    "## Q6 (5 pts) Results\n",
    "\n",
    "List the top 20 pages you found and their corresponding PageRank score. Do they match the top 20 pages ranked according to in-degrees? "
   ]
  },
  {
   "cell_type": "markdown",
   "metadata": {},
   "source": [
    "## Q7 Be proud of yourself\n",
    "\n",
    "Go to your resume/cv and claim you have experience performing analysis on a network of one million nodes."
   ]
  }
 ],
 "metadata": {
  "@webio": {
   "lastCommId": null,
   "lastKernelId": null
  },
  "kernelspec": {
   "display_name": "Julia 1.7.2",
   "language": "julia",
   "name": "julia-1.7"
  },
  "language_info": {
   "file_extension": ".jl",
   "mimetype": "application/julia",
   "name": "julia",
   "version": "1.7.2"
  },
  "toc": {
   "colors": {
    "hover_highlight": "#DAA520",
    "running_highlight": "#FF0000",
    "selected_highlight": "#FFD700"
   },
   "moveMenuLeft": true,
   "nav_menu": {
    "height": "87px",
    "width": "252px"
   },
   "navigate_menu": true,
   "number_sections": false,
   "sideBar": true,
   "skip_h1_title": true,
   "threshold": 4,
   "toc_cell": false,
   "toc_section_display": "block",
   "toc_window_display": true,
   "widenNotebook": false
  }
 },
 "nbformat": 4,
 "nbformat_minor": 4
}
