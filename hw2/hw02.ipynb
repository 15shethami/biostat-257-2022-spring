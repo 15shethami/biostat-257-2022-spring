{
 "cells": [
  {
   "cell_type": "markdown",
   "metadata": {},
   "source": [
    "# Biostat 257 Homework 2\n",
    "\n",
    "**Due Apr 29 @ 11:59PM**\n",
    "\n",
    "Ami Sheth"
   ]
  },
  {
   "cell_type": "code",
   "execution_count": 1,
   "metadata": {},
   "outputs": [
    {
     "name": "stdout",
     "output_type": "stream",
     "text": [
      "Julia Version 1.7.2\n",
      "Commit bf53498635 (2022-02-06 15:21 UTC)\n",
      "Platform Info:\n",
      "  OS: macOS (x86_64-apple-darwin19.5.0)\n",
      "  CPU: Intel(R) Core(TM) i5-4260U CPU @ 1.40GHz\n",
      "  WORD_SIZE: 64\n",
      "  LIBM: libopenlibm\n",
      "  LLVM: libLLVM-12.0.1 (ORCJIT, haswell)\n"
     ]
    }
   ],
   "source": [
    "versioninfo()"
   ]
  },
  {
   "cell_type": "code",
   "execution_count": 2,
   "metadata": {},
   "outputs": [],
   "source": [
    "# load libraries\n",
    "# import Pkg; Pkg.add(\"Images\")\n",
    "using BenchmarkTools, DelimitedFiles, Images, LinearAlgebra, Random"
   ]
  },
  {
   "cell_type": "markdown",
   "metadata": {},
   "source": [
    "## Q1. Nonnegative Matrix Factorization\n",
    "\n",
    "Nonnegative matrix factorization (NNMF) was introduced by [Lee and Seung (1999)](https://www.nature.com/articles/44565) as an analog of principal components and vector quantization with applications in data compression and clustering. In this homework we consider algorithms for fitting NNMF and (optionally) high performance computing using graphical processing units (GPUs).\n",
    "\n",
    "<img src=\"./nnmf.png\" width=\"500\" align=\"center\"/>\n",
    "\n",
    "In mathematical terms, one approximates a data matrix $\\mathbf{X} \\in \\mathbb{R}^{m \\times n}$ with nonnegative entries $x_{ij}$ by a product of two low-rank matrices $\\mathbf{V} \\in \\mathbb{R}^{m \\times r}$ and $\\mathbf{W} \\in \\mathbb{R}^{r \\times n}$ with nonnegative entries $v_{ik}$ and $w_{kj}$. Consider minimization of the squared Frobenius norm\n",
    "$$\n",
    "\tL(\\mathbf{V}, \\mathbf{W}) = \\|\\mathbf{X} - \\mathbf{V} \\mathbf{W}\\|_{\\text{F}}^2 = \\sum_i \\sum_j \\left(x_{ij} - \\sum_k v_{ik} w_{kj} \\right)^2, \\quad v_{ik} \\ge 0, w_{kj} \\ge 0,\n",
    "$$\n",
    "which should lead to a good factorization. Lee and Seung suggest an iterative algorithm with multiplicative updates\n",
    "$$\n",
    "v_{ik}^{(t+1)} = v_{ik}^{(t)} \\frac{\\sum_j x_{ij} w_{kj}^{(t)}}{\\sum_j b_{ij}^{(t)} w_{kj}^{(t)}}, \\quad \\text{where } b_{ij}^{(t)} = \\sum_k v_{ik}^{(t)} w_{kj}^{(t)},\n",
    "$$\n",
    "$$\n",
    "w_{kj}^{(t+1)} = w_{kj}^{(t)} \\frac{\\sum_i x_{ij} v_{ik}^{(t+1)}}{\\sum_i b_{ij}^{(t+1/2)} v_{ik}^{(t+1)}}, \\quad \\text{where } b_{ij}^{(t+1/2)} = \\sum_k v_{ik}^{(t+1)} w_{kj}^{(t)}\n",
    "$$\n",
    "that will drive the objective $L^{(t)} = L(\\mathbf{V}^{(t)}, \\mathbf{W}^{(t)})$ downhill. Superscript $t$ indicates iteration number. In following questions, efficiency (both speed and memory) will be the most important criterion when grading this problem."
   ]
  },
  {
   "cell_type": "markdown",
   "metadata": {},
   "source": [
    "### Q1.1 Develop code\n",
    "\n",
    "Implement the algorithm with arguments: $\\mathbf{X}$ (data, each row is a vectorized image), rank $r$, convergence tolerance, and optional starting point."
   ]
  },
  {
   "cell_type": "markdown",
   "metadata": {},
   "source": [
    "#### Solution\n",
    "\n",
    "**Step 1: Prototyping**"
   ]
  },
  {
   "cell_type": "code",
   "execution_count": 25,
   "metadata": {},
   "outputs": [
    {
     "data": {
      "text/plain": [
       "nnmf_prototype (generic function with 1 method)"
      ]
     },
     "execution_count": 25,
     "metadata": {},
     "output_type": "execute_result"
    }
   ],
   "source": [
    "function nnmf_prototype(\n",
    "    X       :: Matrix{T}, \n",
    "    r       :: Integer;\n",
    "    maxiter :: Integer = 1000, \n",
    "    tolfun  :: Number = 1e-4,\n",
    "    V       :: Matrix{T} = rand(T, size(X, 1), r),\n",
    "    W       :: Matrix{T} = rand(T, r, size(X, 2)),\n",
    "    verbose :: Bool = false # display intermediate code\n",
    "    ) where T <: AbstractFloat\n",
    "    # implementation\n",
    "    obj = norm(X - V * W)^2 \n",
    "    if verbose # useful for debugging\n",
    "        println(\"iter = 0, obj = $obj\")\n",
    "    end\n",
    "    niter = maxiter # if condition never met, returns max iteration\n",
    "    for iter in 1:maxiter\n",
    "        # update V\n",
    "        V .= V .* (X * W') ./ (V * W * W')\n",
    "        # update W\n",
    "        W .= W .* (V' * X) ./ (V' * V * W)\n",
    "        # update obj\n",
    "        objold = obj\n",
    "        obj = norm(X - V * W)^2 \n",
    "        if verbose\n",
    "            println(\"iter = 0, obj = $obj\")\n",
    "        end\n",
    "        # check convergence\n",
    "        if abs(obj - objold) ≤ tolfun * (abs(objold) + 1)\n",
    "            niter = iter\n",
    "            break\n",
    "        end\n",
    "    end\n",
    "    if niter == maxiter\n",
    "        @warn \"maxiter reached without convergence\"\n",
    "    end\n",
    "    # Output\n",
    "    V, W, obj, niter\n",
    "end"
   ]
  },
  {
   "cell_type": "markdown",
   "metadata": {},
   "source": [
    "Ways to improve allocation: \n",
    "1. BLAS function for multiplication of matrices\n",
    "2. Order of multiplying matrices matters when more than 2; i.e. W by W^T first because r is low rank, so rxr is smaller\n",
    "3. Look at flop counts \n",
    "\n",
    "What does not matter:\n",
    "1. Scalars do not affect allocation\n",
    "2. Elementwise operations are fused into one loop so it does not cause allocation"
   ]
  },
  {
   "cell_type": "markdown",
   "metadata": {},
   "source": [
    "**Step 2: Optimize code (benchmarking, profiling, ...)**"
   ]
  },
  {
   "cell_type": "code",
   "execution_count": 81,
   "metadata": {},
   "outputs": [
    {
     "data": {
      "text/plain": [
       "nnmf (generic function with 1 method)"
      ]
     },
     "execution_count": 81,
     "metadata": {},
     "output_type": "execute_result"
    }
   ],
   "source": [
    "function nnmf(\n",
    "    X       :: Matrix{T}, \n",
    "    r       :: Integer;\n",
    "    maxiter :: Integer = 1000, \n",
    "    tolfun  :: Number = 1e-4,\n",
    "    V       :: Matrix{T} = rand(T, size(X, 1), r),\n",
    "    W       :: Matrix{T} = rand(T, r, size(X, 2)),\n",
    "    verbose :: Bool = false\n",
    "    ) where T <: AbstractFloat\n",
    "    # implementation\n",
    "    if verbose\n",
    "        println(\"iter = 0, obj = $obj\")\n",
    "    end\n",
    "    niter = maxiter  \n",
    "    # preallocation for matrix multiplication \n",
    "    storageR = Matrix{T}(undef, r, r) # store V'V and WW' since both rxr\n",
    "    storageV1 = similar(V) # same dimension as V\n",
    "    storageV2 = similar(V)\n",
    "    storageW1 = similar(W) # same dimension as W\n",
    "    storageW2 = similar(W)\n",
    "    x2norm = norm(X)^2\n",
    "    # initial objective\n",
    "    obj = x2norm\n",
    "    # matrix multiplication needed for Frobenius norm\n",
    "    # better to write function here\n",
    "    mul!(storageR, transpose(V), V) # stores V'V (rxr)\n",
    "    mul!(storageW2, storageR, W) # stores V'VW (rxn)\n",
    "    mul!(storageW1, transpose(V), X) # stores V'X (rxn)\n",
    "    @inbounds for idx in eachindex(W)\n",
    "        obj = obj + (storageW2[idx] - 2storageW1[idx]) * W[idx]\n",
    "    end\n",
    "    for iter in 1:maxiter\n",
    "        # update V .= V .* (X * W') ./ (V * (W * W'))\n",
    "        mul!(storageR, W, transpose(W)) # stores WW' (rxr)\n",
    "        mul!(storageV2, V, storageR) # stores VWW' (mxr)\n",
    "        mul!(storageV1, X, transpose(W)) # store XW'(mxr)\n",
    "        V .= V .* storageV1 ./ storageV2\n",
    "        # update W .= W .* (V' * X) ./ ((V' * V) * W)\n",
    "        mul!(storageR, transpose(V), V) # stores V'V (rxr)\n",
    "        mul!(storageW2, storageR, W) # stores V'VW (rxn)\n",
    "        mul!(storageW1, transpose(V), X) # stores V'X (rxn)\n",
    "        objold = obj\n",
    "        # update obj\n",
    "        obj = x2norm\n",
    "        @inbounds for idx in eachindex(W)\n",
    "            obj = obj + (storageW2[idx] - 2storageW1[idx]) * W[idx]\n",
    "            W[idx] = W[idx] * storageW1[idx] / storageW2[idx]\n",
    "        end\n",
    "        if verbose\n",
    "            println(\"iter = 0, obj = $obj\")\n",
    "        end\n",
    "        # check convergence\n",
    "        if abs(obj - objold) ≤ tolfun * (abs(objold) + 1)\n",
    "            niter = iter\n",
    "            break\n",
    "        end\n",
    "    end\n",
    "    if niter == maxiter\n",
    "        @warn \"maxiter reached without convergence\"\n",
    "    end\n",
    "    # Output\n",
    "    V, W, obj, niter\n",
    "end"
   ]
  },
  {
   "cell_type": "markdown",
   "metadata": {},
   "source": [
    "### Q1.2 Data\n",
    "\n",
    "Database 1 from the [MIT Center for Biological and Computational Learning (CBCL)](http://cbcl.mit.edu) reduces to a matrix $\\mathbf{X}$ containing $m = 2,429$ gray-scale face images with $n = 19 \\times 19 = 361$ pixels per face. Each image (row) is scaled to have mean and standard deviation 0.25.  \n",
    "\n",
    "Read in the [`nnmf-2429-by-361-face.txt`](https://raw.githubusercontent.com/ucla-biostat-257/2022spring/master/hw/hw2/nnmf-2429-by-361-face.txt) file, e.g., using [`readdlm`](https://docs.julialang.org/en/v1/stdlib/DelimitedFiles/#Delimited-Files) function, and display a couple sample images, e.g., using the [Images.jl](https://juliaimages.org/stable/) package."
   ]
  },
  {
   "cell_type": "markdown",
   "metadata": {},
   "source": [
    "#### Solution"
   ]
  },
  {
   "cell_type": "code",
   "execution_count": 189,
   "metadata": {},
   "outputs": [
    {
     "data": {
      "image/png": "[encoded data removed]",
      "text/plain": [
       "19×19 reinterpret(reshape, Gray{Float64}, ::Matrix{Float64}) with eltype Gray{Float64}:\n",
       " Gray{Float64}(0.14815)   …  Gray{Float64}(0.0)\n",
       " Gray{Float64}(0.018294)     Gray{Float64}(0.027569)\n",
       " Gray{Float64}(0.027569)     Gray{Float64}(0.0)\n",
       " Gray{Float64}(0.0)          Gray{Float64}(0.0090181)\n",
       " Gray{Float64}(0.083222)     Gray{Float64}(0.036844)\n",
       " Gray{Float64}(0.10177)   …  Gray{Float64}(0.064671)\n",
       " Gray{Float64}(0.38004)      Gray{Float64}(0.13887)\n",
       " Gray{Float64}(0.51917)      Gray{Float64}(0.30583)\n",
       " Gray{Float64}(0.43569)      Gray{Float64}(0.37076)\n",
       " Gray{Float64}(0.38004)      Gray{Float64}(0.37076)\n",
       " Gray{Float64}(0.29656)   …  Gray{Float64}(0.26873)\n",
       " Gray{Float64}(0.25946)      Gray{Float64}(0.28728)\n",
       " Gray{Float64}(0.31511)      Gray{Float64}(0.28728)\n",
       " Gray{Float64}(0.2038)       Gray{Float64}(0.19453)\n",
       " Gray{Float64}(0.083222)     Gray{Float64}(0.073946)\n",
       " Gray{Float64}(0.018294)  …  Gray{Float64}(0.0)\n",
       " Gray{Float64}(0.064671)     Gray{Float64}(0.0)\n",
       " Gray{Float64}(0.018294)     Gray{Float64}(0.0)\n",
       " Gray{Float64}(0.0)          Gray{Float64}(0.0)"
      ]
     },
     "execution_count": 189,
     "metadata": {},
     "output_type": "execute_result"
    }
   ],
   "source": [
    "X = readdlm(\"nnmf-2429-by-361-face.txt\") \n",
    "colorview(Gray, reshape(X[1, :], 19, 19)) # each row is a face\n",
    "# goal: obtain a low rank approximation of the original faces"
   ]
  },
  {
   "cell_type": "code",
   "execution_count": 15,
   "metadata": {},
   "outputs": [
    {
     "data": {
      "image/png": "[encoded data removed]",
      "text/plain": [
       "19×19 reinterpret(reshape, Gray{Float64}, ::Matrix{Float64}) with eltype Gray{Float64}:\n",
       " Gray{Float64}(0.0082034)  …  Gray{Float64}(0.18099)\n",
       " Gray{Float64}(0.0)           Gray{Float64}(0.018367)\n",
       " Gray{Float64}(0.16066)       Gray{Float64}(0.0)\n",
       " Gray{Float64}(0.0)           Gray{Float64}(0.0)\n",
       " Gray{Float64}(0.059024)      Gray{Float64}(0.0)\n",
       " Gray{Float64}(0.069188)   …  Gray{Float64}(0.0)\n",
       " Gray{Float64}(0.2928)        Gray{Float64}(0.0082034)\n",
       " Gray{Float64}(0.47575)       Gray{Float64}(0.12001)\n",
       " Gray{Float64}(0.36394)       Gray{Float64}(0.17083)\n",
       " Gray{Float64}(0.35378)       Gray{Float64}(0.27247)\n",
       " Gray{Float64}(0.39444)    …  Gray{Float64}(0.31312)\n",
       " Gray{Float64}(0.2928)        Gray{Float64}(0.32329)\n",
       " Gray{Float64}(0.22165)       Gray{Float64}(0.27247)\n",
       " Gray{Float64}(0.21148)       Gray{Float64}(0.22165)\n",
       " Gray{Float64}(0.25214)       Gray{Float64}(0.22165)\n",
       " Gray{Float64}(0.23181)    …  Gray{Float64}(0.17083)\n",
       " Gray{Float64}(0.20132)       Gray{Float64}(0.089516)\n",
       " Gray{Float64}(0.17083)       Gray{Float64}(0.059024)\n",
       " Gray{Float64}(0.19116)       Gray{Float64}(0.0)"
      ]
     },
     "execution_count": 15,
     "metadata": {},
     "output_type": "execute_result"
    }
   ],
   "source": [
    "colorview(Gray, reshape(X[5, :], 19, 19))"
   ]
  },
  {
   "cell_type": "code",
   "execution_count": 190,
   "metadata": {},
   "outputs": [
    {
     "data": {
      "image/png": "[encoded data removed]",
      "text/plain": [
       "19×19 reinterpret(reshape, Gray{Float64}, ::Matrix{Float64}) with eltype Gray{Float64}:\n",
       " Gray{Float64}(0.0)       …  Gray{Float64}(0.0)\n",
       " Gray{Float64}(0.0)          Gray{Float64}(0.0)\n",
       " Gray{Float64}(0.0)          Gray{Float64}(0.0)\n",
       " Gray{Float64}(0.0)          Gray{Float64}(0.088149)\n",
       " Gray{Float64}(0.1071)       Gray{Float64}(0.13237)\n",
       " Gray{Float64}(0.15132)   …  Gray{Float64}(0.18291)\n",
       " Gray{Float64}(0.25871)      Gray{Float64}(0.29662)\n",
       " Gray{Float64}(0.4356)       Gray{Float64}(0.37242)\n",
       " Gray{Float64}(0.49877)      Gray{Float64}(0.2524)\n",
       " Gray{Float64}(0.145)        Gray{Float64}(0.056563)\n",
       " Gray{Float64}(0.34084)   …  Gray{Float64}(0.39138)\n",
       " Gray{Float64}(0.23345)      Gray{Float64}(0.30294)\n",
       " Gray{Float64}(0.12605)      Gray{Float64}(0.27767)\n",
       " Gray{Float64}(0.037612)     Gray{Float64}(0.17659)\n",
       " Gray{Float64}(0.0)          Gray{Float64}(0.1071)\n",
       " Gray{Float64}(0.0)       …  Gray{Float64}(0.081832)\n",
       " Gray{Float64}(0.0)          Gray{Float64}(0.0060253)\n",
       " Gray{Float64}(0.0)          Gray{Float64}(0.0)\n",
       " Gray{Float64}(0.0)          Gray{Float64}(0.0)"
      ]
     },
     "execution_count": 190,
     "metadata": {},
     "output_type": "execute_result"
    }
   ],
   "source": [
    "colorview(Gray, reshape(X[50, :], 19, 19))"
   ]
  },
  {
   "cell_type": "markdown",
   "metadata": {},
   "source": [
    "### Q1.3 Correctness and efficiency\n",
    "\n",
    "Report the run times, using `@time`, of your function for fitting NNMF on the MIT CBCL face data set at ranks $r=10, 20, 30, 40, 50$. For ease of comparison (and grading), please start your algorithm with the provided $\\mathbf{V}^{(0)}$ (first $r$ columns of [`V0.txt`](https://raw.githubusercontent.com/ucla-biostat-257/2022spring/master/hw/hw2/V0.txt)) and $\\mathbf{W}^{(0)}$ (first $r$ rows of [`W0.txt`](https://raw.githubusercontent.com/ucla-biostat-257/2022spring/master/hw/hw2/W0.txt)) and stopping criterion\n",
    "$$\n",
    "\\frac{|L^{(t+1)} - L^{(t)}|}{|L^{(t)}| + 1} \\le 10^{-4}.\n",
    "$$\n",
    "\n",
    "**Hint**: When I run the following code using my own implementation of `nnmf`\n",
    "```julia\n",
    "for r in [10, 20, 30, 40, 50]\n",
    "    println(\"r=$r\")\n",
    "    V0 = V0full[:, 1:r]\n",
    "    W0 = W0full[1:r, :]\n",
    "    @time V, W, obj, niter = nnmf(X, r; V = V0, W = W0)\n",
    "    println(\"obj=$obj, niter=$niter\")\n",
    "end\n",
    "```\n",
    "the output is\n",
    "```\n",
    "r=10\n",
    "  1.047598 seconds (20 allocations: 6.904 MiB)\n",
    "obj=11730.38800985483, niter=239\n",
    "r=20\n",
    "  1.913147 seconds (20 allocations: 7.120 MiB)\n",
    "obj=8497.222317850326, niter=394\n",
    "r=30\n",
    "  2.434662 seconds (20 allocations: 7.336 MiB)\n",
    "obj=6621.627345486279, niter=482\n",
    "r=40\n",
    "  3.424469 seconds (22 allocations: 7.554 MiB)\n",
    "obj=5256.663870563529, niter=581\n",
    "r=50\n",
    "  4.480342 seconds (23 allocations: 7.774 MiB)\n",
    "obj=4430.201581697291, niter=698\n",
    "```\n",
    "Since my laptop is about 6-7 years old, I expect to see your run time shorter than mine. Your memory allocation should be less or equal to mine."
   ]
  },
  {
   "cell_type": "markdown",
   "metadata": {},
   "source": [
    "#### Solution "
   ]
  },
  {
   "cell_type": "code",
   "execution_count": 164,
   "metadata": {},
   "outputs": [
    {
     "data": {
      "text/plain": [
       "50×361 Matrix{Float64}:\n",
       " 0.5634    0.32048   0.067202   0.25107   …  0.4476     0.12656   0.13688\n",
       " 0.71473   0.25423   0.084735   0.84327      0.20947    0.32729   0.43787\n",
       " 0.046351  0.041688  0.79152    0.8962       0.6786     0.17112   0.83691\n",
       " 0.76991   0.13366   0.0061026  0.70588      0.4457     0.012722  0.64244\n",
       " 0.56335   0.35408   0.62697    0.94923      0.073816   0.62934   0.58596\n",
       " 0.13659   0.82449   0.17183    0.051802  …  0.87725    0.86247   0.45418\n",
       " 0.2326    0.92296   0.73855    0.35246      0.015108   0.68424   0.15457\n",
       " 0.95628   0.97221   0.94922    0.59106      0.49038    0.52232   0.4399\n",
       " 0.82876   0.33257   0.95808    0.11028      0.66812    0.69979   0.57679\n",
       " 0.33585   0.59454   0.75948    0.26544      0.34689    0.071471  0.020196\n",
       " 0.87571   0.83349   0.83207    0.57283   …  0.34609    0.22545   0.2295\n",
       " 0.27631   0.10171   0.4809     0.10614      0.0039955  0.92647   0.27393\n",
       " 0.914     0.45783   0.32193    0.65607      0.1204     0.29447   0.88988\n",
       " ⋮                                        ⋱                       ⋮\n",
       " 0.30883   0.41147   0.64075    0.87004      0.20019    0.55648   0.7459\n",
       " 0.97866   0.74029   0.037366   0.97796      0.55272    0.3288    0.837\n",
       " 0.71393   0.78077   0.051596   0.25867   …  0.95825    0.89787   0.21096\n",
       " 0.35293   0.41894   0.0063373  0.43144      0.14756    0.93285   0.59017\n",
       " 0.46036   0.61322   0.91126    0.76635      0.67864    0.16147   0.93417\n",
       " 0.036917  0.4889    0.2838     0.03403      0.027589   0.79055   0.31241\n",
       " 0.74309   0.12138   0.82587    0.84609      0.52128    0.908     0.6062\n",
       " 0.74466   0.46317   0.38367    0.97784   …  0.78373    0.4644    0.54906\n",
       " 0.57612   0.81248   0.14814    0.65148      0.78202    0.26502   0.34613\n",
       " 0.65722   0.28434   0.78214    0.62961      0.054762   0.14826   0.23983\n",
       " 0.5275    0.15481   0.50847    0.26226      0.1513     0.048605  0.052235\n",
       " 0.027423  0.80658   0.33708    0.54062      0.887      0.15571   0.76327"
      ]
     },
     "execution_count": 164,
     "metadata": {},
     "output_type": "execute_result"
    }
   ],
   "source": [
    "V0full = readdlm(\"V0.txt\")\n",
    "W0full = readdlm(\"W0.txt\")"
   ]
  },
  {
   "cell_type": "code",
   "execution_count": 192,
   "metadata": {},
   "outputs": [
    {
     "data": {
      "text/plain": [
       "([0.1185155250605055 0.02994050345509698 … 0.0028830808553836434 0.06420991048712604; 0.13176807592569617 0.0004309168162359832 … 0.014863431363093798 0.03502874558367169; … ; 0.05270583755824644 0.04794098005163979 … 0.1700196278798266 0.04626182097825304; 0.12933014679416052 0.019567810402128034 … 0.09435983264067124 0.029580777291877254], [3.385885235846814e-27 1.174537573868145e-27 … 0.2300193333797503 2.2801686250907805e-6; 0.010899790573386688 1.7007366080211221e-6 … 9.165787020780837e-15 5.134415347265115e-11; … ; 4.0722852963974885e-10 0.0001197464191754901 … 6.6113838164410616e-6 1.37989840473972e-12; 5.698509363463882e-10 6.980500700786509e-9 … 2.2318529440908972e-14 1.8764490698063353e-18], 11730.866905749992, 239)"
      ]
     },
     "execution_count": 192,
     "metadata": {},
     "output_type": "execute_result"
    }
   ],
   "source": [
    "r = 10\n",
    "V0 = V0full[:, 1:r]\n",
    "W0 = W0full[1:r, :]\n",
    "nnmf(X, r; V = V0, W = W0)"
   ]
  },
  {
   "cell_type": "code",
   "execution_count": 193,
   "metadata": {},
   "outputs": [
    {
     "name": "stdout",
     "output_type": "stream",
     "text": [
      "  1.079522 seconds (12 allocations: 437.297 KiB)\n"
     ]
    },
    {
     "data": {
      "text/plain": [
       "([0.1185155250605055 0.02994050345509698 … 0.0028830808553836434 0.06420991048712604; 0.13176807592569617 0.0004309168162359832 … 0.014863431363093798 0.03502874558367169; … ; 0.05270583755824644 0.04794098005163979 … 0.1700196278798266 0.04626182097825304; 0.12933014679416052 0.019567810402128034 … 0.09435983264067124 0.029580777291877254], [3.385885235846814e-27 1.174537573868145e-27 … 0.2300193333797503 2.2801686250907805e-6; 0.010899790573386688 1.7007366080211221e-6 … 9.165787020780837e-15 5.134415347265115e-11; … ; 4.0722852963974885e-10 0.0001197464191754901 … 6.6113838164410616e-6 1.37989840473972e-12; 5.698509363463882e-10 6.980500700786509e-9 … 2.2318529440908972e-14 1.8764490698063353e-18], 11730.866905749992, 239)"
      ]
     },
     "execution_count": 193,
     "metadata": {},
     "output_type": "execute_result"
    }
   ],
   "source": [
    "V0 = V0full[:, 1:r]\n",
    "W0 = W0full[1:r, :]\n",
    "@time nnmf(X, r; V = V0, W = W0)"
   ]
  },
  {
   "cell_type": "code",
   "execution_count": 191,
   "metadata": {},
   "outputs": [
    {
     "name": "stdout",
     "output_type": "stream",
     "text": [
      "r=10\n",
      "  1.561017 seconds (22 allocations: 437.641 KiB)\n",
      "obj=11730.866905749992, niter=239\n"
     ]
    }
   ],
   "source": [
    "for r in [10]\n",
    "    println(\"r=$r\")\n",
    "    V0 = V0full[:, 1:r]\n",
    "    W0 = W0full[1:r, :]\n",
    "    @time V, W, obj, niter = nnmf(X, r; V = V0, W = W0)\n",
    "    println(\"obj=$obj, niter=$niter\")\n",
    "end"
   ]
  },
  {
   "cell_type": "markdown",
   "metadata": {},
   "source": [
    "### Q1.4 Non-uniqueness\n",
    "\n",
    "Choose an $r \\in \\{10, 20, 30, 40, 50\\}$ and start your algorithm from a different $\\mathbf{V}^{(0)}$ and $\\mathbf{W}^{(0)}$. Do you obtain the same objective value and $(\\mathbf{V}, \\mathbf{W})$? Explain what you find."
   ]
  },
  {
   "cell_type": "markdown",
   "metadata": {},
   "source": [
    "#### Solution"
   ]
  },
  {
   "cell_type": "code",
   "execution_count": 171,
   "metadata": {},
   "outputs": [
    {
     "data": {
      "text/plain": [
       "([0.058981075055638224 0.14525209007122994 … 0.019055146210778362 0.07053298554909462; 0.004489426466693886 0.14816955761610148 … 0.0041909068195955705 0.04073934701123995; … ; 0.02112368252898036 0.003989718130885983 … 0.0018885614698087038 0.06539979614759503; 4.938926389647611e-5 0.12717549471004394 … 0.006553939033269752 0.026018142255132704], [0.08343350414395032 2.023563251255995e-7 … 1.6735275142115434e-16 4.008843253562877e-15; 1.9863288485978493e-15 4.545304585858992e-22 … 0.27820918282473767 0.23423504689982172; … ; 0.3526749465524293 0.5997881823823353 … 4.572575155398515e-18 4.040115662527214e-22; 5.553454536254431e-17 1.742428240709883e-16 … 3.4088360310866805e-5 3.7558878994914313e-13], 11766.631378380396, 212)"
      ]
     },
     "execution_count": 171,
     "metadata": {},
     "output_type": "execute_result"
    }
   ],
   "source": [
    "r = 10\n",
    "V1 = V0full[:, 2:(r + 1)]\n",
    "W1 = W0full[2: (r + 1), :]\n",
    "nnmf(X, r; V = V1, W = W1)"
   ]
  },
  {
   "cell_type": "markdown",
   "metadata": {},
   "source": [
    "No, I do not obtain the same objective value and ($\\textbf{V}, \\textbf{W}$). The objective value, ($\\textbf{V}, \\textbf{W}$) depends on which iteration the stopping criterion is met. Convergence and objective value are around the same as the above example."
   ]
  },
  {
   "cell_type": "markdown",
   "metadata": {},
   "source": [
    "### Q1.5 Fixed point\n",
    "\n",
    "For the same $r$, start your algorithm from $v_{ik}^{(0)} = w_{kj}^{(0)} = 1$ for all $i,j,k$. Do you obtain the same objective value and $(\\mathbf{V}, \\mathbf{W})$? Explain what you find."
   ]
  },
  {
   "cell_type": "code",
   "execution_count": 175,
   "metadata": {},
   "outputs": [
    {
     "data": {
      "text/plain": [
       "([0.02737339344273954 0.02737339344273954 … 0.02737339344273954 0.02737339344273954; 0.027206938610572086 0.027206938610572086 … 0.027206938610572086 0.027206938610572086; … ; 0.02852019540472512 0.02852019540472512 … 0.02852019540472512 0.02852019540472512; 0.028030925515084775 0.028030925515084775 … 0.028030925515084775 0.028030925515084775], [0.36995177994768613 0.46065860110694046 … 0.558079395200944 0.4255210382434648; 0.36995177994768613 0.46065860110694046 … 0.558079395200944 0.4255210382434648; … ; 0.36995177994768613 0.46065860110694046 … 0.558079395200944 0.4255210382434646; 0.36995177994768613 0.46065860110694046 … 0.558079395200944 0.4255210382434646], 25297.015778490062, 4)"
      ]
     },
     "execution_count": 175,
     "metadata": {},
     "output_type": "execute_result"
    }
   ],
   "source": [
    "r = 10\n",
    "m, n = size(X)\n",
    "V2 = ones(m, r)\n",
    "W2 = ones(r, n)\n",
    "nnmf(X, r; V = V2, W = W2)"
   ]
  },
  {
   "cell_type": "markdown",
   "metadata": {},
   "source": [
    "No, I do not obtain the same objective value and ($\\textbf{V}, \\textbf{W}$). The objective value is about the same as previous examples for the same r, but the number of iterations is only 4. Convergence appears to be faster."
   ]
  },
  {
   "cell_type": "markdown",
   "metadata": {},
   "source": [
    "### Q1.6 Interpret NNMF result\n",
    "\n",
    "Plot the basis images (rows of $\\mathbf{W}$) at rank $r=50$. What do you find?"
   ]
  },
  {
   "cell_type": "code",
   "execution_count": 181,
   "metadata": {},
   "outputs": [
    {
     "data": {
      "text/plain": [
       "([4.065152683367589e-8 0.02391830987010448 … 0.0050275293945103005 0.030895205383236247; 2.066922665650733e-5 0.01676918953044336 … 0.0016843647387214 0.03357388284868296; … ; 0.013653571084018568 0.020407618225550362 … 8.933004101207235e-5 0.04512260292309185; 0.01821569164993885 0.009941879525504831 … 5.393742344944298e-6 0.00014298874864300805], [1.988389142207648e-64 1.2476690072002253e-53 … 2.7319238780356062e-14 8.879923560802795e-65; 5.008532883861646e-27 2.3803648259630052e-26 … 2.005876391414098e-32 4.4803366072845716e-61; … ; 3.6009667110863195e-15 2.707734064744678e-15 … 3.862314406203127e-22 2.4110065875282863e-44; 0.00024987101520910555 6.687159725272475e-20 … 2.362593695158234e-7 1.3046824185960588e-11], 4430.36209731353, 698)"
      ]
     },
     "execution_count": 181,
     "metadata": {},
     "output_type": "execute_result"
    }
   ],
   "source": [
    "r = 50\n",
    "V0 = V0full[:, 1:r]\n",
    "W0 = W0full[1:r, :]\n",
    "V, W, obj, niter = nnmf(X, r; V = V0, W = W0)"
   ]
  },
  {
   "cell_type": "code",
   "execution_count": 187,
   "metadata": {},
   "outputs": [
    {
     "data": {
      "image/png": "[encoded data removed]",
      "text/plain": [
       "19×19 reinterpret(reshape, Gray{Float64}, ::Matrix{Float64}) with eltype Gray{Float64}:\n",
       " Gray{Float64}(2.55231e-28)  …  Gray{Float64}(8.58516e-52)\n",
       " Gray{Float64}(1.90869e-20)     Gray{Float64}(1.56411e-43)\n",
       " Gray{Float64}(3.46506e-14)     Gray{Float64}(5.2133e-37)\n",
       " Gray{Float64}(1.71962e-36)     Gray{Float64}(2.6886e-34)\n",
       " Gray{Float64}(1.45601e-40)     Gray{Float64}(6.04518e-51)\n",
       " Gray{Float64}(6.64597e-16)  …  Gray{Float64}(3.4646e-36)\n",
       " Gray{Float64}(0.301853)        Gray{Float64}(2.79333e-16)\n",
       " Gray{Float64}(1.4767)          Gray{Float64}(0.00205396)\n",
       " Gray{Float64}(1.74502)         Gray{Float64}(0.549894)\n",
       " Gray{Float64}(2.62256)         Gray{Float64}(1.30626)\n",
       " Gray{Float64}(2.93876)      …  Gray{Float64}(0.873984)\n",
       " Gray{Float64}(2.64446)         Gray{Float64}(0.402087)\n",
       " Gray{Float64}(1.60693)         Gray{Float64}(0.00514615)\n",
       " Gray{Float64}(0.286327)        Gray{Float64}(1.45863e-10)\n",
       " Gray{Float64}(3.54053e-7)      Gray{Float64}(9.79739e-11)\n",
       " Gray{Float64}(4.07595e-8)   …  Gray{Float64}(0.137673)\n",
       " Gray{Float64}(1.32083e-13)     Gray{Float64}(0.376255)\n",
       " Gray{Float64}(2.1663e-13)      Gray{Float64}(1.12898e-22)\n",
       " Gray{Float64}(2.66678e-17)     Gray{Float64}(1.17291e-79)"
      ]
     },
     "execution_count": 187,
     "metadata": {},
     "output_type": "execute_result"
    }
   ],
   "source": [
    "colorview(Gray, reshape(W[5, :], 19, 19))"
   ]
  },
  {
   "cell_type": "code",
   "execution_count": 186,
   "metadata": {},
   "outputs": [
    {
     "data": {
      "image/png": "[encoded data removed]",
      "text/plain": [
       "19×19 reinterpret(reshape, Gray{Float64}, ::Matrix{Float64}) with eltype Gray{Float64}:\n",
       " Gray{Float64}(0.000249871)  …  Gray{Float64}(7.7835e-14)\n",
       " Gray{Float64}(6.68716e-20)     Gray{Float64}(3.17285e-28)\n",
       " Gray{Float64}(4.13413e-27)     Gray{Float64}(6.2944e-28)\n",
       " Gray{Float64}(9.70169e-27)     Gray{Float64}(0.110564)\n",
       " Gray{Float64}(1.55185e-18)     Gray{Float64}(0.214463)\n",
       " Gray{Float64}(1.6554e-10)   …  Gray{Float64}(0.394318)\n",
       " Gray{Float64}(0.00308737)      Gray{Float64}(2.77478e-9)\n",
       " Gray{Float64}(0.00177598)      Gray{Float64}(9.74163e-7)\n",
       " Gray{Float64}(0.000269407)     Gray{Float64}(2.67775e-5)\n",
       " Gray{Float64}(0.00143345)      Gray{Float64}(0.197256)\n",
       " Gray{Float64}(0.0100655)    …  Gray{Float64}(0.64495)\n",
       " Gray{Float64}(0.118806)        Gray{Float64}(0.749756)\n",
       " Gray{Float64}(0.145135)        Gray{Float64}(0.174767)\n",
       " Gray{Float64}(0.174715)        Gray{Float64}(1.97319e-9)\n",
       " Gray{Float64}(0.0426314)       Gray{Float64}(1.56859e-14)\n",
       " Gray{Float64}(0.00324005)   …  Gray{Float64}(4.59344e-15)\n",
       " Gray{Float64}(9.50824e-10)     Gray{Float64}(1.9442e-10)\n",
       " Gray{Float64}(1.76742e-13)     Gray{Float64}(2.36259e-7)\n",
       " Gray{Float64}(1.39967e-22)     Gray{Float64}(1.30468e-11)"
      ]
     },
     "execution_count": 186,
     "metadata": {},
     "output_type": "execute_result"
    }
   ],
   "source": [
    "colorview(Gray, reshape(W[50, :], 19, 19))"
   ]
  },
  {
   "cell_type": "markdown",
   "metadata": {},
   "source": [
    "The rows of W are low-rank approximation of the faces from the rows of X. Compared to X, when r = 50, the images are still blurry."
   ]
  },
  {
   "cell_type": "markdown",
   "metadata": {},
   "source": [
    "### Q1.7 GPU (optional)\n",
    "\n",
    "Investigate the GPU capabilities of Julia. Report the speed gain of your GPU code over CPU code at ranks $r=10, 20, 30, 40, 50$. Make sure to use the same starting point as in Q1.3."
   ]
  },
  {
   "cell_type": "markdown",
   "metadata": {},
   "source": [
    "## Q2. Estimating Kinship Matrix\n",
    "\n",
    "Consider the numerical task of estimating an $n \\times n$ kinship matrix $\\Phi$ from an $n \\times m$ genotype matrix $\\mathbf{G}$. Here $n$ is the number of individuals and $m$ is the number of genetic markers. [Lange et al](https://www.ncbi.nlm.nih.gov/pmc/articles/PMC6763373/) derived a method of moment estimator of form\n",
    "$$\n",
    "    \\widehat \\Phi_{ij} = \\frac{e_{ij} - \\sum_{k=1}^m [p_k^2 + (1 - p_k)^2]}{m - \\sum_{k=1}^m [p_k^2 + (1 - p_k)^2]}, \\quad 1 \\le i, j \\le n,\n",
    "$$\n",
    "where\n",
    "$$\n",
    "\\begin{eqnarray*}\n",
    "    e_{ij} &=& \\frac{1}{4} \\sum_{k=1}^m [g_{ik} g_{jk} + (2 - g_{ik})(2 - g_{jk})] \\\\\n",
    "    p_k &=& \\frac {1}{2n} \\sum_{i=1}^n g_{ik}.\n",
    "\\end{eqnarray*}\n",
    "$$"
   ]
  },
  {
   "cell_type": "markdown",
   "metadata": {},
   "source": [
    "### Q2.1 Develop code\n",
    "\n",
    "Write a function that takes a matrix `G` as input and outputs the method of moment estimator. \n",
    "Make your function as efficient (both speed and memory) as possible.    "
   ]
  },
  {
   "cell_type": "code",
   "execution_count": 211,
   "metadata": {},
   "outputs": [
    {
     "data": {
      "text/plain": [
       "kinship (generic function with 1 method)"
      ]
     },
     "execution_count": 211,
     "metadata": {},
     "output_type": "execute_result"
    }
   ],
   "source": [
    "function kinship(G::Matrix{T}) where T <: AbstractFloat\n",
    "    n, m = size(G)\n",
    "    # TODO: your code here\n",
    "    # pre-allocate\n",
    "    Φ = zeros(n, n)\n",
    "    E = Matrix{T}(undef, n, n) \n",
    "    vec_scaled = ones(n) ./ (2 .* n)\n",
    "    P = zeros(m)\n",
    "    Psub1 = zeros(m)\n",
    "    #G2 = similar(G)\n",
    "    #G2 .= 2 .- G\n",
    "    #@inbounds for idx in eachindex(G)\n",
    "    #    G2[idx] = 2 - G[idx]\n",
    "    #end\n",
    "    storageG = similar(E)\n",
    "    storageG2 = similar(E)\n",
    "    # assign value\n",
    "    mul!(P, transpose(G), vec_scaled)\n",
    "    Psub1 .= (1 .- P) \n",
    "    c = dot(P, P) + dot(Psub1, Psub1) # constant\n",
    "    mul!(storageG, G, transpose(G))\n",
    "    #overwrite G\n",
    "    # G .= 2 .- G \n",
    "    @inbounds for idx in eachindex(G)\n",
    "        G[idx] = 2 - G[idx]\n",
    "    end\n",
    "    mul!(storageG2, G, transpose(G))\n",
    "    E .= (storageG .+ storageG2) ./ 4\n",
    "    # output\n",
    "    Φ .= (E .- c) ./ (m - c)\n",
    "end"
   ]
  },
  {
   "cell_type": "code",
   "execution_count": 195,
   "metadata": {},
   "outputs": [
    {
     "data": {
      "text/plain": [
       "1000×10000 Matrix{Float64}:\n",
       " 1.0  0.0  2.0  0.0  0.0  2.0  2.0  2.0  …  2.0  0.0  0.0  2.0  2.0  2.0  1.0\n",
       " 2.0  2.0  1.0  2.0  0.0  0.0  1.0  0.0     2.0  2.0  0.0  1.0  2.0  2.0  1.0\n",
       " 1.0  0.0  2.0  1.0  1.0  1.0  2.0  0.0     0.0  1.0  1.0  0.0  1.0  2.0  0.0\n",
       " 2.0  0.0  1.0  0.0  0.0  1.0  1.0  2.0     1.0  1.0  0.0  2.0  0.0  2.0  1.0\n",
       " 1.0  2.0  1.0  2.0  2.0  1.0  0.0  0.0     1.0  1.0  1.0  2.0  1.0  1.0  0.0\n",
       " 1.0  0.0  1.0  2.0  0.0  1.0  1.0  1.0  …  2.0  0.0  0.0  2.0  0.0  1.0  2.0\n",
       " 2.0  2.0  1.0  1.0  0.0  1.0  1.0  1.0     1.0  1.0  1.0  2.0  1.0  0.0  2.0\n",
       " 2.0  2.0  1.0  1.0  1.0  1.0  2.0  1.0     2.0  1.0  2.0  2.0  0.0  0.0  1.0\n",
       " 2.0  1.0  1.0  2.0  0.0  0.0  2.0  2.0     0.0  0.0  1.0  0.0  2.0  2.0  0.0\n",
       " 0.0  1.0  2.0  0.0  0.0  2.0  1.0  1.0     2.0  1.0  0.0  0.0  0.0  2.0  1.0\n",
       " 2.0  2.0  1.0  1.0  1.0  2.0  1.0  0.0  …  1.0  1.0  2.0  0.0  1.0  1.0  2.0\n",
       " 2.0  1.0  0.0  0.0  2.0  0.0  1.0  2.0     0.0  0.0  2.0  1.0  2.0  1.0  2.0\n",
       " 1.0  2.0  2.0  2.0  0.0  1.0  2.0  0.0     0.0  0.0  0.0  1.0  2.0  0.0  0.0\n",
       " ⋮                        ⋮              ⋱            ⋮                   \n",
       " 0.0  1.0  0.0  1.0  0.0  0.0  1.0  2.0     0.0  2.0  2.0  0.0  2.0  0.0  2.0\n",
       " 1.0  1.0  1.0  1.0  0.0  1.0  1.0  2.0     1.0  1.0  2.0  2.0  1.0  1.0  2.0\n",
       " 2.0  2.0  2.0  1.0  1.0  2.0  0.0  0.0  …  2.0  2.0  0.0  0.0  0.0  2.0  2.0\n",
       " 2.0  0.0  2.0  0.0  2.0  0.0  0.0  1.0     0.0  1.0  1.0  2.0  1.0  2.0  2.0\n",
       " 1.0  1.0  1.0  0.0  2.0  1.0  0.0  0.0     2.0  1.0  2.0  1.0  1.0  0.0  0.0\n",
       " 0.0  2.0  2.0  0.0  2.0  2.0  2.0  1.0     1.0  1.0  1.0  1.0  0.0  2.0  1.0\n",
       " 2.0  2.0  0.0  2.0  2.0  0.0  0.0  0.0     2.0  0.0  1.0  1.0  1.0  2.0  1.0\n",
       " 0.0  1.0  0.0  1.0  0.0  1.0  0.0  1.0  …  2.0  1.0  0.0  0.0  0.0  0.0  0.0\n",
       " 0.0  0.0  2.0  2.0  1.0  2.0  0.0  2.0     2.0  0.0  1.0  0.0  2.0  0.0  0.0\n",
       " 0.0  2.0  0.0  2.0  0.0  2.0  2.0  1.0     2.0  1.0  2.0  2.0  1.0  2.0  2.0\n",
       " 1.0  2.0  2.0  0.0  0.0  2.0  2.0  0.0     1.0  0.0  1.0  0.0  0.0  2.0  1.0\n",
       " 1.0  0.0  2.0  0.0  2.0  0.0  2.0  2.0     2.0  2.0  0.0  2.0  0.0  0.0  0.0"
      ]
     },
     "execution_count": 195,
     "metadata": {},
     "output_type": "execute_result"
    }
   ],
   "source": [
    "Random.seed!(257)\n",
    "G = rand(0.0:2.0, 1000, 10000)"
   ]
  },
  {
   "cell_type": "code",
   "execution_count": 105,
   "metadata": {},
   "outputs": [
    {
     "data": {
      "text/plain": [
       "10000-element Vector{Float64}:\n",
       " 0.4905\n",
       " 0.5025\n",
       " 0.495\n",
       " 0.5095\n",
       " 0.4795\n",
       " 0.497\n",
       " 0.502\n",
       " 0.4935\n",
       " 0.4875\n",
       " 0.492\n",
       " 0.4965\n",
       " 0.509\n",
       " 0.481\n",
       " ⋮\n",
       " 0.488\n",
       " 0.4835\n",
       " 0.4945\n",
       " 0.4985\n",
       " 0.496\n",
       " 0.487\n",
       " 0.507\n",
       " 0.5025\n",
       " 0.497\n",
       " 0.51\n",
       " 0.5\n",
       " 0.4765"
      ]
     },
     "execution_count": 105,
     "metadata": {},
     "output_type": "execute_result"
    }
   ],
   "source": [
    "P = (G'l)/(2*n)\n",
    "c = dot(P, P) + dot(Psub1, Psub1)"
   ]
  },
  {
   "cell_type": "code",
   "execution_count": 122,
   "metadata": {},
   "outputs": [
    {
     "data": {
      "text/plain": [
       "BenchmarkTools.Trial: 811 samples with 1 evaluation.\n",
       " Range \u001b[90m(\u001b[39m\u001b[36m\u001b[1mmin\u001b[22m\u001b[39m … \u001b[35mmax\u001b[39m\u001b[90m):  \u001b[39m\u001b[36m\u001b[1m4.944 ms\u001b[22m\u001b[39m … \u001b[35m 14.658 ms\u001b[39m  \u001b[90m┊\u001b[39m GC \u001b[90m(\u001b[39mmin … max\u001b[90m): \u001b[39m0.00% … 0.00%\n",
       " Time  \u001b[90m(\u001b[39m\u001b[34m\u001b[1mmedian\u001b[22m\u001b[39m\u001b[90m):     \u001b[39m\u001b[34m\u001b[1m5.922 ms               \u001b[22m\u001b[39m\u001b[90m┊\u001b[39m GC \u001b[90m(\u001b[39mmedian\u001b[90m):    \u001b[39m0.00%\n",
       " Time  \u001b[90m(\u001b[39m\u001b[32m\u001b[1mmean\u001b[22m\u001b[39m ± \u001b[32mσ\u001b[39m\u001b[90m):   \u001b[39m\u001b[32m\u001b[1m6.130 ms\u001b[22m\u001b[39m ± \u001b[32m712.609 μs\u001b[39m  \u001b[90m┊\u001b[39m GC \u001b[90m(\u001b[39mmean ± σ\u001b[90m):  \u001b[39m0.00% ± 0.00%\n",
       "\n",
       "  \u001b[39m \u001b[39m \u001b[39m \u001b[39m \u001b[39m \u001b[39m \u001b[39m \u001b[39m \u001b[39m \u001b[39m \u001b[39m▃\u001b[39m▇\u001b[39m█\u001b[39m▄\u001b[39m▁\u001b[39m▁\u001b[39m▂\u001b[34m \u001b[39m\u001b[39m \u001b[39m \u001b[39m \u001b[32m \u001b[39m\u001b[39m \u001b[39m \u001b[39m \u001b[39m \u001b[39m \u001b[39m \u001b[39m \u001b[39m \u001b[39m \u001b[39m \u001b[39m \u001b[39m \u001b[39m \u001b[39m \u001b[39m \u001b[39m \u001b[39m \u001b[39m \u001b[39m \u001b[39m \u001b[39m \u001b[39m \u001b[39m \u001b[39m \u001b[39m \u001b[39m \u001b[39m \u001b[39m \u001b[39m \u001b[39m \u001b[39m \u001b[39m \u001b[39m \u001b[39m \u001b[39m \u001b[39m \u001b[39m \u001b[39m \u001b[39m \n",
       "  \u001b[39m▂\u001b[39m▁\u001b[39m▂\u001b[39m▂\u001b[39m▂\u001b[39m▂\u001b[39m▂\u001b[39m▃\u001b[39m▄\u001b[39m▇\u001b[39m█\u001b[39m█\u001b[39m█\u001b[39m█\u001b[39m█\u001b[39m█\u001b[39m█\u001b[34m▆\u001b[39m\u001b[39m▇\u001b[39m▅\u001b[39m▅\u001b[32m▆\u001b[39m\u001b[39m▆\u001b[39m█\u001b[39m▆\u001b[39m▆\u001b[39m▆\u001b[39m▄\u001b[39m▄\u001b[39m▅\u001b[39m▅\u001b[39m▆\u001b[39m▅\u001b[39m▅\u001b[39m▅\u001b[39m▄\u001b[39m▄\u001b[39m▃\u001b[39m▃\u001b[39m▃\u001b[39m▃\u001b[39m▄\u001b[39m▂\u001b[39m▂\u001b[39m▃\u001b[39m▂\u001b[39m▃\u001b[39m▂\u001b[39m▂\u001b[39m▂\u001b[39m▃\u001b[39m▁\u001b[39m▂\u001b[39m▁\u001b[39m▂\u001b[39m▁\u001b[39m▂\u001b[39m▁\u001b[39m▂\u001b[39m \u001b[39m▄\n",
       "  4.94 ms\u001b[90m         Histogram: frequency by time\u001b[39m        8.24 ms \u001b[0m\u001b[1m<\u001b[22m\n",
       "\n",
       " Memory estimate\u001b[90m: \u001b[39m\u001b[33m0 bytes\u001b[39m, allocs estimate\u001b[90m: \u001b[39m\u001b[33m0\u001b[39m."
      ]
     },
     "execution_count": 122,
     "metadata": {},
     "output_type": "execute_result"
    }
   ],
   "source": [
    "m = size(G, 2)\n",
    "n = size(G, 1)\n",
    "P = zeros(m)\n",
    "l = ones(n) ./ (2 .* n)\n",
    "@benchmark mul!($P, transpose($G), $l)"
   ]
  },
  {
   "cell_type": "code",
   "execution_count": 142,
   "metadata": {},
   "outputs": [
    {
     "data": {
      "text/plain": [
       "1000×1000 Matrix{Float64}:\n",
       " 16726.0  10009.0   9857.0  10130.0  …  10197.0  10007.0  10137.0   9793.0\n",
       " 10009.0  16686.0   9804.0  10007.0     10136.0  10021.0  10150.0   9846.0\n",
       "  9857.0   9804.0  16419.0  10087.0      9965.0   9839.0   9760.0   9691.0\n",
       " 10130.0  10007.0  10087.0  16869.0     10224.0  10160.0  10236.0   9990.0\n",
       " 10100.0  10115.0   9985.0  10088.0     10226.0  10233.0  10054.0   9930.0\n",
       "  9894.0   9876.0   9718.0  10022.0  …   9981.0   9771.0  10034.0   9809.0\n",
       " 10018.0   9920.0   9877.0  10033.0     10041.0  10020.0   9935.0   9853.0\n",
       " 10041.0  10075.0   9808.0  10153.0     10097.0  10003.0  10011.0   9774.0\n",
       " 10062.0  10105.0  10078.0  10245.0     10133.0  10020.0  10081.0   9873.0\n",
       "  9989.0   9918.0   9930.0   9985.0      9989.0   9873.0   9893.0   9930.0\n",
       "  9847.0   9751.0   9699.0   9829.0  …   9779.0   9728.0   9851.0   9559.0\n",
       "  9920.0   9889.0   9840.0  10106.0     10031.0   9830.0  10005.0   9706.0\n",
       " 10151.0  10196.0  10003.0  10352.0     10274.0  10115.0  10129.0   9972.0\n",
       "     ⋮                               ⋱                             \n",
       " 10177.0  10067.0   9837.0  10217.0     10100.0  10107.0  10041.0   9915.0\n",
       " 10003.0  10222.0   9946.0  10219.0      9978.0  10038.0  10129.0   9862.0\n",
       "  9898.0   9928.0   9893.0  10006.0  …   9982.0   9972.0   9951.0   9763.0\n",
       " 10035.0  10110.0   9838.0  10173.0      9879.0   9949.0  10082.0   9850.0\n",
       "  9985.0   9992.0   9848.0  10146.0      9962.0   9918.0   9948.0   9812.0\n",
       "  9957.0  10079.0   9896.0  10149.0     10103.0  10023.0   9944.0   9885.0\n",
       "  9784.0   9823.0   9782.0  10035.0      9957.0   9958.0   9872.0   9558.0\n",
       "  9965.0  10073.0   9915.0  10170.0  …  10019.0  10072.0  10045.0   9782.0\n",
       " 10197.0  10136.0   9965.0  10224.0     16761.0  10079.0  10100.0   9963.0\n",
       " 10007.0  10021.0   9839.0  10160.0     10079.0  16685.0  10035.0   9822.0\n",
       " 10137.0  10150.0   9760.0  10236.0     10100.0  10035.0  16712.0   9762.0\n",
       "  9793.0   9846.0   9691.0   9990.0      9963.0   9822.0   9762.0  16331.0"
      ]
     },
     "execution_count": 142,
     "metadata": {},
     "output_type": "execute_result"
    }
   ],
   "source": [
    "storageG = zeros(n, n)\n",
    "storageG2 = zeros(n, n)\n",
    "mul!(storageG, G, transpose(G))\n",
    "mul!(storageG2, (2 .- G), transpose(2 .- G))"
   ]
  },
  {
   "cell_type": "code",
   "execution_count": 91,
   "metadata": {},
   "outputs": [
    {
     "data": {
      "text/plain": [
       "BenchmarkTools.Trial: 10000 samples with 7 evaluations.\n",
       " Range \u001b[90m(\u001b[39m\u001b[36m\u001b[1mmin\u001b[22m\u001b[39m … \u001b[35mmax\u001b[39m\u001b[90m):  \u001b[39m\u001b[36m\u001b[1m4.219 μs\u001b[22m\u001b[39m … \u001b[35m 27.462 μs\u001b[39m  \u001b[90m┊\u001b[39m GC \u001b[90m(\u001b[39mmin … max\u001b[90m): \u001b[39m0.00% … 0.00%\n",
       " Time  \u001b[90m(\u001b[39m\u001b[34m\u001b[1mmedian\u001b[22m\u001b[39m\u001b[90m):     \u001b[39m\u001b[34m\u001b[1m4.254 μs               \u001b[22m\u001b[39m\u001b[90m┊\u001b[39m GC \u001b[90m(\u001b[39mmedian\u001b[90m):    \u001b[39m0.00%\n",
       " Time  \u001b[90m(\u001b[39m\u001b[32m\u001b[1mmean\u001b[22m\u001b[39m ± \u001b[32mσ\u001b[39m\u001b[90m):   \u001b[39m\u001b[32m\u001b[1m4.416 μs\u001b[22m\u001b[39m ± \u001b[32m742.743 ns\u001b[39m  \u001b[90m┊\u001b[39m GC \u001b[90m(\u001b[39mmean ± σ\u001b[90m):  \u001b[39m0.00% ± 0.00%\n",
       "\n",
       "  \u001b[39m█\u001b[34m▆\u001b[39m\u001b[39m▂\u001b[39m \u001b[32m \u001b[39m\u001b[39m \u001b[39m \u001b[39m \u001b[39m \u001b[39m \u001b[39m \u001b[39m▁\u001b[39m \u001b[39m \u001b[39m \u001b[39m \u001b[39m▂\u001b[39m \u001b[39m \u001b[39m \u001b[39m \u001b[39m \u001b[39m \u001b[39m \u001b[39m \u001b[39m \u001b[39m \u001b[39m \u001b[39m \u001b[39m \u001b[39m \u001b[39m \u001b[39m \u001b[39m \u001b[39m \u001b[39m \u001b[39m \u001b[39m \u001b[39m \u001b[39m \u001b[39m \u001b[39m \u001b[39m \u001b[39m \u001b[39m \u001b[39m \u001b[39m \u001b[39m \u001b[39m \u001b[39m \u001b[39m \u001b[39m \u001b[39m \u001b[39m \u001b[39m \u001b[39m \u001b[39m▁\u001b[39m \u001b[39m \u001b[39m \u001b[39m▁\n",
       "  \u001b[39m█\u001b[34m█\u001b[39m\u001b[39m█\u001b[39m█\u001b[32m█\u001b[39m\u001b[39m▇\u001b[39m▆\u001b[39m▇\u001b[39m▇\u001b[39m▆\u001b[39m▆\u001b[39m█\u001b[39m▆\u001b[39m▅\u001b[39m▅\u001b[39m▇\u001b[39m█\u001b[39m▇\u001b[39m▅\u001b[39m▄\u001b[39m▅\u001b[39m▇\u001b[39m▄\u001b[39m▁\u001b[39m▅\u001b[39m▄\u001b[39m█\u001b[39m▅\u001b[39m▃\u001b[39m▁\u001b[39m▁\u001b[39m▄\u001b[39m▇\u001b[39m▇\u001b[39m▁\u001b[39m▁\u001b[39m▄\u001b[39m▅\u001b[39m▄\u001b[39m▅\u001b[39m▄\u001b[39m▁\u001b[39m▅\u001b[39m▄\u001b[39m▄\u001b[39m▃\u001b[39m▃\u001b[39m▃\u001b[39m▄\u001b[39m▃\u001b[39m▄\u001b[39m▃\u001b[39m▄\u001b[39m▄\u001b[39m▄\u001b[39m▄\u001b[39m█\u001b[39m▇\u001b[39m▅\u001b[39m \u001b[39m█\n",
       "  4.22 μs\u001b[90m      \u001b[39m\u001b[90mHistogram: \u001b[39m\u001b[90m\u001b[1mlog(\u001b[22m\u001b[39m\u001b[90mfrequency\u001b[39m\u001b[90m\u001b[1m)\u001b[22m\u001b[39m\u001b[90m by time\u001b[39m      7.42 μs \u001b[0m\u001b[1m<\u001b[22m\n",
       "\n",
       " Memory estimate\u001b[90m: \u001b[39m\u001b[33m0 bytes\u001b[39m, allocs estimate\u001b[90m: \u001b[39m\u001b[33m0\u001b[39m."
      ]
     },
     "execution_count": 91,
     "metadata": {},
     "output_type": "execute_result"
    }
   ],
   "source": [
    "Psub1 = zeros(m)\n",
    "#Psub1 .= (1 .- P)\n",
    "@benchmark $Psub1 .= (1 .- $P)"
   ]
  },
  {
   "cell_type": "code",
   "execution_count": 94,
   "metadata": {},
   "outputs": [
    {
     "data": {
      "text/plain": [
       "1000×1000 Matrix{Float64}:\n",
       " 8369.0  4999.5  4990.0  5020.5  5018.0  …  5071.0  5008.0  5057.5  4981.0\n",
       " 4999.5  8327.0  4952.5  4948.0  5014.5     5029.5  5004.0  5053.0  4996.5\n",
       " 4990.0  4952.5  8326.5  5054.5  5016.0     5010.5  4979.5  4924.5  4985.5\n",
       " 5020.5  4948.0  5054.5  8339.5  4961.5     5034.0  5034.0  5056.5  5029.0\n",
       " 5018.0  5014.5  5016.0  4961.5  8320.0     5047.5  5083.0  4978.0  5011.5\n",
       " 4992.0  4972.0  4959.5  5005.5  5001.0  …  5002.0  4929.0  5045.0  5028.0\n",
       " 5037.5  4977.5  5022.5  4994.5  5046.5     5015.5  5037.0  4979.0  5033.5\n",
       " 5023.5  5029.5  4962.5  5029.0  5005.5     5018.0  5003.0  4991.5  4968.5\n",
       " 5004.5  5015.0  5068.0  5045.5  4983.5     5006.5  4982.0  4997.0  4988.5\n",
       " 5031.5  4985.0  5057.5  4979.0  4956.5     4998.0  4972.0  4966.5  5080.5\n",
       " 5032.0  4973.0  5013.5  4972.5  4981.0  …  4964.5  4971.0  5017.0  4966.5\n",
       " 4987.0  4960.5  5002.5  5029.5  5036.0     5009.0  4940.5  5012.5  4958.5\n",
       " 5006.5  5018.0  4988.0  5056.5  4960.5     5034.5  4987.0  4978.5  4995.5\n",
       "    ⋮                                    ⋱                          \n",
       " 5064.5  4998.5  4950.0  5034.0  4975.5     4992.5  5028.0  4979.5  5012.0\n",
       " 4980.0  5078.5  5007.0  5037.5  4900.5     4934.0  4996.0  5026.0  4988.0\n",
       " 5013.0  5017.0  5066.0  5016.5  5016.5  …  5021.5  5048.5  5022.5  5024.0\n",
       " 5041.0  5067.5  4998.0  5059.5  4989.5     4929.5  4996.5  5047.5  5027.0\n",
       " 4991.0  4983.5  4978.0  5021.0  5016.5     4946.0  4956.0  4955.5  4983.0\n",
       " 4971.0  5021.0  4996.0  5016.5  5024.5     5010.5  5002.5  4947.5  5013.5\n",
       " 4938.5  4947.0  4993.0  5013.5  4974.5     4991.5  5024.0  4965.5  4904.0\n",
       " 4993.0  5036.0  5023.5  5045.0  4954.0  …  4986.5  5045.0  5016.0  4980.0\n",
       " 5071.0  5029.5  5010.5  5034.0  5047.5     8319.5  5010.5  5005.5  5032.5\n",
       " 5008.0  5004.0  4979.5  5034.0  5083.0     5010.5  8345.5  5005.0  4994.0\n",
       " 5057.5  5053.0  4924.5  5056.5  4978.0     5005.5  5005.0  8328.0  4948.5\n",
       " 4981.0  4996.5  4985.5  5029.0  5011.5     5032.5  4994.0  4948.5  8328.5"
      ]
     },
     "execution_count": 94,
     "metadata": {},
     "output_type": "execute_result"
    }
   ],
   "source": [
    "E = zeros(n, n)\n",
    "#@benchmark $E .= ($G * $G' + (2 .- $G) * (2 .- $G)')/4\n",
    "E .= (G * G' + (2 .- G) * (2 .- G)')/4"
   ]
  },
  {
   "cell_type": "code",
   "execution_count": 100,
   "metadata": {},
   "outputs": [
    {
     "data": {
      "text/plain": [
       "BenchmarkTools.Trial: 11 samples with 1 evaluation.\n",
       " Range \u001b[90m(\u001b[39m\u001b[36m\u001b[1mmin\u001b[22m\u001b[39m … \u001b[35mmax\u001b[39m\u001b[90m):  \u001b[39m\u001b[36m\u001b[1m383.171 ms\u001b[22m\u001b[39m … \u001b[35m647.523 ms\u001b[39m  \u001b[90m┊\u001b[39m GC \u001b[90m(\u001b[39mmin … max\u001b[90m): \u001b[39m0.00% … 0.00%\n",
       " Time  \u001b[90m(\u001b[39m\u001b[34m\u001b[1mmedian\u001b[22m\u001b[39m\u001b[90m):     \u001b[39m\u001b[34m\u001b[1m473.428 ms               \u001b[22m\u001b[39m\u001b[90m┊\u001b[39m GC \u001b[90m(\u001b[39mmedian\u001b[90m):    \u001b[39m2.82%\n",
       " Time  \u001b[90m(\u001b[39m\u001b[32m\u001b[1mmean\u001b[22m\u001b[39m ± \u001b[32mσ\u001b[39m\u001b[90m):   \u001b[39m\u001b[32m\u001b[1m472.450 ms\u001b[22m\u001b[39m ± \u001b[32m 71.196 ms\u001b[39m  \u001b[90m┊\u001b[39m GC \u001b[90m(\u001b[39mmean ± σ\u001b[90m):  \u001b[39m2.76% ± 2.90%\n",
       "\n",
       "  \u001b[39m▁\u001b[39m \u001b[39m \u001b[39m▁\u001b[39m \u001b[39m \u001b[39m \u001b[39m \u001b[39m \u001b[39m▁\u001b[39m \u001b[39m \u001b[39m \u001b[39m \u001b[39m \u001b[34m█\u001b[39m\u001b[39m \u001b[39m \u001b[39m \u001b[39m \u001b[39m▁\u001b[32m \u001b[39m\u001b[39m█\u001b[39m▁\u001b[39m \u001b[39m \u001b[39m \u001b[39m \u001b[39m \u001b[39m \u001b[39m \u001b[39m \u001b[39m \u001b[39m▁\u001b[39m \u001b[39m \u001b[39m \u001b[39m \u001b[39m \u001b[39m \u001b[39m \u001b[39m \u001b[39m \u001b[39m \u001b[39m \u001b[39m \u001b[39m \u001b[39m \u001b[39m \u001b[39m \u001b[39m \u001b[39m \u001b[39m \u001b[39m \u001b[39m \u001b[39m \u001b[39m \u001b[39m \u001b[39m \u001b[39m \u001b[39m▁\u001b[39m \u001b[39m \n",
       "  \u001b[39m█\u001b[39m▁\u001b[39m▁\u001b[39m█\u001b[39m▁\u001b[39m▁\u001b[39m▁\u001b[39m▁\u001b[39m▁\u001b[39m█\u001b[39m▁\u001b[39m▁\u001b[39m▁\u001b[39m▁\u001b[39m▁\u001b[34m█\u001b[39m\u001b[39m▁\u001b[39m▁\u001b[39m▁\u001b[39m▁\u001b[39m█\u001b[32m▁\u001b[39m\u001b[39m█\u001b[39m█\u001b[39m▁\u001b[39m▁\u001b[39m▁\u001b[39m▁\u001b[39m▁\u001b[39m▁\u001b[39m▁\u001b[39m▁\u001b[39m▁\u001b[39m█\u001b[39m▁\u001b[39m▁\u001b[39m▁\u001b[39m▁\u001b[39m▁\u001b[39m▁\u001b[39m▁\u001b[39m▁\u001b[39m▁\u001b[39m▁\u001b[39m▁\u001b[39m▁\u001b[39m▁\u001b[39m▁\u001b[39m▁\u001b[39m▁\u001b[39m▁\u001b[39m▁\u001b[39m▁\u001b[39m▁\u001b[39m▁\u001b[39m▁\u001b[39m▁\u001b[39m▁\u001b[39m▁\u001b[39m▁\u001b[39m█\u001b[39m \u001b[39m▁\n",
       "  383 ms\u001b[90m           Histogram: frequency by time\u001b[39m          648 ms \u001b[0m\u001b[1m<\u001b[22m\n",
       "\n",
       " Memory estimate\u001b[90m: \u001b[39m\u001b[33m152.59 MiB\u001b[39m, allocs estimate\u001b[90m: \u001b[39m\u001b[33m4\u001b[39m."
      ]
     },
     "execution_count": 100,
     "metadata": {},
     "output_type": "execute_result"
    }
   ],
   "source": [
    "@benchmark mul!($W, 2 .- $G, transpose(2 .- $G))"
   ]
  },
  {
   "cell_type": "code",
   "execution_count": 106,
   "metadata": {},
   "outputs": [
    {
     "data": {
      "text/plain": [
       "1000×1000 Matrix{Float64}:\n",
       " 16726.0  10009.0   9857.0  10130.0  …  10197.0  10007.0  10137.0   9793.0\n",
       " 10009.0  16686.0   9804.0  10007.0     10136.0  10021.0  10150.0   9846.0\n",
       "  9857.0   9804.0  16419.0  10087.0      9965.0   9839.0   9760.0   9691.0\n",
       " 10130.0  10007.0  10087.0  16869.0     10224.0  10160.0  10236.0   9990.0\n",
       " 10100.0  10115.0   9985.0  10088.0     10226.0  10233.0  10054.0   9930.0\n",
       "  9894.0   9876.0   9718.0  10022.0  …   9981.0   9771.0  10034.0   9809.0\n",
       " 10018.0   9920.0   9877.0  10033.0     10041.0  10020.0   9935.0   9853.0\n",
       " 10041.0  10075.0   9808.0  10153.0     10097.0  10003.0  10011.0   9774.0\n",
       " 10062.0  10105.0  10078.0  10245.0     10133.0  10020.0  10081.0   9873.0\n",
       "  9989.0   9918.0   9930.0   9985.0      9989.0   9873.0   9893.0   9930.0\n",
       "  9847.0   9751.0   9699.0   9829.0  …   9779.0   9728.0   9851.0   9559.0\n",
       "  9920.0   9889.0   9840.0  10106.0     10031.0   9830.0  10005.0   9706.0\n",
       " 10151.0  10196.0  10003.0  10352.0     10274.0  10115.0  10129.0   9972.0\n",
       "     ⋮                               ⋱                             \n",
       " 10177.0  10067.0   9837.0  10217.0     10100.0  10107.0  10041.0   9915.0\n",
       " 10003.0  10222.0   9946.0  10219.0      9978.0  10038.0  10129.0   9862.0\n",
       "  9898.0   9928.0   9893.0  10006.0  …   9982.0   9972.0   9951.0   9763.0\n",
       " 10035.0  10110.0   9838.0  10173.0      9879.0   9949.0  10082.0   9850.0\n",
       "  9985.0   9992.0   9848.0  10146.0      9962.0   9918.0   9948.0   9812.0\n",
       "  9957.0  10079.0   9896.0  10149.0     10103.0  10023.0   9944.0   9885.0\n",
       "  9784.0   9823.0   9782.0  10035.0      9957.0   9958.0   9872.0   9558.0\n",
       "  9965.0  10073.0   9915.0  10170.0  …  10019.0  10072.0  10045.0   9782.0\n",
       " 10197.0  10136.0   9965.0  10224.0     16761.0  10079.0  10100.0   9963.0\n",
       " 10007.0  10021.0   9839.0  10160.0     10079.0  16685.0  10035.0   9822.0\n",
       " 10137.0  10150.0   9760.0  10236.0     10100.0  10035.0  16712.0   9762.0\n",
       "  9793.0   9846.0   9691.0   9990.0      9963.0   9822.0   9762.0  16331.0"
      ]
     },
     "execution_count": 106,
     "metadata": {},
     "output_type": "execute_result"
    }
   ],
   "source": [
    "mul!(W, 2 .- G, transpose(2 .- G))"
   ]
  },
  {
   "cell_type": "code",
   "execution_count": 101,
   "metadata": {},
   "outputs": [
    {
     "data": {
      "text/plain": [
       "BenchmarkTools.Trial: 402 samples with 1 evaluation.\n",
       " Range \u001b[90m(\u001b[39m\u001b[36m\u001b[1mmin\u001b[22m\u001b[39m … \u001b[35mmax\u001b[39m\u001b[90m):  \u001b[39m\u001b[36m\u001b[1m 5.545 ms\u001b[22m\u001b[39m … \u001b[35m63.696 ms\u001b[39m  \u001b[90m┊\u001b[39m GC \u001b[90m(\u001b[39mmin … max\u001b[90m): \u001b[39m 0.00% … 75.61%\n",
       " Time  \u001b[90m(\u001b[39m\u001b[34m\u001b[1mmedian\u001b[22m\u001b[39m\u001b[90m):     \u001b[39m\u001b[34m\u001b[1m11.495 ms              \u001b[22m\u001b[39m\u001b[90m┊\u001b[39m GC \u001b[90m(\u001b[39mmedian\u001b[90m):    \u001b[39m 0.00%\n",
       " Time  \u001b[90m(\u001b[39m\u001b[32m\u001b[1mmean\u001b[22m\u001b[39m ± \u001b[32mσ\u001b[39m\u001b[90m):   \u001b[39m\u001b[32m\u001b[1m12.521 ms\u001b[22m\u001b[39m ± \u001b[32m 9.793 ms\u001b[39m  \u001b[90m┊\u001b[39m GC \u001b[90m(\u001b[39mmean ± σ\u001b[90m):  \u001b[39m17.20% ± 17.93%\n",
       "\n",
       "  \u001b[39m█\u001b[39m▆\u001b[39m \u001b[39m▃\u001b[39m \u001b[39m▁\u001b[39m \u001b[39m \u001b[34m \u001b[39m\u001b[39m▅\u001b[32m▆\u001b[39m\u001b[39m▂\u001b[39m▂\u001b[39m▃\u001b[39m \u001b[39m \u001b[39m \u001b[39m \u001b[39m \u001b[39m \u001b[39m \u001b[39m \u001b[39m \u001b[39m \u001b[39m \u001b[39m \u001b[39m \u001b[39m \u001b[39m \u001b[39m \u001b[39m \u001b[39m \u001b[39m \u001b[39m \u001b[39m \u001b[39m \u001b[39m \u001b[39m \u001b[39m \u001b[39m \u001b[39m \u001b[39m \u001b[39m \u001b[39m \u001b[39m \u001b[39m \u001b[39m \u001b[39m \u001b[39m \u001b[39m \u001b[39m \u001b[39m \u001b[39m \u001b[39m \u001b[39m \u001b[39m \u001b[39m \u001b[39m \u001b[39m \u001b[39m \u001b[39m \n",
       "  \u001b[39m█\u001b[39m█\u001b[39m█\u001b[39m█\u001b[39m▁\u001b[39m█\u001b[39m▇\u001b[39m▆\u001b[34m▅\u001b[39m\u001b[39m█\u001b[32m█\u001b[39m\u001b[39m█\u001b[39m█\u001b[39m█\u001b[39m█\u001b[39m█\u001b[39m▅\u001b[39m▁\u001b[39m▄\u001b[39m▅\u001b[39m▄\u001b[39m▄\u001b[39m▁\u001b[39m▁\u001b[39m▄\u001b[39m▄\u001b[39m▁\u001b[39m▁\u001b[39m▁\u001b[39m▅\u001b[39m▁\u001b[39m▁\u001b[39m▁\u001b[39m▁\u001b[39m▁\u001b[39m▁\u001b[39m▁\u001b[39m▁\u001b[39m▁\u001b[39m▁\u001b[39m▁\u001b[39m▁\u001b[39m▁\u001b[39m▁\u001b[39m▁\u001b[39m▁\u001b[39m▄\u001b[39m▆\u001b[39m▄\u001b[39m▆\u001b[39m▆\u001b[39m▅\u001b[39m▅\u001b[39m▄\u001b[39m▁\u001b[39m▁\u001b[39m▅\u001b[39m▅\u001b[39m▅\u001b[39m \u001b[39m▇\n",
       "  5.55 ms\u001b[90m      \u001b[39m\u001b[90mHistogram: \u001b[39m\u001b[90m\u001b[1mlog(\u001b[22m\u001b[39m\u001b[90mfrequency\u001b[39m\u001b[90m\u001b[1m)\u001b[22m\u001b[39m\u001b[90m by time\u001b[39m      48.7 ms \u001b[0m\u001b[1m<\u001b[22m\n",
       "\n",
       " Memory estimate\u001b[90m: \u001b[39m\u001b[33m15.26 MiB\u001b[39m, allocs estimate\u001b[90m: \u001b[39m\u001b[33m4\u001b[39m."
      ]
     },
     "execution_count": 101,
     "metadata": {},
     "output_type": "execute_result"
    }
   ],
   "source": [
    "@benchmark $E .= ($T + $W)/4"
   ]
  },
  {
   "cell_type": "markdown",
   "metadata": {},
   "source": [
    "### Q2.2 Correctness\n",
    "\n",
    "First let's make sure our function yields correct answer. Run your function on a fake genotype matrix"
   ]
  },
  {
   "cell_type": "code",
   "execution_count": 212,
   "metadata": {},
   "outputs": [
    {
     "data": {
      "text/plain": [
       "1000×1000 Matrix{Float64}:\n",
       "  0.673584     -0.000762864  -0.00266412   …   0.0108448    -0.00446532\n",
       " -0.000762864   0.665178     -0.0101691        0.00994423   -0.00136326\n",
       " -0.00266412   -0.0101691     0.665078        -0.0157728    -0.00356472\n",
       "  0.00343992   -0.0110697     0.0102444        0.0106447     0.00514105\n",
       "  0.00293959    0.00223912    0.00253932      -0.00506571    0.00163873\n",
       " -0.00226386   -0.00626651   -0.00876817   …   0.00834317    0.00494091\n",
       "  0.00684217   -0.00516578    0.00384018      -0.00486558    0.00604164\n",
       "  0.00404032    0.00524111   -0.00816777      -0.00236392   -0.00696697\n",
       "  0.000237799   0.00233919    0.0129462       -0.0012632    -0.00296432\n",
       "  0.00564138   -0.00366479    0.0108448       -0.00736724    0.0154479\n",
       "  0.00574144   -0.00606638    0.00203899   …   0.00273946   -0.00736724\n",
       " -0.00326452   -0.00856803   -0.000162467      0.00183886   -0.0089683\n",
       "  0.000638064   0.00293959   -0.00306439      -0.00496565   -0.00156339\n",
       "  ⋮                                        ⋱                \n",
       "  0.0122458    -0.000962997  -0.0106694       -0.00476552    0.00173879\n",
       " -0.00466545    0.0150476     0.00073813       0.00454065   -0.00306439\n",
       "  0.00193893    0.00273946    0.012546     …   0.00384018    0.00414038\n",
       "  0.00754264    0.0128461    -0.00106306       0.0088435     0.00474078\n",
       " -0.00246399   -0.00396499   -0.00506571      -0.0095687    -0.00406505\n",
       " -0.00646664    0.00353999   -0.00146333      -0.0111698     0.00203899\n",
       " -0.012971     -0.0112698    -0.00206373      -0.00756737   -0.0198755\n",
       " -0.00206373    0.00654197    0.00404032   …   0.00253932   -0.00466545\n",
       "  0.0135466     0.00524111    0.00143859       0.000437931   0.00584151\n",
       "  0.000938262   0.000137732  -0.00476552       0.000337865  -0.00186359\n",
       "  0.0108448     0.00994423   -0.0157728        0.665378     -0.0109696\n",
       " -0.00446532   -0.00136326   -0.00356472      -0.0109696     0.665478"
      ]
     },
     "execution_count": 212,
     "metadata": {},
     "output_type": "execute_result"
    }
   ],
   "source": [
    "# generate a fake genotype matrix with entries {0, 1, 2}\n",
    "Random.seed!(257)\n",
    "G = rand(0.0:2.0, 1000, 10000)\n",
    "Φ = kinship(G)"
   ]
  },
  {
   "cell_type": "markdown",
   "metadata": {},
   "source": [
    "Compare the upper left $5 \\times 5$ block to what I got using my implementation\n",
    "\n",
    "```julia\n",
    "Φ[1:5, 1:5]\n",
    "```\n",
    "\n",
    "```\n",
    "5×5 Matrix{Float64}:\n",
    "  0.673584     -0.000762864  -0.00266412   0.00343992   0.00293959\n",
    " -0.000762864   0.665178     -0.0101691   -0.0110697    0.00223912\n",
    " -0.00266412   -0.0101691     0.665078     0.0102444    0.00253932\n",
    "  0.00343992   -0.0110697     0.0102444    0.66768     -0.0083679\n",
    "  0.00293959    0.00223912    0.00253932  -0.0083679    0.663777\n",
    "```"
   ]
  },
  {
   "cell_type": "code",
   "execution_count": 204,
   "metadata": {},
   "outputs": [
    {
     "data": {
      "text/plain": [
       "5×5 Matrix{Float64}:\n",
       "  0.673584     -0.000762864  -0.00266412   0.00343992   0.00293959\n",
       " -0.000762864   0.665178     -0.0101691   -0.0110697    0.00223912\n",
       " -0.00266412   -0.0101691     0.665078     0.0102444    0.00253932\n",
       "  0.00343992   -0.0110697     0.0102444    0.66768     -0.0083679\n",
       "  0.00293959    0.00223912    0.00253932  -0.0083679    0.663777"
      ]
     },
     "execution_count": 204,
     "metadata": {},
     "output_type": "execute_result"
    }
   ],
   "source": [
    "Φ[1:5, 1:5]"
   ]
  },
  {
   "cell_type": "markdown",
   "metadata": {},
   "source": [
    "### Q2.3 Efficiency\n",
    "\n",
    "In a typical genetic data set, $n$ is at order of $10^3 \\sim 10^6$ and $m$ is at order of $10^6 \\sim 10^7$. Benchmark your function using the smaller data set $G$ generated in Q2.2. Efficiency (both speed and memory) will be the most important criterion when grading this question."
   ]
  },
  {
   "cell_type": "code",
   "execution_count": 213,
   "metadata": {},
   "outputs": [
    {
     "name": "stdout",
     "output_type": "stream",
     "text": [
      "  515.630 ms (14 allocations: 30.69 MiB)\n"
     ]
    },
    {
     "data": {
      "text/plain": [
       "1000×1000 Matrix{Float64}:\n",
       "  0.673584     -0.000762864  -0.00266412   …   0.0108448    -0.00446532\n",
       " -0.000762864   0.665178     -0.0101691        0.00994423   -0.00136326\n",
       " -0.00266412   -0.0101691     0.665078        -0.0157728    -0.00356472\n",
       "  0.00343992   -0.0110697     0.0102444        0.0106447     0.00514105\n",
       "  0.00293959    0.00223912    0.00253932      -0.00506571    0.00163873\n",
       " -0.00226386   -0.00626651   -0.00876817   …   0.00834317    0.00494091\n",
       "  0.00684217   -0.00516578    0.00384018      -0.00486558    0.00604164\n",
       "  0.00404032    0.00524111   -0.00816777      -0.00236392   -0.00696697\n",
       "  0.000237799   0.00233919    0.0129462       -0.0012632    -0.00296432\n",
       "  0.00564138   -0.00366479    0.0108448       -0.00736724    0.0154479\n",
       "  0.00574144   -0.00606638    0.00203899   …   0.00273946   -0.00736724\n",
       " -0.00326452   -0.00856803   -0.000162467      0.00183886   -0.0089683\n",
       "  0.000638064   0.00293959   -0.00306439      -0.00496565   -0.00156339\n",
       "  ⋮                                        ⋱                \n",
       "  0.0122458    -0.000962997  -0.0106694       -0.00476552    0.00173879\n",
       " -0.00466545    0.0150476     0.00073813       0.00454065   -0.00306439\n",
       "  0.00193893    0.00273946    0.012546     …   0.00384018    0.00414038\n",
       "  0.00754264    0.0128461    -0.00106306       0.0088435     0.00474078\n",
       " -0.00246399   -0.00396499   -0.00506571      -0.0095687    -0.00406505\n",
       " -0.00646664    0.00353999   -0.00146333      -0.0111698     0.00203899\n",
       " -0.012971     -0.0112698    -0.00206373      -0.00756737   -0.0198755\n",
       " -0.00206373    0.00654197    0.00404032   …   0.00253932   -0.00466545\n",
       "  0.0135466     0.00524111    0.00143859       0.000437931   0.00584151\n",
       "  0.000938262   0.000137732  -0.00476552       0.000337865  -0.00186359\n",
       "  0.0108448     0.00994423   -0.0157728        0.665378     -0.0109696\n",
       " -0.00446532   -0.00136326   -0.00356472      -0.0109696     0.665478"
      ]
     },
     "execution_count": 213,
     "metadata": {},
     "output_type": "execute_result"
    }
   ],
   "source": [
    "# benchmark\n",
    "@btime kinship($G)"
   ]
  },
  {
   "cell_type": "markdown",
   "metadata": {},
   "source": [
    "**Hint**: I got `@btime` output\n",
    "```\n",
    "82.144 ms (3 allocations: 7.64 MiB)\n",
    "```"
   ]
  },
  {
   "cell_type": "code",
   "execution_count": 210,
   "metadata": {},
   "outputs": [
    {
     "name": "stdout",
     "output_type": "stream",
     "text": [
      " Count  Overhead File                    Line Function\n",
      " =====  ======== ====                    ==== ========\n",
      "    37         0 In[207]                    5 kinship(G::Matrix{Float64})\n",
      "    17         0 In[207]                    6 kinship(G::Matrix{Float64})\n",
      "    20         0 In[207]                    8 kinship(G::Matrix{Float64})\n",
      "     1         0 In[207]                   15 kinship(G::Matrix{Float64})\n",
      "    17         0 In[207]                   16 kinship(G::Matrix{Float64})\n",
      "    18         0 In[207]                   21 kinship(G::Matrix{Float64})\n",
      "    77         0 In[207]                   25 kinship(G::Matrix{Float64})\n",
      "    24         0 In[207]                   27 kinship(G::Matrix{Float64})\n",
      "    46         0 In[207]                   28 kinship(G::Matrix{Float64})\n",
      "    28         0 In[207]                   30 kinship(G::Matrix{Float64})\n",
      "   285         0 In[210]                    3 macro expansion\n",
      "    55         0 @Base/array.jl           353 fill!\n",
      "     9         9 @Base/array.jl           862 getindex\n",
      "    61        61 @Base/array.jl           903 setindex!\n",
      "    88        88 @Base/array.jl           905 setindex!\n",
      "    18         0 @Base/array.jl           374 similar\n",
      "    57         0 @Base/array.jl           520 zeros\n",
      "    57         0 @Base/array.jl           522 zeros\n",
      "     2         0 @Base/array.jl           525 zeros\n",
      "    55         0 @Base/array.jl           526 zeros\n",
      "    37        37 @Base/boot.jl            459 Array\n",
      "     2         0 @Base/boot.jl            467 Array\n",
      "   285         0 @Base/boot.jl            373 eval\n",
      "     5         0 @Base/broadcast.jl       636 _broadcast_getindex\n",
      "     9         0 @Base/broadcast.jl       642 _broadcast_getindex\n",
      "     7         0 @Base/broadcast.jl       643 _broadcast_getindex\n",
      "     7         0 @Base/broadcast.jl       670 _broadcast_getindex_evalf\n",
      "     9         0 @Base/broadcast.jl       666 _getindex\n",
      "    74         0 @Base/broadcast.jl       913 copyto!\n",
      "    74         0 @Base/broadcast.jl       960 copyto!\n",
      "    12         0 @Base/broadcast.jl       597 getindex\n",
      "    69         0 @Base/broadcast.jl       961 macro expansion\n",
      "    74         0 @Base/broadcast.jl       868 materialize!\n",
      "    74         0 @Base/broadcast.jl       871 materialize!\n",
      "   285         0 @Base/essentials.jl      716 #invokelatest#2\n",
      "   285         0 @Base/essentials.jl      714 invokelatest\n",
      "     4         4 @Base/float.jl           399 +\n",
      "    71        71 @Base/float.jl           402 -\n",
      "     3         3 @Base/float.jl           408 /\n",
      "     5         5 @Base/int.jl              87 +\n",
      "   285         0 @Base/loading.jl        1196 include_string(mapexpr::typeof(...\n",
      "     5         0 ...multidimensional.jl   644 getindex\n",
      "    57         0 ...multidimensional.jl   646 setindex!\n",
      "    71         0 @Base/promotion.jl       381 -\n",
      "     2         0 @Base/promotion.jl       382 /\n",
      "     7         7 @Base/promotion.jl       468 ==\n",
      "     7         0 @Base/range.jl           837 iterate\n",
      "    69         0 @Base/simdloop.jl         77 macro expansion\n",
      "     5         0 @Base/simdloop.jl         78 macro expansion\n",
      "   285         0 @Base/task.jl            423 (::IJulia.var\"#15#18\")()\n",
      "   285         0 ...ia/src/eventloop.jl     8 eventloop(socket::ZMQ.Socket)\n",
      "   285         0 .../execute_request.jl    67 execute_request(socket::ZMQ.Soc...\n",
      "   285         0 .../SoftGlobalScope.jl    65 softscope_include_string(m::Mod...\n",
      "    42         0 ...gebra/src/matmul.jl   510 copytri!\n",
      "    42         0 ...gebra/src/matmul.jl   514 copytri!\n",
      "    42         0 ...gebra/src/matmul.jl   275 mul!\n",
      "    42         0 ...gebra/src/matmul.jl   390 mul!\n",
      "    42         0 ...gebra/src/matmul.jl   582 syrk_wrapper!(C::Matrix{Float64...\n",
      "   285         0 ...file/src/Profile.jl    28 top-level scope\n",
      "Total snapshots: 3832\n"
     ]
    }
   ],
   "source": [
    "using Profile\n",
    "Profile.clear()\n",
    "@profile for i in 1:10; kinship(G); end\n",
    "Profile.print(format=:flat)"
   ]
  },
  {
   "cell_type": "code",
   "execution_count": null,
   "metadata": {},
   "outputs": [],
   "source": []
  }
 ],
 "metadata": {
  "@webio": {
   "lastCommId": null,
   "lastKernelId": null
  },
  "kernelspec": {
   "display_name": "Julia 1.7.2",
   "language": "julia",
   "name": "julia-1.7"
  },
  "language_info": {
   "file_extension": ".jl",
   "mimetype": "application/julia",
   "name": "julia",
   "version": "1.7.2"
  },
  "toc": {
   "colors": {
    "hover_highlight": "#DAA520",
    "running_highlight": "#FF0000",
    "selected_highlight": "#FFD700"
   },
   "moveMenuLeft": true,
   "nav_menu": {
    "height": "87px",
    "width": "252px"
   },
   "navigate_menu": true,
   "number_sections": true,
   "sideBar": true,
   "skip_h1_title": true,
   "threshold": 4,
   "toc_cell": false,
   "toc_section_display": "block",
   "toc_window_display": false,
   "widenNotebook": false
  }
 },
 "nbformat": 4,
 "nbformat_minor": 4
}
