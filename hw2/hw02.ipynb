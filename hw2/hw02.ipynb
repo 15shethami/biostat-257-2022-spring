{
 "cells": [
  {
   "cell_type": "markdown",
   "metadata": {},
   "source": [
    "# Biostat 257 Homework 2\n",
    "\n",
    "**Due Apr 29 @ 11:59PM**\n",
    "\n",
    "Ami Sheth"
   ]
  },
  {
   "cell_type": "code",
   "execution_count": 4,
   "metadata": {},
   "outputs": [
    {
     "name": "stdout",
     "output_type": "stream",
     "text": [
      "Julia Version 1.7.2\n",
      "Commit bf53498635 (2022-02-06 15:21 UTC)\n",
      "Platform Info:\n",
      "  OS: macOS (x86_64-apple-darwin19.5.0)\n",
      "  CPU: Intel(R) Core(TM) i5-4260U CPU @ 1.40GHz\n",
      "  WORD_SIZE: 64\n",
      "  LIBM: libopenlibm\n",
      "  LLVM: libLLVM-12.0.1 (ORCJIT, haswell)\n"
     ]
    }
   ],
   "source": [
    "versioninfo()"
   ]
  },
  {
   "cell_type": "code",
   "execution_count": 5,
   "metadata": {},
   "outputs": [],
   "source": [
    "# load libraries\n",
    "# import Pkg; Pkg.add(\"Images\")\n",
    "using BenchmarkTools, DelimitedFiles, Images, LinearAlgebra, Random"
   ]
  },
  {
   "cell_type": "markdown",
   "metadata": {},
   "source": [
    "## Q1. Nonnegative Matrix Factorization\n",
    "\n",
    "Nonnegative matrix factorization (NNMF) was introduced by [Lee and Seung (1999)](https://www.nature.com/articles/44565) as an analog of principal components and vector quantization with applications in data compression and clustering. In this homework we consider algorithms for fitting NNMF and (optionally) high performance computing using graphical processing units (GPUs).\n",
    "\n",
    "<img src=\"./nnmf.png\" width=\"500\" align=\"center\"/>\n",
    "\n",
    "In mathematical terms, one approximates a data matrix $\\mathbf{X} \\in \\mathbb{R}^{m \\times n}$ with nonnegative entries $x_{ij}$ by a product of two low-rank matrices $\\mathbf{V} \\in \\mathbb{R}^{m \\times r}$ and $\\mathbf{W} \\in \\mathbb{R}^{r \\times n}$ with nonnegative entries $v_{ik}$ and $w_{kj}$. Consider minimization of the squared Frobenius norm\n",
    "$$\n",
    "\tL(\\mathbf{V}, \\mathbf{W}) = \\|\\mathbf{X} - \\mathbf{V} \\mathbf{W}\\|_{\\text{F}}^2 = \\sum_i \\sum_j \\left(x_{ij} - \\sum_k v_{ik} w_{kj} \\right)^2, \\quad v_{ik} \\ge 0, w_{kj} \\ge 0,\n",
    "$$\n",
    "which should lead to a good factorization. Lee and Seung suggest an iterative algorithm with multiplicative updates\n",
    "$$\n",
    "v_{ik}^{(t+1)} = v_{ik}^{(t)} \\frac{\\sum_j x_{ij} w_{kj}^{(t)}}{\\sum_j b_{ij}^{(t)} w_{kj}^{(t)}}, \\quad \\text{where } b_{ij}^{(t)} = \\sum_k v_{ik}^{(t)} w_{kj}^{(t)},\n",
    "$$\n",
    "$$\n",
    "w_{kj}^{(t+1)} = w_{kj}^{(t)} \\frac{\\sum_i x_{ij} v_{ik}^{(t+1)}}{\\sum_i b_{ij}^{(t+1/2)} v_{ik}^{(t+1)}}, \\quad \\text{where } b_{ij}^{(t+1/2)} = \\sum_k v_{ik}^{(t+1)} w_{kj}^{(t)}\n",
    "$$\n",
    "that will drive the objective $L^{(t)} = L(\\mathbf{V}^{(t)}, \\mathbf{W}^{(t)})$ downhill. Superscript $t$ indicates iteration number. In following questions, efficiency (both speed and memory) will be the most important criterion when grading this problem."
   ]
  },
  {
   "cell_type": "markdown",
   "metadata": {},
   "source": [
    "### Q1.1 Develop code\n",
    "\n",
    "Implement the algorithm with arguments: $\\mathbf{X}$ (data, each row is a vectorized image), rank $r$, convergence tolerance, and optional starting point."
   ]
  },
  {
   "cell_type": "code",
   "execution_count": 6,
   "metadata": {},
   "outputs": [
    {
     "data": {
      "text/plain": [
       "nnmf (generic function with 1 method)"
      ]
     },
     "execution_count": 6,
     "metadata": {},
     "output_type": "execute_result"
    }
   ],
   "source": [
    "function nnmf(\n",
    "    X       :: Matrix{T}, \n",
    "    r       :: Integer;\n",
    "    maxiter :: Integer = 1000, \n",
    "    tolfun  :: Number = 1e-4,\n",
    "    V       :: Matrix{T} = rand(T, size(X, 1), r),\n",
    "    W       :: Matrix{T} = rand(T, r, size(X, 2))\n",
    "    ) where T <: AbstractFloat\n",
    "    # initialization \n",
    "    n = size(X, 2)\n",
    "    m = size(X, 1)\n",
    "    xsize = size(X)\n",
    "    a = zeros(xsize)\n",
    "    a .= X .- mul!(a, V, W)\n",
    "    obj = abs2(norm(a, 2))\n",
    "    # evaluate obj at starting point\n",
    "    #for j = 1:n, k = 1:r, i = 1:m\n",
    "    #    obj = sum((X[i, j] - dot(V[i, k], W[k, j]))^2)\n",
    "    #end\n",
    "    niter = maxiter\n",
    "    # loop\n",
    "    for iter in 1:maxiter\n",
    "        # update V\n",
    "        for j = 1:n, k = 1:r, i = 1:m\n",
    "            b_ij = dot(V[i, k], W[k, j])\n",
    "            V[i, k] = V[i, k] * (sum(X[i, j] * W[k, j]))/(sum(b_ij * W[k, j]))\n",
    "        end\n",
    "        # update W\n",
    "        for i = 1:m, k = 1:r, j = 1:n\n",
    "            b_ij_2 = dot(V[i, k], W[k, j])\n",
    "            W[k, j] = W[k, j] * (sum(X[i, j] * V[i, k]))/(sum(b_ij_2 * V[i, k]))\n",
    "        end\n",
    "        # update obj\n",
    "        objold = obj\n",
    "        a .= X .- mul!(a, V, W)\n",
    "        obj = abs2(norm(a, 2))\n",
    "        #for j = 1:n, k = 1:r, i = 1:m\n",
    "        #    obj = sum((X[i, j] - dot(V[i, k], W[k, j]))^2)\n",
    "        #end\n",
    "        # check convergence\n",
    "        if abs(obj - objold) ≤ tolfun * (abs(objold) + 1)\n",
    "            niter = iter\n",
    "            break\n",
    "        end\n",
    "    end\n",
    "    # Output\n",
    "    V, W, obj, niter\n",
    "end"
   ]
  },
  {
   "cell_type": "code",
   "execution_count": 19,
   "metadata": {},
   "outputs": [
    {
     "data": {
      "text/plain": [
       "5×7 Matrix{Float64}:\n",
       " 0.0686458  0.691898  0.0565315  0.100056   0.396001  0.521127  0.0642346\n",
       " 0.930374   0.192718  0.929991   0.234934   0.419402  0.56154   0.890999\n",
       " 0.158761   0.516169  0.224011   0.474599   0.525583  0.606901  0.363247\n",
       " 0.823123   0.129719  0.80577    0.0565706  0.21062   0.852577  0.627465\n",
       " 0.670414   0.834833  0.643352   0.0814076  0.646056  0.88632   0.870625"
      ]
     },
     "execution_count": 19,
     "metadata": {},
     "output_type": "execute_result"
    }
   ],
   "source": [
    "Random.seed!(1)\n",
    "V = rand(5, 2)\n",
    "W = rand(2, 7)\n",
    "X = rand(5, 7)\n",
    "r = 2\n",
    "m = 5\n",
    "n = 7\n",
    "X"
   ]
  },
  {
   "cell_type": "code",
   "execution_count": 7,
   "metadata": {},
   "outputs": [
    {
     "data": {
      "text/plain": [
       "5×2 Matrix{Float64}:\n",
       " 0.524946  0.915248\n",
       " 0.800701  0.995517\n",
       " 0.474682  0.503333\n",
       " 0.795858  0.837778\n",
       " 0.748669  0.624372"
      ]
     },
     "execution_count": 7,
     "metadata": {},
     "output_type": "execute_result"
    }
   ],
   "source": [
    "V"
   ]
  },
  {
   "cell_type": "code",
   "execution_count": 8,
   "metadata": {},
   "outputs": [
    {
     "data": {
      "text/plain": [
       "2×7 Matrix{Float64}:\n",
       " 0.102233  0.955465  0.244387  0.296604  0.05645   0.94919   0.511388\n",
       " 0.08407   0.435968  0.690845  0.959678  0.891387  0.137143  0.692897"
      ]
     },
     "execution_count": 8,
     "metadata": {},
     "output_type": "execute_result"
    }
   ],
   "source": [
    "W"
   ]
  },
  {
   "cell_type": "code",
   "execution_count": 8,
   "metadata": {},
   "outputs": [
    {
     "data": {
      "text/plain": [
       "0.0001"
      ]
     },
     "execution_count": 8,
     "metadata": {},
     "output_type": "execute_result"
    }
   ],
   "source": [
    "maxiter = 100\n",
    "niter = maxiter\n",
    "tolfun = 0.0001"
   ]
  },
  {
   "cell_type": "code",
   "execution_count": 9,
   "metadata": {},
   "outputs": [
    {
     "data": {
      "text/plain": [
       "9.438031658209933"
      ]
     },
     "execution_count": 9,
     "metadata": {},
     "output_type": "execute_result"
    }
   ],
   "source": [
    "obj = norm(X - V * W)^2"
   ]
  },
  {
   "cell_type": "code",
   "execution_count": 10,
   "metadata": {},
   "outputs": [
    {
     "data": {
      "text/plain": [
       "9.438031658209933"
      ]
     },
     "execution_count": 10,
     "metadata": {},
     "output_type": "execute_result"
    }
   ],
   "source": [
    "xsize = size(X)\n",
    "a = zeros(xsize)\n",
    "a .= X .- mul!(a, V, W)\n",
    "l0 = abs2(norm(a, 2))"
   ]
  },
  {
   "cell_type": "code",
   "execution_count": 11,
   "metadata": {},
   "outputs": [
    {
     "data": {
      "text/plain": [
       "614.7256524980608"
      ]
     },
     "execution_count": 11,
     "metadata": {},
     "output_type": "execute_result"
    }
   ],
   "source": [
    "sumed = 0\n",
    "for j = 1:n, i = 1:m, k = 1:r\n",
    "    sumed += dot(V[i, k], W[k, j])\n",
    "    obj = sum((X[i, j] - sumed)^2)\n",
    "end\n",
    "obj"
   ]
  },
  {
   "cell_type": "code",
   "execution_count": 12,
   "metadata": {},
   "outputs": [
    {
     "data": {
      "text/plain": [
       "(2, 9.791393988680383)"
      ]
     },
     "execution_count": 12,
     "metadata": {},
     "output_type": "execute_result"
    }
   ],
   "source": [
    "xsize = size(X)\n",
    "a = zeros(xsize)\n",
    "a .= X .- mul!(a, V, W)\n",
    "obj = abs2(norm(a, 2))\n",
    "for iter in 1:5\n",
    "    # update V\n",
    "    for j = 1:n, k = 1:r, i = 1:m\n",
    "        b_ij = dot(V[i, k], W[k, j])\n",
    "        V[i, k] = V[i, k] * (sum(X[i, j] * W[k, j]))/(sum(b_ij * W[k, j]))\n",
    "    end\n",
    "    # update W\n",
    "    for i = 1:m, k = 1:r, j = 1:n\n",
    "        b_ij_2 = dot(V[i, k], W[k, j])\n",
    "        W[k, j] = W[k, j] * (sum(X[i, j] * V[i, k]))/(sum(b_ij_2 * V[i, k]))\n",
    "    end\n",
    "    # update obj\n",
    "    objold = obj\n",
    "    a .= X .- mul!(a, V, W)\n",
    "    obj = abs2(norm(a, 2))\n",
    "    if abs(obj - objold) ≤ tolfun * (abs(objold) + 1)\n",
    "        niter = iter\n",
    "        break\n",
    "    end\n",
    "end\n",
    "return(niter, obj)"
   ]
  },
  {
   "cell_type": "code",
   "execution_count": 20,
   "metadata": {},
   "outputs": [
    {
     "data": {
      "text/plain": [
       "([0.06481329087128695 0.08061250769840085; 0.8990263097073999 1.1181775271414118; … ; 0.6331181858112894 0.7874502890011446; 0.878468836488423 1.0926088598843293], [0.7631623087731546 0.9503268748281205 … 1.0089371172449284 0.9910709743724716; 0.613590398224252 0.7640726472804906 … 0.8111958890484995 0.7968313251885976], 12.825644846475077, 2)"
      ]
     },
     "execution_count": 20,
     "metadata": {},
     "output_type": "execute_result"
    }
   ],
   "source": [
    "Random.seed!(1)\n",
    "V, W, obj, niter = nnmf(X, r; V, W)"
   ]
  },
  {
   "cell_type": "code",
   "execution_count": 13,
   "metadata": {},
   "outputs": [
    {
     "data": {
      "text/plain": [
       "(9.791393988680383, 2)"
      ]
     },
     "execution_count": 13,
     "metadata": {},
     "output_type": "execute_result"
    }
   ],
   "source": [
    "obj, niter"
   ]
  },
  {
   "cell_type": "markdown",
   "metadata": {},
   "source": [
    "### Q1.2 Data\n",
    "\n",
    "Database 1 from the [MIT Center for Biological and Computational Learning (CBCL)](http://cbcl.mit.edu) reduces to a matrix $\\mathbf{X}$ containing $m = 2,429$ gray-scale face images with $n = 19 \\times 19 = 361$ pixels per face. Each image (row) is scaled to have mean and standard deviation 0.25.  \n",
    "\n",
    "Read in the [`nnmf-2429-by-361-face.txt`](https://raw.githubusercontent.com/ucla-biostat-257/2022spring/master/hw/hw2/nnmf-2429-by-361-face.txt) file, e.g., using [`readdlm`](https://docs.julialang.org/en/v1/stdlib/DelimitedFiles/#Delimited-Files) function, and display a couple sample images, e.g., using the [Images.jl](https://juliaimages.org/stable/) package."
   ]
  },
  {
   "cell_type": "code",
   "execution_count": 21,
   "metadata": {},
   "outputs": [
    {
     "data": {
      "image/png": "[encoded data removed]",
      "text/plain": [
       "19×19 reinterpret(reshape, Gray{Float64}, ::Matrix{Float64}) with eltype Gray{Float64}:\n",
       " Gray{Float64}(0.14815)   …  Gray{Float64}(0.0)\n",
       " Gray{Float64}(0.018294)     Gray{Float64}(0.027569)\n",
       " Gray{Float64}(0.027569)     Gray{Float64}(0.0)\n",
       " Gray{Float64}(0.0)          Gray{Float64}(0.0090181)\n",
       " Gray{Float64}(0.083222)     Gray{Float64}(0.036844)\n",
       " Gray{Float64}(0.10177)   …  Gray{Float64}(0.064671)\n",
       " Gray{Float64}(0.38004)      Gray{Float64}(0.13887)\n",
       " Gray{Float64}(0.51917)      Gray{Float64}(0.30583)\n",
       " Gray{Float64}(0.43569)      Gray{Float64}(0.37076)\n",
       " Gray{Float64}(0.38004)      Gray{Float64}(0.37076)\n",
       " Gray{Float64}(0.29656)   …  Gray{Float64}(0.26873)\n",
       " Gray{Float64}(0.25946)      Gray{Float64}(0.28728)\n",
       " Gray{Float64}(0.31511)      Gray{Float64}(0.28728)\n",
       " Gray{Float64}(0.2038)       Gray{Float64}(0.19453)\n",
       " Gray{Float64}(0.083222)     Gray{Float64}(0.073946)\n",
       " Gray{Float64}(0.018294)  …  Gray{Float64}(0.0)\n",
       " Gray{Float64}(0.064671)     Gray{Float64}(0.0)\n",
       " Gray{Float64}(0.018294)     Gray{Float64}(0.0)\n",
       " Gray{Float64}(0.0)          Gray{Float64}(0.0)"
      ]
     },
     "execution_count": 21,
     "metadata": {},
     "output_type": "execute_result"
    }
   ],
   "source": [
    "X = readdlm(\"nnmf-2429-by-361-face.txt\")\n",
    "colorview(Gray, reshape(X[1, :], 19, 19))"
   ]
  },
  {
   "cell_type": "code",
   "execution_count": 5,
   "metadata": {},
   "outputs": [
    {
     "data": {
      "image/png": "[encoded data removed]",
      "text/plain": [
       "19×19 reinterpret(reshape, Gray{Float64}, ::Matrix{Float64}) with eltype Gray{Float64}:\n",
       " Gray{Float64}(0.0082034)  …  Gray{Float64}(0.18099)\n",
       " Gray{Float64}(0.0)           Gray{Float64}(0.018367)\n",
       " Gray{Float64}(0.16066)       Gray{Float64}(0.0)\n",
       " Gray{Float64}(0.0)           Gray{Float64}(0.0)\n",
       " Gray{Float64}(0.059024)      Gray{Float64}(0.0)\n",
       " Gray{Float64}(0.069188)   …  Gray{Float64}(0.0)\n",
       " Gray{Float64}(0.2928)        Gray{Float64}(0.0082034)\n",
       " Gray{Float64}(0.47575)       Gray{Float64}(0.12001)\n",
       " Gray{Float64}(0.36394)       Gray{Float64}(0.17083)\n",
       " Gray{Float64}(0.35378)       Gray{Float64}(0.27247)\n",
       " Gray{Float64}(0.39444)    …  Gray{Float64}(0.31312)\n",
       " Gray{Float64}(0.2928)        Gray{Float64}(0.32329)\n",
       " Gray{Float64}(0.22165)       Gray{Float64}(0.27247)\n",
       " Gray{Float64}(0.21148)       Gray{Float64}(0.22165)\n",
       " Gray{Float64}(0.25214)       Gray{Float64}(0.22165)\n",
       " Gray{Float64}(0.23181)    …  Gray{Float64}(0.17083)\n",
       " Gray{Float64}(0.20132)       Gray{Float64}(0.089516)\n",
       " Gray{Float64}(0.17083)       Gray{Float64}(0.059024)\n",
       " Gray{Float64}(0.19116)       Gray{Float64}(0.0)"
      ]
     },
     "execution_count": 5,
     "metadata": {},
     "output_type": "execute_result"
    }
   ],
   "source": [
    "colorview(Gray, reshape(X[5, :], 19, 19))"
   ]
  },
  {
   "cell_type": "code",
   "execution_count": 17,
   "metadata": {},
   "outputs": [
    {
     "data": {
      "image/png": "[encoded data removed]",
      "text/plain": [
       "19×19 reinterpret(reshape, Gray{Float64}, ::Matrix{Float64}) with eltype Gray{Float64}:\n",
       " Gray{Float64}(0.10274)   Gray{Float64}(0.11821)   …  Gray{Float64}(0.14916)\n",
       " Gray{Float64}(0.11821)   Gray{Float64}(0.19557)      Gray{Float64}(0.31934)\n",
       " Gray{Float64}(0.056327)  Gray{Float64}(0.071798)     Gray{Float64}(0.095006)\n",
       " Gray{Float64}(0.048591)  Gray{Float64}(0.0)          Gray{Float64}(0.08727)\n",
       " Gray{Float64}(0.079534)  Gray{Float64}(0.03312)      Gray{Float64}(0.18784)\n",
       " Gray{Float64}(0.13368)   Gray{Float64}(0.056327)  …  Gray{Float64}(0.2884)\n",
       " Gray{Float64}(0.16463)   Gray{Float64}(0.14142)      Gray{Float64}(0.32708)\n",
       " Gray{Float64}(0.15689)   Gray{Float64}(0.14916)      Gray{Float64}(0.34255)\n",
       " Gray{Float64}(0.30387)   Gray{Float64}(0.16463)      Gray{Float64}(0.53595)\n",
       " Gray{Float64}(0.34255)   Gray{Float64}(0.41217)      Gray{Float64}(0.48179)\n",
       " Gray{Float64}(0.35802)   Gray{Float64}(0.34255)   …  Gray{Float64}(0.35802)\n",
       " Gray{Float64}(0.36576)   Gray{Float64}(0.24199)      Gray{Float64}(0.31934)\n",
       " Gray{Float64}(0.1801)    Gray{Float64}(0.19557)      Gray{Float64}(0.2884)\n",
       " Gray{Float64}(0.36576)   Gray{Float64}(0.18784)      Gray{Float64}(0.28066)\n",
       " Gray{Float64}(0.81443)   Gray{Float64}(0.16463)      Gray{Float64}(0.25746)\n",
       " Gray{Float64}(1.0)       Gray{Float64}(0.14916)   …  Gray{Float64}(0.21878)\n",
       " Gray{Float64}(1.0)       Gray{Float64}(0.48953)      Gray{Float64}(0.18784)\n",
       " Gray{Float64}(1.0)       Gray{Float64}(1.0)          Gray{Float64}(0.14916)\n",
       " Gray{Float64}(1.0)       Gray{Float64}(1.0)          Gray{Float64}(0.14916)"
      ]
     },
     "execution_count": 17,
     "metadata": {},
     "output_type": "execute_result"
    }
   ],
   "source": [
    "colorview(Gray, reshape(X[20, :], 19, 19))"
   ]
  },
  {
   "cell_type": "markdown",
   "metadata": {},
   "source": [
    "### Q1.3 Correctness and efficiency\n",
    "\n",
    "Report the run times, using `@time`, of your function for fitting NNMF on the MIT CBCL face data set at ranks $r=10, 20, 30, 40, 50$. For ease of comparison (and grading), please start your algorithm with the provided $\\mathbf{V}^{(0)}$ (first $r$ columns of [`V0.txt`](https://raw.githubusercontent.com/ucla-biostat-257/2022spring/master/hw/hw2/V0.txt)) and $\\mathbf{W}^{(0)}$ (first $r$ rows of [`W0.txt`](https://raw.githubusercontent.com/ucla-biostat-257/2022spring/master/hw/hw2/W0.txt)) and stopping criterion\n",
    "$$\n",
    "\\frac{|L^{(t+1)} - L^{(t)}|}{|L^{(t)}| + 1} \\le 10^{-4}.\n",
    "$$\n",
    "\n",
    "**Hint**: When I run the following code using my own implementation of `nnmf`\n",
    "```julia\n",
    "for r in [10, 20, 30, 40, 50]\n",
    "    println(\"r=$r\")\n",
    "    V0 = V0full[:, 1:r]\n",
    "    W0 = W0full[1:r, :]\n",
    "    @time V, W, obj, niter = nnmf(X, r; V = V0, W = W0)\n",
    "    println(\"obj=$obj, niter=$niter\")\n",
    "end\n",
    "```\n",
    "the output is\n",
    "```\n",
    "r=10\n",
    "  1.047598 seconds (20 allocations: 6.904 MiB)\n",
    "obj=11730.38800985483, niter=239\n",
    "r=20\n",
    "  1.913147 seconds (20 allocations: 7.120 MiB)\n",
    "obj=8497.222317850326, niter=394\n",
    "r=30\n",
    "  2.434662 seconds (20 allocations: 7.336 MiB)\n",
    "obj=6621.627345486279, niter=482\n",
    "r=40\n",
    "  3.424469 seconds (22 allocations: 7.554 MiB)\n",
    "obj=5256.663870563529, niter=581\n",
    "r=50\n",
    "  4.480342 seconds (23 allocations: 7.774 MiB)\n",
    "obj=4430.201581697291, niter=698\n",
    "```\n",
    "Since my laptop is about 6-7 years old, I expect to see your run time shorter than mine. Your memory allocation should be less or equal to mine."
   ]
  },
  {
   "cell_type": "code",
   "execution_count": 22,
   "metadata": {},
   "outputs": [
    {
     "data": {
      "text/plain": [
       "50×361 Matrix{Float64}:\n",
       " 0.5634    0.32048   0.067202   0.25107   …  0.4476     0.12656   0.13688\n",
       " 0.71473   0.25423   0.084735   0.84327      0.20947    0.32729   0.43787\n",
       " 0.046351  0.041688  0.79152    0.8962       0.6786     0.17112   0.83691\n",
       " 0.76991   0.13366   0.0061026  0.70588      0.4457     0.012722  0.64244\n",
       " 0.56335   0.35408   0.62697    0.94923      0.073816   0.62934   0.58596\n",
       " 0.13659   0.82449   0.17183    0.051802  …  0.87725    0.86247   0.45418\n",
       " 0.2326    0.92296   0.73855    0.35246      0.015108   0.68424   0.15457\n",
       " 0.95628   0.97221   0.94922    0.59106      0.49038    0.52232   0.4399\n",
       " 0.82876   0.33257   0.95808    0.11028      0.66812    0.69979   0.57679\n",
       " 0.33585   0.59454   0.75948    0.26544      0.34689    0.071471  0.020196\n",
       " 0.87571   0.83349   0.83207    0.57283   …  0.34609    0.22545   0.2295\n",
       " 0.27631   0.10171   0.4809     0.10614      0.0039955  0.92647   0.27393\n",
       " 0.914     0.45783   0.32193    0.65607      0.1204     0.29447   0.88988\n",
       " ⋮                                        ⋱                       ⋮\n",
       " 0.30883   0.41147   0.64075    0.87004      0.20019    0.55648   0.7459\n",
       " 0.97866   0.74029   0.037366   0.97796      0.55272    0.3288    0.837\n",
       " 0.71393   0.78077   0.051596   0.25867   …  0.95825    0.89787   0.21096\n",
       " 0.35293   0.41894   0.0063373  0.43144      0.14756    0.93285   0.59017\n",
       " 0.46036   0.61322   0.91126    0.76635      0.67864    0.16147   0.93417\n",
       " 0.036917  0.4889    0.2838     0.03403      0.027589   0.79055   0.31241\n",
       " 0.74309   0.12138   0.82587    0.84609      0.52128    0.908     0.6062\n",
       " 0.74466   0.46317   0.38367    0.97784   …  0.78373    0.4644    0.54906\n",
       " 0.57612   0.81248   0.14814    0.65148      0.78202    0.26502   0.34613\n",
       " 0.65722   0.28434   0.78214    0.62961      0.054762   0.14826   0.23983\n",
       " 0.5275    0.15481   0.50847    0.26226      0.1513     0.048605  0.052235\n",
       " 0.027423  0.80658   0.33708    0.54062      0.887      0.15571   0.76327"
      ]
     },
     "execution_count": 22,
     "metadata": {},
     "output_type": "execute_result"
    }
   ],
   "source": [
    "V0full = readdlm(\"V0.txt\")\n",
    "W0full = readdlm(\"W0.txt\")"
   ]
  },
  {
   "cell_type": "code",
   "execution_count": 40,
   "metadata": {},
   "outputs": [
    {
     "data": {
      "text/plain": [
       "2429"
      ]
     },
     "execution_count": 40,
     "metadata": {},
     "output_type": "execute_result"
    }
   ],
   "source": [
    "r = 10\n",
    "V = V0full[:, 1:r]\n",
    "W = W0full[1:r, :]\n",
    "n = size(W, 2)\n",
    "m = size(V, 1)"
   ]
  },
  {
   "cell_type": "code",
   "execution_count": 41,
   "metadata": {},
   "outputs": [
    {
     "data": {
      "text/plain": [
       "2429×10 Matrix{Float64}:\n",
       " 0.28138  0.092894  0.03833  0.61645   …  0.41882   0.21834   0.27745\n",
       " 0.22116  0.5269    0.17338  0.91634      0.50682   0.09767   0.62112\n",
       " 0.21217  0.40393   0.43383  0.42759      0.71502   0.70953   0.28816\n",
       " 0.85133  0.8909    0.85524  0.65623      0.004315  0.75878   0.45152\n",
       " 0.94742  0.73652   0.82327  0.93471      0.10895   0.7873    0.43352\n",
       " 0.13842  0.6175    0.95255  0.40231   …  0.26033   0.63167   0.90954\n",
       " 0.19332  0.80519   0.74441  0.44307      0.084916  0.51605   0.92196\n",
       " 0.71705  0.096563  0.80069  0.83022      0.63368   0.92069   0.463\n",
       " 0.37796  0.15086   0.13506  0.90039      0.60967   0.47227   0.41264\n",
       " 0.8213   0.31108   0.35736  0.80924      0.19757   0.86491   0.42714\n",
       " 0.48893  0.52764   0.76057  0.13266   …  0.63828   0.35092   0.35162\n",
       " 0.84816  0.055877  0.45636  0.74745      0.488     0.83899   0.79233\n",
       " 0.57526  0.49198   0.63835  0.14293      0.9999    0.80012   0.33892\n",
       " ⋮                                     ⋱                      \n",
       " 0.39057  0.37343   0.14912  0.35105      0.82257   0.036663  0.92941\n",
       " 0.9929   0.47036   0.37099  0.53847      0.62453   0.075254  0.23847\n",
       " 0.22986  0.96246   0.75247  0.15248      0.016882  0.024488  0.99087\n",
       " 0.48284  0.16102   0.62553  0.47702   …  0.76101   0.76387   0.31116\n",
       " 0.59937  0.96771   0.2968   0.32722      0.67042   0.32719   0.98662\n",
       " 0.40212  0.57323   0.5324   0.47682      0.59984   0.39798   0.84475\n",
       " 0.19805  0.93897   0.146    0.70844      0.86817   0.81821   0.85859\n",
       " 0.61665  0.55298   0.78985  0.032495     0.68952   0.68106   0.47224\n",
       " 0.98889  0.15298   0.25012  0.69604   …  0.83689   0.56825   0.46943\n",
       " 0.50757  0.11856   0.43825  0.46911      0.45513   0.7653    0.47749\n",
       " 0.98163  0.75457   0.55252  0.85154      0.58575   0.14559   0.30008\n",
       " 0.98855  0.92949   0.37322  0.14506      0.2529    0.78214   0.46561"
      ]
     },
     "execution_count": 41,
     "metadata": {},
     "output_type": "execute_result"
    }
   ],
   "source": [
    "V"
   ]
  },
  {
   "cell_type": "code",
   "execution_count": 34,
   "metadata": {},
   "outputs": [
    {
     "data": {
      "text/plain": [
       "4.898772038789471e6"
      ]
     },
     "execution_count": 34,
     "metadata": {},
     "output_type": "execute_result"
    }
   ],
   "source": [
    "xsize = size(X)\n",
    "a = zeros(xsize)\n",
    "a .= X .- mul!(a, V, W)\n",
    "obj = abs2(norm(a, 2))"
   ]
  },
  {
   "cell_type": "code",
   "execution_count": 29,
   "metadata": {},
   "outputs": [
    {
     "data": {
      "text/plain": [
       "5-element Vector{Float64}:\n",
       " 0.0\n",
       " 0.0\n",
       " 0.0\n",
       " 0.0\n",
       " 0.0"
      ]
     },
     "execution_count": 29,
     "metadata": {},
     "output_type": "execute_result"
    }
   ],
   "source": [
    "obj = zeros(5)"
   ]
  },
  {
   "cell_type": "code",
   "execution_count": 43,
   "metadata": {},
   "outputs": [
    {
     "ename": "LoadError",
     "evalue": "UndefVarError: b_ij not defined",
     "output_type": "error",
     "traceback": [
      "UndefVarError: b_ij not defined",
      "",
      "Stacktrace:",
      " [1] top-level scope",
      "   @ :0",
      " [2] eval",
      "   @ ./boot.jl:373 [inlined]",
      " [3] include_string(mapexpr::typeof(REPL.softscope), mod::Module, code::String, filename::String)",
      "   @ Base ./loading.jl:1196"
     ]
    }
   ],
   "source": [
    "    # update V\n",
    "for j = 1:n, k = 1:r, i = 1:m\n",
    "    b_ij = dot(V[i, k], W[k, j])\n",
    "    #V[i, k] = V[i, k] * (sum(X[i, j] * W[k, j]))/(sum(b_ij * W[k, j]))\n",
    "end\n",
    "b_ij"
   ]
  },
  {
   "cell_type": "code",
   "execution_count": null,
   "metadata": {},
   "outputs": [],
   "source": [
    "nnmf(X, r; V = V0, W = W0)"
   ]
  },
  {
   "cell_type": "code",
   "execution_count": null,
   "metadata": {},
   "outputs": [],
   "source": [
    "for r in [10]\n",
    "    println(\"r=$r\")\n",
    "    V0 = V0full[:, 1:r]\n",
    "    W0 = W0full[1:r, :]\n",
    "    @time V, W, obj, niter = nnmf(X, r; V = V0, W = W0)\n",
    "    println(\"obj=$obj, niter=$niter\")\n",
    "end"
   ]
  },
  {
   "cell_type": "markdown",
   "metadata": {},
   "source": [
    "### Q1.4 Non-uniqueness\n",
    "\n",
    "Choose an $r \\in \\{10, 20, 30, 40, 50\\}$ and start your algorithm from a different $\\mathbf{V}^{(0)}$ and $\\mathbf{W}^{(0)}$. Do you obtain the same objective value and $(\\mathbf{V}, \\mathbf{W})$? Explain what you find."
   ]
  },
  {
   "cell_type": "markdown",
   "metadata": {},
   "source": [
    "### Q1.5 Fixed point\n",
    "\n",
    "For the same $r$, start your algorithm from $v_{ik}^{(0)} = w_{kj}^{(0)} = 1$ for all $i,j,k$. Do you obtain the same objective value and $(\\mathbf{V}, \\mathbf{W})$? Explain what you find."
   ]
  },
  {
   "cell_type": "markdown",
   "metadata": {},
   "source": [
    "### Q1.6 Interpret NNMF result\n",
    "\n",
    "Plot the basis images (rows of $\\mathbf{W}$) at rank $r=50$. What do you find?"
   ]
  },
  {
   "cell_type": "markdown",
   "metadata": {},
   "source": [
    "### Q1.7 GPU (optional)\n",
    "\n",
    "Investigate the GPU capabilities of Julia. Report the speed gain of your GPU code over CPU code at ranks $r=10, 20, 30, 40, 50$. Make sure to use the same starting point as in Q1.3."
   ]
  },
  {
   "cell_type": "markdown",
   "metadata": {},
   "source": [
    "## Q2. Estimating Kinship Matrix\n",
    "\n",
    "Consider the numerical task of estimating an $n \\times n$ kinship matrix $\\Phi$ from an $n \\times m$ genotype matrix $\\mathbf{G}$. Here $n$ is the number of individuals and $m$ is the number of genetic markers. [Lange et al](https://www.ncbi.nlm.nih.gov/pmc/articles/PMC6763373/) derived a method of moment estimator of form\n",
    "$$\n",
    "    \\widehat \\Phi_{ij} = \\frac{e_{ij} - \\sum_{k=1}^m [p_k^2 + (1 - p_k)^2]}{m - \\sum_{k=1}^m [p_k^2 + (1 - p_k)^2]}, \\quad 1 \\le i, j \\le n,\n",
    "$$\n",
    "where\n",
    "$$\n",
    "\\begin{eqnarray*}\n",
    "    e_{ij} &=& \\frac{1}{4} \\sum_{k=1}^m [g_{ik} g_{jk} + (2 - g_{ik})(2 - g_{jk})] \\\\\n",
    "    p_k &=& \\frac {1}{2n} \\sum_{i=1}^n g_{ik}.\n",
    "\\end{eqnarray*}\n",
    "$$"
   ]
  },
  {
   "cell_type": "markdown",
   "metadata": {},
   "source": [
    "### Q2.1 Develop code\n",
    "\n",
    "Write a function that takes a matrix `G` as input and outputs the method of moment estimator. \n",
    "Make your function as efficient (both speed and memory) as possible.    "
   ]
  },
  {
   "cell_type": "code",
   "execution_count": null,
   "metadata": {},
   "outputs": [],
   "source": [
    "function kinship(G::Matrix{T}) where T <: AbstractFloat\n",
    "    n, m = size(G)\n",
    "    # TODO: your code here\n",
    "    Φ = zeros(n, m)\n",
    "    # output\n",
    "    Φ\n",
    "end"
   ]
  },
  {
   "cell_type": "markdown",
   "metadata": {},
   "source": [
    "### Q2.2 Correctness\n",
    "\n",
    "First let's make sure our function yields correct answer. Run your function on a fake genotype matrix"
   ]
  },
  {
   "cell_type": "code",
   "execution_count": null,
   "metadata": {},
   "outputs": [],
   "source": [
    "# generate a fake genotype matrix with entries {0, 1, 2}\n",
    "Random.seed!(257)\n",
    "G = rand(0.0:2.0, 1000, 10000)\n",
    "Φ = kinship(G)"
   ]
  },
  {
   "cell_type": "markdown",
   "metadata": {},
   "source": [
    "Compare the upper left $5 \\times 5$ block to what I got using my implementation\n",
    "\n",
    "```julia\n",
    "Φ[1:5, 1:5]\n",
    "```\n",
    "\n",
    "```\n",
    "5×5 Matrix{Float64}:\n",
    "  0.673584     -0.000762864  -0.00266412   0.00343992   0.00293959\n",
    " -0.000762864   0.665178     -0.0101691   -0.0110697    0.00223912\n",
    " -0.00266412   -0.0101691     0.665078     0.0102444    0.00253932\n",
    "  0.00343992   -0.0110697     0.0102444    0.66768     -0.0083679\n",
    "  0.00293959    0.00223912    0.00253932  -0.0083679    0.663777\n",
    "```"
   ]
  },
  {
   "cell_type": "markdown",
   "metadata": {},
   "source": [
    "### Q2.3 Efficiency\n",
    "\n",
    "In a typical genetic data set, $n$ is at order of $10^3 \\sim 10^6$ and $m$ is at order of $10^6 \\sim 10^7$. Benchmark your function using the smaller data set $G$ generated in Q2.2. Efficiency (both speed and memory) will be the most important criterion when grading this question."
   ]
  },
  {
   "cell_type": "code",
   "execution_count": null,
   "metadata": {},
   "outputs": [],
   "source": [
    "# benchmark\n",
    "@btime kinship($G)"
   ]
  },
  {
   "cell_type": "markdown",
   "metadata": {},
   "source": [
    "**Hint**: I got `@btime` output\n",
    "```\n",
    "82.144 ms (3 allocations: 7.64 MiB)\n",
    "```"
   ]
  }
 ],
 "metadata": {
  "@webio": {
   "lastCommId": null,
   "lastKernelId": null
  },
  "kernelspec": {
   "display_name": "Julia 1.7.2",
   "language": "julia",
   "name": "julia-1.7"
  },
  "language_info": {
   "file_extension": ".jl",
   "mimetype": "application/julia",
   "name": "julia",
   "version": "1.7.2"
  },
  "toc": {
   "colors": {
    "hover_highlight": "#DAA520",
    "running_highlight": "#FF0000",
    "selected_highlight": "#FFD700"
   },
   "moveMenuLeft": true,
   "nav_menu": {
    "height": "87px",
    "width": "252px"
   },
   "navigate_menu": true,
   "number_sections": true,
   "sideBar": true,
   "skip_h1_title": true,
   "threshold": 4,
   "toc_cell": false,
   "toc_section_display": "block",
   "toc_window_display": false,
   "widenNotebook": false
  }
 },
 "nbformat": 4,
 "nbformat_minor": 4
}
