{
 "cells": [
  {
   "cell_type": "markdown",
   "metadata": {},
   "source": [
    "# Biostat 257 Homework 1\n",
    "\n",
    "#### Due Apr 15 @ 11:59PM\n",
    "\n",
    "#### Ami Sheth"
   ]
  },
  {
   "cell_type": "markdown",
   "metadata": {},
   "source": [
    "## Q1\n",
    "\n",
    "**No handwritten homework reports are accepted for this course.**  We work with Git/GitHub.  Efficient and abundant use of Git, e.g., **frequent and well-documented** commits, is an important criterion for grading your homework.\n",
    "\n",
    "1. If you don't have a GitHub account, apply for the [Student Developer Pack](https://education.github.com/pack) at GitHub using your UCLA email.\n",
    "\n",
    "2. Create a **private** repository `biostat-257-2022-spring` and add `Hua-Zhou` and `maschepps` (TA) as your collaborators.\n",
    "\n",
    "3. Top directories of the repository should be `hw1`, `hw2`, ... You may create other branches for developing your homework solutions; but the `master` branch will be your presentation area. Put your homework submission files (Jupyter notebook `.ipynb`, html converted from notebook, all code and data set to reproduce results) in the `master` branch. \n",
    "\n",
    "4. After each homework due date, teaching assistant and instructor will check out your `master` branch for grading. Tag each of your homework submissions with tag names `hw1`, `hw2`, ...  Tagging time will be used as your submission time. That means if you tag your hw1 submission after deadline, penalty points will be deducted for late submission.  \n",
    "\n",
    "5. Read the [style guide](https://github.com/johnmyleswhite/Style.jl) for Julia programming. Following rules in the style guide will be strictly enforced when grading: (4) four space indenting rule, (6) 80 charcter rule, (7) space after comma rule, (8) no space before comma rule, (9) space around operator rule."
   ]
  },
  {
   "cell_type": "markdown",
   "metadata": {
    "tags": []
   },
   "source": [
    "## Q2\n",
    "\n",
    "Let's check whether floating-point numbers obey certain algebraic rules. For 2-5, one counter-example suffices.\n",
    "\n",
    "1. Associative rule for addition says `(x + y) + z == x + (y + z)`. Check association rule using `x = 0.1`, `y = 0.1` and `z = 1.0` in Julia. Explain what you find.\n",
    "\n",
    "2. Do floating-point numbers obey the associative rule for multiplication: `(x * y) * z == x * (y * z)`?\n",
    "\n",
    "3. Do floating-point numbers obey the distributive rule: `a * (x + y) == a * x + a * y`?  \n",
    "\n",
    "4. Is `0 * x == 0` true for all floating-point number `x`? \n",
    "\n",
    "5. Is `x / a == x * (1 / a)` always true?"
   ]
  },
  {
   "cell_type": "markdown",
   "metadata": {},
   "source": [
    "#### Solution Q2.1"
   ]
  },
  {
   "cell_type": "code",
   "execution_count": 97,
   "metadata": {},
   "outputs": [
    {
     "data": {
      "text/plain": [
       "1.0"
      ]
     },
     "execution_count": 97,
     "metadata": {},
     "output_type": "execute_result"
    }
   ],
   "source": [
    "x = 0.1\n",
    "y = 0.1\n",
    "z = 1.0"
   ]
  },
  {
   "cell_type": "code",
   "execution_count": 98,
   "metadata": {},
   "outputs": [
    {
     "data": {
      "text/plain": [
       "1.2"
      ]
     },
     "execution_count": 98,
     "metadata": {},
     "output_type": "execute_result"
    }
   ],
   "source": [
    "(x + y) + z"
   ]
  },
  {
   "cell_type": "code",
   "execution_count": 99,
   "metadata": {},
   "outputs": [
    {
     "data": {
      "text/plain": [
       "1.2000000000000002"
      ]
     },
     "execution_count": 99,
     "metadata": {},
     "output_type": "execute_result"
    }
   ],
   "source": [
    "x + (y + z) "
   ]
  },
  {
   "cell_type": "code",
   "execution_count": 100,
   "metadata": {},
   "outputs": [
    {
     "data": {
      "text/plain": [
       "false"
      ]
     },
     "execution_count": 100,
     "metadata": {},
     "output_type": "execute_result"
    }
   ],
   "source": [
    "(x + y) + z == x + (y + z)"
   ]
  },
  {
   "cell_type": "markdown",
   "metadata": {},
   "source": [
    "No, the associative rule does not hold for floating-point numbers because 0.1 cannot be defined in a finite way with the binary system."
   ]
  },
  {
   "cell_type": "markdown",
   "metadata": {},
   "source": [
    "#### Solution to Q2.2"
   ]
  },
  {
   "cell_type": "code",
   "execution_count": 101,
   "metadata": {},
   "outputs": [
    {
     "data": {
      "text/plain": [
       "0.2"
      ]
     },
     "execution_count": 101,
     "metadata": {},
     "output_type": "execute_result"
    }
   ],
   "source": [
    "x = 1.2\n",
    "y = 0.1\n",
    "z = 0.2"
   ]
  },
  {
   "cell_type": "code",
   "execution_count": 102,
   "metadata": {},
   "outputs": [
    {
     "data": {
      "text/plain": [
       "0.024"
      ]
     },
     "execution_count": 102,
     "metadata": {},
     "output_type": "execute_result"
    }
   ],
   "source": [
    "(x * y) * z"
   ]
  },
  {
   "cell_type": "code",
   "execution_count": 103,
   "metadata": {},
   "outputs": [
    {
     "data": {
      "text/plain": [
       "0.024000000000000004"
      ]
     },
     "execution_count": 103,
     "metadata": {},
     "output_type": "execute_result"
    }
   ],
   "source": [
    "x * (y * z)"
   ]
  },
  {
   "cell_type": "code",
   "execution_count": 104,
   "metadata": {},
   "outputs": [
    {
     "data": {
      "text/plain": [
       "false"
      ]
     },
     "execution_count": 104,
     "metadata": {},
     "output_type": "execute_result"
    }
   ],
   "source": [
    "(x * y) * z == x * (y * z)"
   ]
  },
  {
   "cell_type": "markdown",
   "metadata": {},
   "source": [
    "From the counter-example above, we see that floating-point numbers do not always obey the associative rule for multiplication."
   ]
  },
  {
   "cell_type": "markdown",
   "metadata": {},
   "source": [
    "#### Solution to Q2.3"
   ]
  },
  {
   "cell_type": "code",
   "execution_count": 109,
   "metadata": {},
   "outputs": [
    {
     "data": {
      "text/plain": [
       "0.2"
      ]
     },
     "execution_count": 109,
     "metadata": {},
     "output_type": "execute_result"
    }
   ],
   "source": [
    "x = 1.2\n",
    "y = 0.1\n",
    "a = 0.2"
   ]
  },
  {
   "cell_type": "code",
   "execution_count": 110,
   "metadata": {},
   "outputs": [
    {
     "data": {
      "text/plain": [
       "true"
      ]
     },
     "execution_count": 110,
     "metadata": {},
     "output_type": "execute_result"
    }
   ],
   "source": [
    "a * (x + y) == a * x + a * y"
   ]
  },
  {
   "cell_type": "markdown",
   "metadata": {},
   "source": [
    "From the counter-example above, we see that floating-point numbers do not always obey the distributive rule."
   ]
  },
  {
   "cell_type": "markdown",
   "metadata": {},
   "source": [
    "#### Solution to Q2.4"
   ]
  },
  {
   "cell_type": "code",
   "execution_count": 117,
   "metadata": {},
   "outputs": [
    {
     "data": {
      "text/plain": [
       "1.2"
      ]
     },
     "execution_count": 117,
     "metadata": {},
     "output_type": "execute_result"
    }
   ],
   "source": [
    "x = 1.2"
   ]
  },
  {
   "cell_type": "code",
   "execution_count": 118,
   "metadata": {},
   "outputs": [
    {
     "data": {
      "text/plain": [
       "true"
      ]
     },
     "execution_count": 118,
     "metadata": {},
     "output_type": "execute_result"
    }
   ],
   "source": [
    "0 * x == 0"
   ]
  },
  {
   "cell_type": "markdown",
   "metadata": {},
   "source": [
    "From the counter-example above, we see that `0 * x == 0` is not true for all floating-point number `x`."
   ]
  },
  {
   "cell_type": "markdown",
   "metadata": {},
   "source": [
    "#### Solution to Q2.5"
   ]
  },
  {
   "cell_type": "code",
   "execution_count": 105,
   "metadata": {},
   "outputs": [
    {
     "data": {
      "text/plain": [
       "1.2"
      ]
     },
     "execution_count": 105,
     "metadata": {},
     "output_type": "execute_result"
    }
   ],
   "source": [
    "a = 0.1\n",
    "x = 1.2"
   ]
  },
  {
   "cell_type": "code",
   "execution_count": 106,
   "metadata": {},
   "outputs": [
    {
     "data": {
      "text/plain": [
       "11.999999999999998"
      ]
     },
     "execution_count": 106,
     "metadata": {},
     "output_type": "execute_result"
    }
   ],
   "source": [
    "x / a"
   ]
  },
  {
   "cell_type": "code",
   "execution_count": 107,
   "metadata": {},
   "outputs": [
    {
     "data": {
      "text/plain": [
       "12.0"
      ]
     },
     "execution_count": 107,
     "metadata": {},
     "output_type": "execute_result"
    }
   ],
   "source": [
    "x * (1 / a)"
   ]
  },
  {
   "cell_type": "code",
   "execution_count": 108,
   "metadata": {},
   "outputs": [
    {
     "data": {
      "text/plain": [
       "false"
      ]
     },
     "execution_count": 108,
     "metadata": {},
     "output_type": "execute_result"
    }
   ],
   "source": [
    "x / a == x * (1 / a)"
   ]
  },
  {
   "cell_type": "markdown",
   "metadata": {},
   "source": [
    "From the counter-example above, we see that `x / a == x * (1 / a)` is not always true."
   ]
  },
  {
   "cell_type": "markdown",
   "metadata": {},
   "source": [
    "## Q3\n",
    "\n",
    "Consider Julia function\n",
    "```julia\n",
    "function g(k)\n",
    "    for i in 1:10\n",
    "        k = 5k - 1\n",
    "    end\n",
    "    k\n",
    "end\n",
    "```\n",
    "1. Use `@code_llvm` to find the LLVM bitcode of compiled `g` with `Int64` input.   \n",
    "2. Use `@code_llvm` to find the LLVM bitcode of compiled `g` with `Float64` input.  \n",
    "3. Compare the bitcode from questions 1 and 2. What do you find?  \n",
    "4. Read Julia documentation on `@fastmath` and repeat the questions 1-3 on the function  \n",
    "\n",
    "```julia\n",
    "function g_fastmath(k)  \n",
    "    @fastmath for i in 1:10  \n",
    "        k = 5k - 1\n",
    "    end\n",
    "    k\n",
    "end\n",
    "```\n",
    "    Explain what does macro `@fastmath` do?"
   ]
  },
  {
   "cell_type": "code",
   "execution_count": null,
   "metadata": {},
   "outputs": [],
   "source": []
  },
  {
   "cell_type": "markdown",
   "metadata": {},
   "source": [
    "## Q4\n",
    "\n",
    "Create the vector `x = (0.988, 0.989, 0.990, ..., 1.010, 1.011, 1.012)`.   \n",
    "\n",
    "1. Plot the polynomial `y = x^7 - 7x^6 + 21x^5 - 35x^4 + 35x^3 - 21x^2 + 7x - 1` at points `x`.  \n",
    "\n",
    "2. Plot the polynomial `y = (x - 1)^7` at points `x`.  \n",
    "\n",
    "3. Explain what you found."
   ]
  },
  {
   "cell_type": "markdown",
   "metadata": {},
   "source": [
    "#### Solution to Q4"
   ]
  },
  {
   "cell_type": "code",
   "execution_count": 8,
   "metadata": {},
   "outputs": [
    {
     "data": {
      "text/plain": [
       "25-element Vector{Float64}:\n",
       " 0.988\n",
       " 0.989\n",
       " 0.99\n",
       " 0.991\n",
       " 0.992\n",
       " 0.993\n",
       " 0.994\n",
       " 0.995\n",
       " 0.996\n",
       " 0.997\n",
       " 0.998\n",
       " 0.999\n",
       " 1.0\n",
       " 1.001\n",
       " 1.002\n",
       " 1.003\n",
       " 1.004\n",
       " 1.005\n",
       " 1.006\n",
       " 1.007\n",
       " 1.008\n",
       " 1.009\n",
       " 1.01\n",
       " 1.011\n",
       " 1.012"
      ]
     },
     "execution_count": 8,
     "metadata": {},
     "output_type": "execute_result"
    }
   ],
   "source": [
    "x = collect(0.988:0.001:1.012)"
   ]
  },
  {
   "cell_type": "code",
   "execution_count": 13,
   "metadata": {},
   "outputs": [
    {
     "ename": "LoadError",
     "evalue": "syntax: extra token \"\"\" after end of expression",
     "output_type": "error",
     "traceback": [
      "syntax: extra token \"\"\" after end of expression",
      "",
      "Stacktrace:",
      " [1] top-level scope",
      "   @ In[13]:1",
      " [2] eval",
      "   @ ./boot.jl:373 [inlined]",
      " [3] include_string(mapexpr::typeof(REPL.softscope), mod::Module, code::String, filename::String)",
      "   @ Base ./loading.jl:1196"
     ]
    }
   ],
   "source": []
  },
  {
   "cell_type": "code",
   "execution_count": 4,
   "metadata": {},
   "outputs": [],
   "source": [
    "using Plots"
   ]
  },
  {
   "cell_type": "code",
   "execution_count": 5,
   "metadata": {},
   "outputs": [
    {
     "name": "stdout",
     "output_type": "stream",
     "text": [
      "Collecting package metadata (current_repodata.json): ...working... done\n",
      "Solving environment: ...working... done\n",
      "\n",
      "## Package Plan ##\n",
      "\n",
      "  environment location: /Users/amisheth/.julia/conda/3\n",
      "\n",
      "  added / updated specs:\n",
      "    - matplotlib\n",
      "\n",
      "\n",
      "The following packages will be downloaded:\n",
      "\n",
      "    package                    |            build\n",
      "    ---------------------------|-----------------\n",
      "    brotli-1.0.9               |       h5eb16cf_7          18 KB  conda-forge\n",
      "    brotli-bin-1.0.9           |       h5eb16cf_7          17 KB  conda-forge\n",
      "    certifi-2021.10.8          |   py39h6e9494a_2         144 KB  conda-forge\n",
      "    cycler-0.11.0              |     pyhd8ed1ab_0          10 KB  conda-forge\n",
      "    fonttools-4.31.2           |   py39h63b48b0_1         1.6 MB  conda-forge\n",
      "    freetype-2.10.4            |       h4cff582_1         890 KB  conda-forge\n",
      "    giflib-5.2.1               |       hbcb3906_2          71 KB  conda-forge\n",
      "    jbig-2.1                   |    h0d85af4_2003          42 KB  conda-forge\n",
      "    jpeg-9e                    |       h0d85af4_0         252 KB  conda-forge\n",
      "    kiwisolver-1.4.2           |   py39h7248d28_1          62 KB  conda-forge\n",
      "    lcms2-2.12                 |       h577c468_0         404 KB  conda-forge\n",
      "    lerc-3.0                   |       he49afe7_0         170 KB  conda-forge\n",
      "    libbrotlicommon-1.0.9      |       h5eb16cf_7          63 KB  conda-forge\n",
      "    libbrotlidec-1.0.9         |       h5eb16cf_7          33 KB  conda-forge\n",
      "    libbrotlienc-1.0.9         |       h5eb16cf_7         320 KB  conda-forge\n",
      "    libdeflate-1.10            |       h0d85af4_0          78 KB  conda-forge\n",
      "    libpng-1.6.37              |       h7cec526_2         313 KB  conda-forge\n",
      "    libtiff-4.3.0              |       h17f2ce3_3         624 KB  conda-forge\n",
      "    libwebp-1.2.2              |       h28dabe5_0          79 KB  conda-forge\n",
      "    libwebp-base-1.2.2         |       h0d85af4_1         703 KB  conda-forge\n",
      "    libxcb-1.13                |    h0d85af4_1004         305 KB  conda-forge\n",
      "    lz4-c-1.9.3                |       he49afe7_1         155 KB  conda-forge\n",
      "    matplotlib-3.5.1           |   py39h6e9494a_0           6 KB  conda-forge\n",
      "    matplotlib-base-3.5.1      |   py39hb07454d_0         7.4 MB  conda-forge\n",
      "    munkres-1.1.4              |     pyh9f0ad1d_0          12 KB  conda-forge\n",
      "    openjpeg-2.4.0             |       h6e7aa92_1         374 KB  conda-forge\n",
      "    pillow-9.1.0               |   py39hd2c7aa1_0        45.0 MB  conda-forge\n",
      "    pthread-stubs-0.4          |    hc929b4f_1001           6 KB  conda-forge\n",
      "    unicodedata2-14.0.0        |   py39h63b48b0_1         485 KB  conda-forge\n",
      "    xorg-libxau-1.0.9          |       h35c211d_0          11 KB  conda-forge\n",
      "    xorg-libxdmcp-1.1.3        |       h35c211d_0          17 KB  conda-forge\n",
      "    zstd-1.5.2                 |       h582d3a0_0         450 KB  conda-forge\n",
      "    ------------------------------------------------------------\n",
      "                                           Total:        60.0 MB\n",
      "\n",
      "The following NEW packages will be INSTALLED:\n",
      "\n",
      "  brotli             conda-forge/osx-64::brotli-1.0.9-h5eb16cf_7\n",
      "  brotli-bin         conda-forge/osx-64::brotli-bin-1.0.9-h5eb16cf_7\n",
      "  cycler             conda-forge/noarch::cycler-0.11.0-pyhd8ed1ab_0\n",
      "  fonttools          conda-forge/osx-64::fonttools-4.31.2-py39h63b48b0_1\n",
      "  freetype           conda-forge/osx-64::freetype-2.10.4-h4cff582_1\n",
      "  giflib             conda-forge/osx-64::giflib-5.2.1-hbcb3906_2\n",
      "  jbig               conda-forge/osx-64::jbig-2.1-h0d85af4_2003\n",
      "  jpeg               conda-forge/osx-64::jpeg-9e-h0d85af4_0\n",
      "  kiwisolver         conda-forge/osx-64::kiwisolver-1.4.2-py39h7248d28_1\n",
      "  lcms2              conda-forge/osx-64::lcms2-2.12-h577c468_0\n",
      "  lerc               conda-forge/osx-64::lerc-3.0-he49afe7_0\n",
      "  libbrotlicommon    conda-forge/osx-64::libbrotlicommon-1.0.9-h5eb16cf_7\n",
      "  libbrotlidec       conda-forge/osx-64::libbrotlidec-1.0.9-h5eb16cf_7\n",
      "  libbrotlienc       conda-forge/osx-64::libbrotlienc-1.0.9-h5eb16cf_7\n",
      "  libdeflate         conda-forge/osx-64::libdeflate-1.10-h0d85af4_0\n",
      "  libpng             conda-forge/osx-64::libpng-1.6.37-h7cec526_2\n",
      "  libtiff            conda-forge/osx-64::libtiff-4.3.0-h17f2ce3_3\n",
      "  libwebp            conda-forge/osx-64::libwebp-1.2.2-h28dabe5_0\n",
      "  libwebp-base       conda-forge/osx-64::libwebp-base-1.2.2-h0d85af4_1\n",
      "  libxcb             conda-forge/osx-64::libxcb-1.13-h0d85af4_1004\n",
      "  lz4-c              conda-forge/osx-64::lz4-c-1.9.3-he49afe7_1\n",
      "  matplotlib         conda-forge/osx-64::matplotlib-3.5.1-py39h6e9494a_0\n",
      "  matplotlib-base    conda-forge/osx-64::matplotlib-base-3.5.1-py39hb07454d_0\n",
      "  munkres            conda-forge/noarch::munkres-1.1.4-pyh9f0ad1d_0\n",
      "  openjpeg           conda-forge/osx-64::openjpeg-2.4.0-h6e7aa92_1\n",
      "  pillow             conda-forge/osx-64::pillow-9.1.0-py39hd2c7aa1_0\n",
      "  pthread-stubs      conda-forge/osx-64::pthread-stubs-0.4-hc929b4f_1001\n",
      "  unicodedata2       conda-forge/osx-64::unicodedata2-14.0.0-py39h63b48b0_1\n",
      "  xorg-libxau        conda-forge/osx-64::xorg-libxau-1.0.9-h35c211d_0\n",
      "  xorg-libxdmcp      conda-forge/osx-64::xorg-libxdmcp-1.1.3-h35c211d_0\n",
      "  zstd               conda-forge/osx-64::zstd-1.5.2-h582d3a0_0\n",
      "\n",
      "The following packages will be UPDATED:\n",
      "\n",
      "  certifi                          2021.10.8-py39h6e9494a_1 --> 2021.10.8-py39h6e9494a_2\n",
      "\n",
      "\n",
      "\n",
      "Downloading and Extracting Packages\n",
      "libtiff-4.3.0        | 624 KB    | #################################### | 100% \n",
      "giflib-5.2.1         | 71 KB     | #################################### | 100% \n",
      "matplotlib-base-3.5. | 7.4 MB    | #################################### | 100% \n",
      "lerc-3.0             | 170 KB    | #################################### | 100% \n",
      "brotli-1.0.9         | 18 KB     | #################################### | 100% \n",
      "freetype-2.10.4      | 890 KB    | #################################### | 100% \n",
      "xorg-libxau-1.0.9    | 11 KB     | #################################### | 100% \n",
      "libpng-1.6.37        | 313 KB    | #################################### | 100% \n",
      "libbrotlienc-1.0.9   | 320 KB    | #################################### | 100% \n",
      "openjpeg-2.4.0       | 374 KB    | #################################### | 100% \n",
      "zstd-1.5.2           | 450 KB    | #################################### | 100% \n",
      "pillow-9.1.0         | 45.0 MB   | #################################### | 100% \n",
      "xorg-libxdmcp-1.1.3  | 17 KB     | #################################### | 100% \n",
      "libxcb-1.13          | 305 KB    | #################################### | 100% \n",
      "munkres-1.1.4        | 12 KB     | #################################### | 100% \n",
      "matplotlib-3.5.1     | 6 KB      | #################################### | 100% \n",
      "jbig-2.1             | 42 KB     | #################################### | 100% \n",
      "libbrotlidec-1.0.9   | 33 KB     | #################################### | 100% \n",
      "jpeg-9e              | 252 KB    | #################################### | 100% \n",
      "brotli-bin-1.0.9     | 17 KB     | #################################### | 100% \n",
      "libwebp-1.2.2        | 79 KB     | #################################### | 100% \n",
      "lcms2-2.12           | 404 KB    | #################################### | 100% \n",
      "cycler-0.11.0        | 10 KB     | #################################### | 100% \n",
      "unicodedata2-14.0.0  | 485 KB    | #################################### | 100% \n",
      "lz4-c-1.9.3          | 155 KB    | #################################### | 100% \n",
      "libbrotlicommon-1.0. | 63 KB     | #################################### | 100% \n",
      "libdeflate-1.10      | 78 KB     | #################################### | 100% \n",
      "fonttools-4.31.2     | 1.6 MB    | #################################### | 100% \n",
      "pthread-stubs-0.4    | 6 KB      | #################################### | 100% \n",
      "libwebp-base-1.2.2   | 703 KB    | #################################### | 100% \n",
      "kiwisolver-1.4.2     | 62 KB     | #################################### | 100% \n",
      "certifi-2021.10.8    | 144 KB    | #################################### | 100% \n",
      "Preparing transaction: ...working... done\n",
      "Verifying transaction: ...working... done\n",
      "Executing transaction: ...working... done\n"
     ]
    },
    {
     "name": "stderr",
     "output_type": "stream",
     "text": [
      "┌ Info: Installing matplotlib via the Conda matplotlib package...\n",
      "└ @ PyCall /Users/amisheth/.julia/packages/PyCall/7a7w0/src/PyCall.jl:711\n",
      "┌ Info: Running `conda install -y matplotlib` in root environment\n",
      "└ @ Conda /Users/amisheth/.julia/packages/Conda/x2UxR/src/Conda.jl:127\n"
     ]
    },
    {
     "data": {
      "image/png": "[encoded data removed]"
     },
     "execution_count": 5,
     "metadata": {},
     "output_type": "execute_result"
    }
   ],
   "source": [
    "pyplot()  # set the backend to PyPlot\n",
    "Plots.plot(x, title=\"Random walk\", xlab=\"time\")"
   ]
  },
  {
   "cell_type": "markdown",
   "metadata": {},
   "source": [
    "## Q5\n",
    "\n",
    "1. Show the **Sherman-Morrison formula**\n",
    "$$\n",
    "\t(\\mathbf{A} + \\mathbf{u} \\mathbf{u}^T)^{-1} = \\mathbf{A}^{-1} - \\frac{1}{1 + \\mathbf{u}^T \\mathbf{A}^{-1} \\mathbf{u}} \\mathbf{A}^{-1} \\mathbf{u} \\mathbf{u}^T \\mathbf{A}^{-1},\n",
    "$$\n",
    "where $\\mathbf{A} \\in \\mathbb{R}^{n \\times n}$ is nonsingular and $\\mathbf{u} \\in \\mathbb{R}^n$. This formula supplies the inverse of the symmetric, rank-one  perturbation of $\\mathbf{A}$.\n",
    "\n",
    "2. Show the **Woodbury formula**\n",
    "$$\n",
    "\t(\\mathbf{A} + \\mathbf{U} \\mathbf{V}^T)^{-1} = \\mathbf{A}^{-1} - \\mathbf{A}^{-1} \\mathbf{U} (\\mathbf{I}_m + \\mathbf{V}^T \\mathbf{A}^{-1} \\mathbf{U})^{-1} \\mathbf{V}^T \\mathbf{A}^{-1},\n",
    "$$\n",
    "where $\\mathbf{A} \\in \\mathbb{R}^{n \\times n}$ is nonsingular, $\\mathbf{U}, \\mathbf{V} \\in \\mathbb{R}^{n \\times m}$, and $\\mathbf{I}_m$ is the $m \\times m$ identity matrix. In many applications $m$ is much smaller than $n$. Woodbury formula generalizes Sherman-Morrison and is valuable because the smaller matrix $\\mathbf{I}_m + \\mathbf{V}^T \\mathbf{A}^{-1} \\mathbf{U}$ is cheaper to invert than the larger matrix $\\mathbf{A} + \\mathbf{U} \\mathbf{V}^T$.\n",
    "\n",
    "3. Show the **binomial inversion formula**\n",
    "$$\n",
    "\t(\\mathbf{A} + \\mathbf{U} \\mathbf{B} \\mathbf{V}^T)^{-1} = \\mathbf{A}^{-1} - \\mathbf{A}^{-1} \\mathbf{U} (\\mathbf{B}^{-1} + \\mathbf{V}^T \\mathbf{A}^{-1} \\mathbf{U})^{-1} \\mathbf{V}^T \\mathbf{A}^{-1},\n",
    "$$\n",
    "where $\\mathbf{A}$ and $\\mathbf{B}$ are nonsingular.\n",
    "\n",
    "4. Show the identity\n",
    "$$\n",
    "\t\\text{det}(\\mathbf{A} + \\mathbf{U} \\mathbf{V}^T) = \\text{det}(\\mathbf{A}) \\text{det}(\\mathbf{I}_m + \\mathbf{V}^T \\mathbf{A}^{-1} \\mathbf{U}).\n",
    "$$\n",
    "This formula is useful for evaluating the density of a multivariate normal with covariance matrix $\\mathbf{A} + \\mathbf{U} \\mathbf{V}^T$.\n",
    "\n",
    "**Hint**: 1 and 2 are special cases of 3."
   ]
  },
  {
   "cell_type": "markdown",
   "metadata": {},
   "source": [
    "## Q6\n",
    "\n",
    "Demonstrate the following facts about triangular and orthogonal matrices in Julia (one example for each fact). Mathematically curious ones are also encouraged to prove them. \n",
    "\n",
    "Note a unit triangular matrix is a triangular matrix with all diagonal entries being 1.\n",
    "\n",
    "1. The product of two upper (lower) triangular matrices is upper (lower) triangular.\n",
    "\n",
    "2. The inverse of an upper (lower) triangular matrix is upper (lower) triangular.\n",
    "\n",
    "3. The product of two unit upper (lower) triangular matrices is unit upper (lower) triangular.\n",
    "\n",
    "4. The inverse of a unit upper (lower) triangular matrix is unit upper (lower) triangular.\n",
    "\n",
    "5. An orthogonal upper (lower) triangular matrix is diagonal. (You just need to prove this.)\n",
    "\n",
    "6. The product of two orthogonal matrices is orthogonal."
   ]
  }
 ],
 "metadata": {
  "kernelspec": {
   "display_name": "Julia 1.7.2",
   "language": "julia",
   "name": "julia-1.7"
  },
  "language_info": {
   "file_extension": ".jl",
   "mimetype": "application/julia",
   "name": "julia",
   "version": "1.7.2"
  },
  "toc": {
   "colors": {
    "hover_highlight": "#DAA520",
    "running_highlight": "#FF0000",
    "selected_highlight": "#FFD700"
   },
   "moveMenuLeft": true,
   "nav_menu": {
    "height": "153px",
    "width": "252px"
   },
   "navigate_menu": true,
   "number_sections": false,
   "sideBar": true,
   "skip_h1_title": true,
   "threshold": 4,
   "toc_cell": false,
   "toc_section_display": "block",
   "toc_window_display": true,
   "widenNotebook": false
  },
  "toc-autonumbering": false
 },
 "nbformat": 4,
 "nbformat_minor": 4
}
